{
 "cells": [
  {
   "cell_type": "code",
   "execution_count": 113,
   "outputs": [],
   "source": [
    "from numpy import *\n",
    "import pandas as pd\n",
    "import seaborn as sns\n",
    "import matplotlib.pyplot as plt"
   ],
   "metadata": {
    "collapsed": false,
    "ExecuteTime": {
     "start_time": "2023-04-12T12:03:48.113523Z",
     "end_time": "2023-04-12T12:03:48.129827Z"
    }
   }
  },
  {
   "cell_type": "code",
   "execution_count": 114,
   "outputs": [],
   "source": [
    "train = pd.read_csv('../Data/train.csv', index_col=[0])\n",
    "test = pd.read_csv('../Data/test.csv', index_col=[0])"
   ],
   "metadata": {
    "collapsed": false,
    "ExecuteTime": {
     "start_time": "2023-04-12T12:03:48.279610Z",
     "end_time": "2023-04-12T12:03:48.310776Z"
    }
   }
  },
  {
   "cell_type": "code",
   "execution_count": 115,
   "outputs": [],
   "source": [
    "Xtrain = pd.read_csv('../Data/New/XtrainNew.csv', index_col=[0])\n",
    "Xtest = pd.read_csv('../Data/New/XtestNew.csv', index_col=[0])"
   ],
   "metadata": {
    "collapsed": false,
    "ExecuteTime": {
     "start_time": "2023-04-12T12:03:48.661293Z",
     "end_time": "2023-04-12T12:03:48.714073Z"
    }
   }
  },
  {
   "cell_type": "code",
   "execution_count": 116,
   "outputs": [
    {
     "data": {
      "text/plain": "                                                   0\n0            really recommend anyone need new player\n1  good every day camera fit nicely pocket jean t...\n2             dollar dollar dvd player probably best\n3               got phone yesterday find problem yet\n4                                   price gb storage",
      "text/html": "<div>\n<style scoped>\n    .dataframe tbody tr th:only-of-type {\n        vertical-align: middle;\n    }\n\n    .dataframe tbody tr th {\n        vertical-align: top;\n    }\n\n    .dataframe thead th {\n        text-align: right;\n    }\n</style>\n<table border=\"1\" class=\"dataframe\">\n  <thead>\n    <tr style=\"text-align: right;\">\n      <th></th>\n      <th>0</th>\n    </tr>\n  </thead>\n  <tbody>\n    <tr>\n      <th>0</th>\n      <td>really recommend anyone need new player</td>\n    </tr>\n    <tr>\n      <th>1</th>\n      <td>good every day camera fit nicely pocket jean t...</td>\n    </tr>\n    <tr>\n      <th>2</th>\n      <td>dollar dollar dvd player probably best</td>\n    </tr>\n    <tr>\n      <th>3</th>\n      <td>got phone yesterday find problem yet</td>\n    </tr>\n    <tr>\n      <th>4</th>\n      <td>price gb storage</td>\n    </tr>\n  </tbody>\n</table>\n</div>"
     },
     "execution_count": 116,
     "metadata": {},
     "output_type": "execute_result"
    }
   ],
   "source": [
    "Xtrain.head()"
   ],
   "metadata": {
    "collapsed": false,
    "ExecuteTime": {
     "start_time": "2023-04-12T12:03:48.701613Z",
     "end_time": "2023-04-12T12:03:48.715205Z"
    }
   }
  },
  {
   "cell_type": "code",
   "execution_count": 117,
   "outputs": [],
   "source": [
    "from sklearn.feature_extraction.text import TfidfVectorizer\n",
    "from nltk import word_tokenize\n",
    "from nltk.stem import WordNetLemmatizer\n",
    "import nltk as nlp\n",
    "from nltk.corpus import stopwords"
   ],
   "metadata": {
    "collapsed": false,
    "ExecuteTime": {
     "start_time": "2023-04-12T12:03:48.758630Z",
     "end_time": "2023-04-12T12:03:48.867572Z"
    }
   }
  },
  {
   "cell_type": "code",
   "execution_count": 118,
   "outputs": [],
   "source": [
    "import re\n",
    "\n",
    "def tokenizar(texto):\n",
    "    '''\n",
    "    Esta función limpia y tokeniza el texto en palabras individuales.\n",
    "    El orden en el que se va limpiando el texto no es arbitrario.\n",
    "    El listado de signos de puntuación se ha obtenido de: print(string.punctuation)\n",
    "    y re.escape(string.punctuation)\n",
    "    '''\n",
    "\n",
    "    # Se convierte t0do el texto a minúsculas\n",
    "    nuevo_texto = texto.lower()\n",
    "    # Eliminación de signos de puntuación\n",
    "    regex = '[\\\\!\\\\\"\\\\#\\\\$\\\\%\\\\&\\\\\\'\\\\(\\\\)\\\\*\\\\+\\\\,\\\\-\\\\.\\\\/\\\\:\\\\;\\\\<\\\\=\\\\>\\\\?\\\\@\\\\[\\\\\\\\\\\\]\\\\^_\\\\`\\\\{\\\\|\\\\}\\\\~]'\n",
    "    nuevo_texto = re.sub(regex , ' ', nuevo_texto)\n",
    "    # Eliminación de números\n",
    "    nuevo_texto = re.sub(\"\\d+\", ' ', nuevo_texto)\n",
    "    # Eliminación de espacios en blanco múltiples\n",
    "    nuevo_texto = re.sub(\"\\\\s+\", ' ', nuevo_texto)\n",
    "    # Tokenización por palabras individuales\n",
    "    nuevo_texto = nuevo_texto.split(sep = ' ')\n",
    "    # Eliminación de tokens con una longitud < 2\n",
    "    nuevo_texto = [token for token in nuevo_texto if len(token) > 1]\n",
    "\n",
    "    return(nuevo_texto)"
   ],
   "metadata": {
    "collapsed": false,
    "ExecuteTime": {
     "start_time": "2023-04-12T12:03:48.889148Z",
     "end_time": "2023-04-12T12:03:49.056732Z"
    }
   }
  },
  {
   "cell_type": "code",
   "execution_count": 119,
   "outputs": [],
   "source": [
    "# Obtain list of stopwords\n",
    "stop_words = set(stopwords.words('english'))"
   ],
   "metadata": {
    "collapsed": false,
    "ExecuteTime": {
     "start_time": "2023-04-12T12:03:49.335344Z",
     "end_time": "2023-04-12T12:03:49.377303Z"
    }
   }
  },
  {
   "cell_type": "code",
   "execution_count": 120,
   "outputs": [],
   "source": [
    "Xtrain['text'] = train.text"
   ],
   "metadata": {
    "collapsed": false,
    "ExecuteTime": {
     "start_time": "2023-04-12T12:03:49.349267Z",
     "end_time": "2023-04-12T12:03:49.377581Z"
    }
   }
  },
  {
   "cell_type": "code",
   "execution_count": 121,
   "outputs": [
    {
     "data": {
      "text/plain": "0                 NaN\ntext    it has it all\nName: 1655, dtype: object"
     },
     "execution_count": 121,
     "metadata": {},
     "output_type": "execute_result"
    }
   ],
   "source": [
    "Xtrain.iloc[1655,:]"
   ],
   "metadata": {
    "collapsed": false,
    "ExecuteTime": {
     "start_time": "2023-04-12T12:03:49.811795Z",
     "end_time": "2023-04-12T12:03:49.863933Z"
    }
   }
  },
  {
   "cell_type": "code",
   "execution_count": 122,
   "outputs": [],
   "source": [
    "Xtrain.iloc[1655,0] = 'it has it all'"
   ],
   "metadata": {
    "collapsed": false,
    "ExecuteTime": {
     "start_time": "2023-04-12T12:03:50.171870Z",
     "end_time": "2023-04-12T12:03:50.184128Z"
    }
   }
  },
  {
   "cell_type": "code",
   "execution_count": 123,
   "outputs": [
    {
     "data": {
      "text/plain": "TfidfVectorizer(min_df=2,\n                stop_words={'a', 'about', 'above', 'after', 'again', 'against',\n                            'ain', 'all', 'am', 'an', 'and', 'any', 'are',\n                            'aren', \"aren't\", 'as', 'at', 'be', 'because',\n                            'been', 'before', 'being', 'below', 'between',\n                            'both', 'but', 'by', 'can', 'couldn', \"couldn't\", ...})"
     },
     "execution_count": 123,
     "metadata": {},
     "output_type": "execute_result"
    }
   ],
   "source": [
    "tfidf_vectorizador = TfidfVectorizer(stop_words=stop_words ,min_df=2)\n",
    "tfidf_vectorizador.fit(Xtrain['0'])"
   ],
   "metadata": {
    "collapsed": false,
    "ExecuteTime": {
     "start_time": "2023-04-12T12:03:50.757031Z",
     "end_time": "2023-04-12T12:03:50.832612Z"
    }
   }
  },
  {
   "cell_type": "code",
   "execution_count": 124,
   "outputs": [],
   "source": [
    "Xtrain = tfidf_vectorizador.fit_transform(Xtrain['0'])\n",
    "Xtest = tfidf_vectorizador.transform(Xtest['0'])"
   ],
   "metadata": {
    "collapsed": false,
    "ExecuteTime": {
     "start_time": "2023-04-12T12:03:53.874664Z",
     "end_time": "2023-04-12T12:03:53.960408Z"
    }
   }
  },
  {
   "cell_type": "code",
   "execution_count": 125,
   "outputs": [],
   "source": [
    "Ytrain = train.label"
   ],
   "metadata": {
    "collapsed": false,
    "ExecuteTime": {
     "start_time": "2023-04-12T12:03:54.425131Z",
     "end_time": "2023-04-12T12:03:54.440001Z"
    }
   }
  },
  {
   "cell_type": "code",
   "execution_count": 126,
   "outputs": [
    {
     "data": {
      "text/plain": "      ability  able  absolute  absolutely   ac  acceptable  access  \\\n0         0.0   0.0       0.0         0.0  0.0         0.0     0.0   \n1         0.0   0.0       0.0         0.0  0.0         0.0     0.0   \n2         0.0   0.0       0.0         0.0  0.0         0.0     0.0   \n3         0.0   0.0       0.0         0.0  0.0         0.0     0.0   \n4         0.0   0.0       0.0         0.0  0.0         0.0     0.0   \n...       ...   ...       ...         ...  ...         ...     ...   \n3011      0.0   0.0       0.0         0.0  0.0         0.0     0.0   \n3012      0.0   0.0       0.0         0.0  0.0         0.0     0.0   \n3013      0.0   0.0       0.0         0.0  0.0         0.0     0.0   \n3014      0.0   0.0       0.0         0.0  0.0         0.0     0.0   \n3015      0.0   0.0       0.0         0.0  0.0         0.0     0.0   \n\n      accessible  accessing  accessory  ...  yes  yesterday       yet  yield  \\\n0            0.0        0.0        0.0  ...  0.0   0.000000  0.000000    0.0   \n1            0.0        0.0        0.0  ...  0.0   0.000000  0.000000    0.0   \n2            0.0        0.0        0.0  ...  0.0   0.000000  0.000000    0.0   \n3            0.0        0.0        0.0  ...  0.0   0.568211  0.454485    0.0   \n4            0.0        0.0        0.0  ...  0.0   0.000000  0.000000    0.0   \n...          ...        ...        ...  ...  ...        ...       ...    ...   \n3011         0.0        0.0        0.0  ...  0.0   0.000000  0.000000    0.0   \n3012         0.0        0.0        0.0  ...  0.0   0.000000  0.452703    0.0   \n3013         0.0        0.0        0.0  ...  0.0   0.000000  0.000000    0.0   \n3014         0.0        0.0        0.0  ...  0.0   0.000000  0.000000    0.0   \n3015         0.0        0.0        0.0  ...  0.0   0.000000  0.000000    0.0   \n\n      zealand  zen  zennx  zero  zone  zoom  \n0         0.0  0.0    0.0   0.0   0.0   0.0  \n1         0.0  0.0    0.0   0.0   0.0   0.0  \n2         0.0  0.0    0.0   0.0   0.0   0.0  \n3         0.0  0.0    0.0   0.0   0.0   0.0  \n4         0.0  0.0    0.0   0.0   0.0   0.0  \n...       ...  ...    ...   ...   ...   ...  \n3011      0.0  0.0    0.0   0.0   0.0   0.0  \n3012      0.0  0.0    0.0   0.0   0.0   0.0  \n3013      0.0  0.0    0.0   0.0   0.0   0.0  \n3014      0.0  0.0    0.0   0.0   0.0   0.0  \n3015      0.0  0.0    0.0   0.0   0.0   0.0  \n\n[3016 rows x 2147 columns]",
      "text/html": "<div>\n<style scoped>\n    .dataframe tbody tr th:only-of-type {\n        vertical-align: middle;\n    }\n\n    .dataframe tbody tr th {\n        vertical-align: top;\n    }\n\n    .dataframe thead th {\n        text-align: right;\n    }\n</style>\n<table border=\"1\" class=\"dataframe\">\n  <thead>\n    <tr style=\"text-align: right;\">\n      <th></th>\n      <th>ability</th>\n      <th>able</th>\n      <th>absolute</th>\n      <th>absolutely</th>\n      <th>ac</th>\n      <th>acceptable</th>\n      <th>access</th>\n      <th>accessible</th>\n      <th>accessing</th>\n      <th>accessory</th>\n      <th>...</th>\n      <th>yes</th>\n      <th>yesterday</th>\n      <th>yet</th>\n      <th>yield</th>\n      <th>zealand</th>\n      <th>zen</th>\n      <th>zennx</th>\n      <th>zero</th>\n      <th>zone</th>\n      <th>zoom</th>\n    </tr>\n  </thead>\n  <tbody>\n    <tr>\n      <th>0</th>\n      <td>0.0</td>\n      <td>0.0</td>\n      <td>0.0</td>\n      <td>0.0</td>\n      <td>0.0</td>\n      <td>0.0</td>\n      <td>0.0</td>\n      <td>0.0</td>\n      <td>0.0</td>\n      <td>0.0</td>\n      <td>...</td>\n      <td>0.0</td>\n      <td>0.000000</td>\n      <td>0.000000</td>\n      <td>0.0</td>\n      <td>0.0</td>\n      <td>0.0</td>\n      <td>0.0</td>\n      <td>0.0</td>\n      <td>0.0</td>\n      <td>0.0</td>\n    </tr>\n    <tr>\n      <th>1</th>\n      <td>0.0</td>\n      <td>0.0</td>\n      <td>0.0</td>\n      <td>0.0</td>\n      <td>0.0</td>\n      <td>0.0</td>\n      <td>0.0</td>\n      <td>0.0</td>\n      <td>0.0</td>\n      <td>0.0</td>\n      <td>...</td>\n      <td>0.0</td>\n      <td>0.000000</td>\n      <td>0.000000</td>\n      <td>0.0</td>\n      <td>0.0</td>\n      <td>0.0</td>\n      <td>0.0</td>\n      <td>0.0</td>\n      <td>0.0</td>\n      <td>0.0</td>\n    </tr>\n    <tr>\n      <th>2</th>\n      <td>0.0</td>\n      <td>0.0</td>\n      <td>0.0</td>\n      <td>0.0</td>\n      <td>0.0</td>\n      <td>0.0</td>\n      <td>0.0</td>\n      <td>0.0</td>\n      <td>0.0</td>\n      <td>0.0</td>\n      <td>...</td>\n      <td>0.0</td>\n      <td>0.000000</td>\n      <td>0.000000</td>\n      <td>0.0</td>\n      <td>0.0</td>\n      <td>0.0</td>\n      <td>0.0</td>\n      <td>0.0</td>\n      <td>0.0</td>\n      <td>0.0</td>\n    </tr>\n    <tr>\n      <th>3</th>\n      <td>0.0</td>\n      <td>0.0</td>\n      <td>0.0</td>\n      <td>0.0</td>\n      <td>0.0</td>\n      <td>0.0</td>\n      <td>0.0</td>\n      <td>0.0</td>\n      <td>0.0</td>\n      <td>0.0</td>\n      <td>...</td>\n      <td>0.0</td>\n      <td>0.568211</td>\n      <td>0.454485</td>\n      <td>0.0</td>\n      <td>0.0</td>\n      <td>0.0</td>\n      <td>0.0</td>\n      <td>0.0</td>\n      <td>0.0</td>\n      <td>0.0</td>\n    </tr>\n    <tr>\n      <th>4</th>\n      <td>0.0</td>\n      <td>0.0</td>\n      <td>0.0</td>\n      <td>0.0</td>\n      <td>0.0</td>\n      <td>0.0</td>\n      <td>0.0</td>\n      <td>0.0</td>\n      <td>0.0</td>\n      <td>0.0</td>\n      <td>...</td>\n      <td>0.0</td>\n      <td>0.000000</td>\n      <td>0.000000</td>\n      <td>0.0</td>\n      <td>0.0</td>\n      <td>0.0</td>\n      <td>0.0</td>\n      <td>0.0</td>\n      <td>0.0</td>\n      <td>0.0</td>\n    </tr>\n    <tr>\n      <th>...</th>\n      <td>...</td>\n      <td>...</td>\n      <td>...</td>\n      <td>...</td>\n      <td>...</td>\n      <td>...</td>\n      <td>...</td>\n      <td>...</td>\n      <td>...</td>\n      <td>...</td>\n      <td>...</td>\n      <td>...</td>\n      <td>...</td>\n      <td>...</td>\n      <td>...</td>\n      <td>...</td>\n      <td>...</td>\n      <td>...</td>\n      <td>...</td>\n      <td>...</td>\n      <td>...</td>\n    </tr>\n    <tr>\n      <th>3011</th>\n      <td>0.0</td>\n      <td>0.0</td>\n      <td>0.0</td>\n      <td>0.0</td>\n      <td>0.0</td>\n      <td>0.0</td>\n      <td>0.0</td>\n      <td>0.0</td>\n      <td>0.0</td>\n      <td>0.0</td>\n      <td>...</td>\n      <td>0.0</td>\n      <td>0.000000</td>\n      <td>0.000000</td>\n      <td>0.0</td>\n      <td>0.0</td>\n      <td>0.0</td>\n      <td>0.0</td>\n      <td>0.0</td>\n      <td>0.0</td>\n      <td>0.0</td>\n    </tr>\n    <tr>\n      <th>3012</th>\n      <td>0.0</td>\n      <td>0.0</td>\n      <td>0.0</td>\n      <td>0.0</td>\n      <td>0.0</td>\n      <td>0.0</td>\n      <td>0.0</td>\n      <td>0.0</td>\n      <td>0.0</td>\n      <td>0.0</td>\n      <td>...</td>\n      <td>0.0</td>\n      <td>0.000000</td>\n      <td>0.452703</td>\n      <td>0.0</td>\n      <td>0.0</td>\n      <td>0.0</td>\n      <td>0.0</td>\n      <td>0.0</td>\n      <td>0.0</td>\n      <td>0.0</td>\n    </tr>\n    <tr>\n      <th>3013</th>\n      <td>0.0</td>\n      <td>0.0</td>\n      <td>0.0</td>\n      <td>0.0</td>\n      <td>0.0</td>\n      <td>0.0</td>\n      <td>0.0</td>\n      <td>0.0</td>\n      <td>0.0</td>\n      <td>0.0</td>\n      <td>...</td>\n      <td>0.0</td>\n      <td>0.000000</td>\n      <td>0.000000</td>\n      <td>0.0</td>\n      <td>0.0</td>\n      <td>0.0</td>\n      <td>0.0</td>\n      <td>0.0</td>\n      <td>0.0</td>\n      <td>0.0</td>\n    </tr>\n    <tr>\n      <th>3014</th>\n      <td>0.0</td>\n      <td>0.0</td>\n      <td>0.0</td>\n      <td>0.0</td>\n      <td>0.0</td>\n      <td>0.0</td>\n      <td>0.0</td>\n      <td>0.0</td>\n      <td>0.0</td>\n      <td>0.0</td>\n      <td>...</td>\n      <td>0.0</td>\n      <td>0.000000</td>\n      <td>0.000000</td>\n      <td>0.0</td>\n      <td>0.0</td>\n      <td>0.0</td>\n      <td>0.0</td>\n      <td>0.0</td>\n      <td>0.0</td>\n      <td>0.0</td>\n    </tr>\n    <tr>\n      <th>3015</th>\n      <td>0.0</td>\n      <td>0.0</td>\n      <td>0.0</td>\n      <td>0.0</td>\n      <td>0.0</td>\n      <td>0.0</td>\n      <td>0.0</td>\n      <td>0.0</td>\n      <td>0.0</td>\n      <td>0.0</td>\n      <td>...</td>\n      <td>0.0</td>\n      <td>0.000000</td>\n      <td>0.000000</td>\n      <td>0.0</td>\n      <td>0.0</td>\n      <td>0.0</td>\n      <td>0.0</td>\n      <td>0.0</td>\n      <td>0.0</td>\n      <td>0.0</td>\n    </tr>\n  </tbody>\n</table>\n<p>3016 rows × 2147 columns</p>\n</div>"
     },
     "execution_count": 126,
     "metadata": {},
     "output_type": "execute_result"
    }
   ],
   "source": [
    "pd.DataFrame(Xtrain.toarray(), columns=tfidf_vectorizador.get_feature_names_out())"
   ],
   "metadata": {
    "collapsed": false,
    "ExecuteTime": {
     "start_time": "2023-04-12T12:03:54.969606Z",
     "end_time": "2023-04-12T12:03:55.074851Z"
    }
   }
  },
  {
   "cell_type": "code",
   "execution_count": 111,
   "outputs": [],
   "source": [
    "from sklearn.linear_model import LogisticRegression\n",
    "from sklearn.tree import DecisionTreeClassifier\n",
    "from sklearn.neighbors import KNeighborsClassifier\n",
    "from sklearn.discriminant_analysis import LinearDiscriminantAnalysis\n",
    "from sklearn.naive_bayes import GaussianNB\n",
    "from sklearn.ensemble import RandomForestClassifier\n",
    "from sklearn.tree import DecisionTreeClassifier\n",
    "from sklearn.ensemble import BaggingClassifier\n",
    "from sklearn.ensemble import GradientBoostingClassifier\n",
    "from sklearn.ensemble import StackingClassifier\n",
    "from xgboost import XGBClassifier\n",
    "from sklearn.svm import SVC\n",
    "from sklearn.neighbors import KNeighborsClassifier\n",
    "from sklearn.discriminant_analysis import LinearDiscriminantAnalysis\n",
    "from sklearn.naive_bayes import GaussianNB\n",
    "from sklearn.model_selection import KFold\n",
    "from sklearn.model_selection import cross_val_score\n",
    "from sklearn.model_selection import GridSearchCV\n",
    "from sklearn.model_selection import train_test_split\n",
    "from sklearn.metrics import classification_report"
   ],
   "metadata": {
    "collapsed": false,
    "ExecuteTime": {
     "start_time": "2023-04-12T12:03:27.117264Z",
     "end_time": "2023-04-12T12:03:27.131844Z"
    }
   }
  },
  {
   "cell_type": "code",
   "execution_count": 78,
   "outputs": [],
   "source": [
    "kf = KFold(n_splits=5, shuffle=True, random_state=0)"
   ],
   "metadata": {
    "collapsed": false,
    "ExecuteTime": {
     "start_time": "2023-04-12T12:00:18.137011Z",
     "end_time": "2023-04-12T12:00:18.149086Z"
    }
   }
  },
  {
   "cell_type": "code",
   "execution_count": 60,
   "outputs": [],
   "source": [
    "models = []\n",
    "models.append(('glm', LogisticRegression(random_state=99)))\n",
    "models.append(('dectree', DecisionTreeClassifier(random_state=99)))\n",
    "models.append(('rf', RandomForestClassifier(random_state=99)))\n",
    "models.append(('gb', GradientBoostingClassifier(random_state=99)))\n",
    "models.append(('xgb', XGBClassifier()))\n",
    "models.append(('bag', BaggingClassifier(random_state=99)))\n",
    "models.append(('svmr', SVC(random_state=99)))\n",
    "models.append(('svml', SVC(kernel='linear', random_state=99)))\n",
    "\n",
    "\n",
    "def boxplots_algorithms(results, names):\n",
    "    plt.figure(figsize=(8, 8))\n",
    "    plt.boxplot(results)\n",
    "    plt.xticks(range(1, len(names) + 1), names)\n",
    "    plt.show()"
   ],
   "metadata": {
    "collapsed": false,
    "ExecuteTime": {
     "start_time": "2023-04-12T11:54:49.352430Z",
     "end_time": "2023-04-12T11:54:49.479293Z"
    }
   }
  },
  {
   "cell_type": "code",
   "execution_count": 61,
   "outputs": [
    {
     "data": {
      "text/plain": "<Figure size 800x800 with 1 Axes>",
      "image/png": "[encoded data removed]"
     },
     "metadata": {},
     "output_type": "display_data"
    }
   ],
   "source": [
    "results = []\n",
    "names = []\n",
    "\n",
    "for name, model in models:\n",
    "    acc = cross_val_score(model, Xtrain, Ytrain, cv=kf, scoring='f1')\n",
    "    names.append(name)\n",
    "    results.append(acc)\n",
    "\n",
    "boxplots_algorithms(results, names)"
   ],
   "metadata": {
    "collapsed": false,
    "ExecuteTime": {
     "start_time": "2023-04-12T11:54:49.531086Z",
     "end_time": "2023-04-12T11:55:31.231805Z"
    }
   }
  },
  {
   "cell_type": "code",
   "execution_count": 127,
   "outputs": [
    {
     "data": {
      "text/plain": "0.832914539551948"
     },
     "execution_count": 127,
     "metadata": {},
     "output_type": "execute_result"
    }
   ],
   "source": [
    "svm = SVC(random_state=99, kernel = 'linear')\n",
    "svm.fit(Xtrain,Ytrain)\n",
    "mean(cross_val_score(svm,Xtrain,Ytrain,scoring = 'f1',cv = kf))"
   ],
   "metadata": {
    "collapsed": false,
    "ExecuteTime": {
     "start_time": "2023-04-12T12:03:58.937161Z",
     "end_time": "2023-04-12T12:04:02.653708Z"
    }
   }
  },
  {
   "cell_type": "code",
   "execution_count": 20,
   "outputs": [
    {
     "data": {
      "text/plain": "0.7715566757822367"
     },
     "execution_count": 20,
     "metadata": {},
     "output_type": "execute_result"
    }
   ],
   "source": [
    "mean(cross_val_score(svm,Xtrain,Ytrain,scoring = 'accuracy',cv = kf))"
   ],
   "metadata": {
    "collapsed": false,
    "ExecuteTime": {
     "start_time": "2023-04-12T11:53:26.920879Z",
     "end_time": "2023-04-12T11:53:29.400152Z"
    }
   }
  },
  {
   "cell_type": "code",
   "execution_count": 21,
   "outputs": [
    {
     "data": {
      "text/plain": "    ability      able  absolutely        ac    access  accessory    action  \\\n0 -0.087079  0.021907    0.362588  0.290101 -0.350526   0.075192 -1.221359   \n\n   actually      ad   adapter  ...    wrong       wrt       xp      xtra  \\\n0  0.604809  0.3135  1.223887  ... -0.55696  0.099618  0.07175  0.230176   \n\n       year       yes       yet       zen      zero      zoom  \n0 -0.149539 -0.814996  1.151072  0.647621 -0.933328 -0.284555  \n\n[1 rows x 1026 columns]",
      "text/html": "<div>\n<style scoped>\n    .dataframe tbody tr th:only-of-type {\n        vertical-align: middle;\n    }\n\n    .dataframe tbody tr th {\n        vertical-align: top;\n    }\n\n    .dataframe thead th {\n        text-align: right;\n    }\n</style>\n<table border=\"1\" class=\"dataframe\">\n  <thead>\n    <tr style=\"text-align: right;\">\n      <th></th>\n      <th>ability</th>\n      <th>able</th>\n      <th>absolutely</th>\n      <th>ac</th>\n      <th>access</th>\n      <th>accessory</th>\n      <th>action</th>\n      <th>actually</th>\n      <th>ad</th>\n      <th>adapter</th>\n      <th>...</th>\n      <th>wrong</th>\n      <th>wrt</th>\n      <th>xp</th>\n      <th>xtra</th>\n      <th>year</th>\n      <th>yes</th>\n      <th>yet</th>\n      <th>zen</th>\n      <th>zero</th>\n      <th>zoom</th>\n    </tr>\n  </thead>\n  <tbody>\n    <tr>\n      <th>0</th>\n      <td>-0.087079</td>\n      <td>0.021907</td>\n      <td>0.362588</td>\n      <td>0.290101</td>\n      <td>-0.350526</td>\n      <td>0.075192</td>\n      <td>-1.221359</td>\n      <td>0.604809</td>\n      <td>0.3135</td>\n      <td>1.223887</td>\n      <td>...</td>\n      <td>-0.55696</td>\n      <td>0.099618</td>\n      <td>0.07175</td>\n      <td>0.230176</td>\n      <td>-0.149539</td>\n      <td>-0.814996</td>\n      <td>1.151072</td>\n      <td>0.647621</td>\n      <td>-0.933328</td>\n      <td>-0.284555</td>\n    </tr>\n  </tbody>\n</table>\n<p>1 rows × 1026 columns</p>\n</div>"
     },
     "execution_count": 21,
     "metadata": {},
     "output_type": "execute_result"
    }
   ],
   "source": [
    "data = pd.DataFrame(svm.coef_.toarray(), columns=tfidf_vectorizador.get_feature_names_out())\n",
    "data"
   ],
   "metadata": {
    "collapsed": false,
    "ExecuteTime": {
     "start_time": "2023-04-12T11:53:29.399436Z",
     "end_time": "2023-04-12T11:53:29.444879Z"
    }
   }
  },
  {
   "cell_type": "code",
   "execution_count": 22,
   "outputs": [
    {
     "data": {
      "text/plain": "                   0\nability    -0.087079\nable        0.021907\nabsolutely  0.362588\nac          0.290101\naccess     -0.350526\n...              ...\nyes        -0.814996\nyet         1.151072\nzen         0.647621\nzero       -0.933328\nzoom       -0.284555\n\n[1026 rows x 1 columns]",
      "text/html": "<div>\n<style scoped>\n    .dataframe tbody tr th:only-of-type {\n        vertical-align: middle;\n    }\n\n    .dataframe tbody tr th {\n        vertical-align: top;\n    }\n\n    .dataframe thead th {\n        text-align: right;\n    }\n</style>\n<table border=\"1\" class=\"dataframe\">\n  <thead>\n    <tr style=\"text-align: right;\">\n      <th></th>\n      <th>0</th>\n    </tr>\n  </thead>\n  <tbody>\n    <tr>\n      <th>ability</th>\n      <td>-0.087079</td>\n    </tr>\n    <tr>\n      <th>able</th>\n      <td>0.021907</td>\n    </tr>\n    <tr>\n      <th>absolutely</th>\n      <td>0.362588</td>\n    </tr>\n    <tr>\n      <th>ac</th>\n      <td>0.290101</td>\n    </tr>\n    <tr>\n      <th>access</th>\n      <td>-0.350526</td>\n    </tr>\n    <tr>\n      <th>...</th>\n      <td>...</td>\n    </tr>\n    <tr>\n      <th>yes</th>\n      <td>-0.814996</td>\n    </tr>\n    <tr>\n      <th>yet</th>\n      <td>1.151072</td>\n    </tr>\n    <tr>\n      <th>zen</th>\n      <td>0.647621</td>\n    </tr>\n    <tr>\n      <th>zero</th>\n      <td>-0.933328</td>\n    </tr>\n    <tr>\n      <th>zoom</th>\n      <td>-0.284555</td>\n    </tr>\n  </tbody>\n</table>\n<p>1026 rows × 1 columns</p>\n</div>"
     },
     "execution_count": 22,
     "metadata": {},
     "output_type": "execute_result"
    }
   ],
   "source": [
    "data = data.T\n",
    "data"
   ],
   "metadata": {
    "collapsed": false,
    "ExecuteTime": {
     "start_time": "2023-04-12T11:53:29.438710Z",
     "end_time": "2023-04-12T11:53:29.460890Z"
    }
   }
  },
  {
   "cell_type": "code",
   "execution_count": 23,
   "outputs": [
    {
     "data": {
      "text/plain": "          index         0       abs\n376       great  2.877907  2.877907\n779     scratch -2.542112  2.542112\n1015      would -2.235992  2.235992\n503        love  2.220249  2.220249\n372        good  2.219290  2.219290\n...         ...       ...       ...\n542        mini  0.000921  0.000921\n46      appears  0.000351  0.000351\n683   powershot  0.000000  0.000000\n792   selection  0.000000  0.000000\n453     kitchen  0.000000  0.000000\n\n[1026 rows x 3 columns]",
      "text/html": "<div>\n<style scoped>\n    .dataframe tbody tr th:only-of-type {\n        vertical-align: middle;\n    }\n\n    .dataframe tbody tr th {\n        vertical-align: top;\n    }\n\n    .dataframe thead th {\n        text-align: right;\n    }\n</style>\n<table border=\"1\" class=\"dataframe\">\n  <thead>\n    <tr style=\"text-align: right;\">\n      <th></th>\n      <th>index</th>\n      <th>0</th>\n      <th>abs</th>\n    </tr>\n  </thead>\n  <tbody>\n    <tr>\n      <th>376</th>\n      <td>great</td>\n      <td>2.877907</td>\n      <td>2.877907</td>\n    </tr>\n    <tr>\n      <th>779</th>\n      <td>scratch</td>\n      <td>-2.542112</td>\n      <td>2.542112</td>\n    </tr>\n    <tr>\n      <th>1015</th>\n      <td>would</td>\n      <td>-2.235992</td>\n      <td>2.235992</td>\n    </tr>\n    <tr>\n      <th>503</th>\n      <td>love</td>\n      <td>2.220249</td>\n      <td>2.220249</td>\n    </tr>\n    <tr>\n      <th>372</th>\n      <td>good</td>\n      <td>2.219290</td>\n      <td>2.219290</td>\n    </tr>\n    <tr>\n      <th>...</th>\n      <td>...</td>\n      <td>...</td>\n      <td>...</td>\n    </tr>\n    <tr>\n      <th>542</th>\n      <td>mini</td>\n      <td>0.000921</td>\n      <td>0.000921</td>\n    </tr>\n    <tr>\n      <th>46</th>\n      <td>appears</td>\n      <td>0.000351</td>\n      <td>0.000351</td>\n    </tr>\n    <tr>\n      <th>683</th>\n      <td>powershot</td>\n      <td>0.000000</td>\n      <td>0.000000</td>\n    </tr>\n    <tr>\n      <th>792</th>\n      <td>selection</td>\n      <td>0.000000</td>\n      <td>0.000000</td>\n    </tr>\n    <tr>\n      <th>453</th>\n      <td>kitchen</td>\n      <td>0.000000</td>\n      <td>0.000000</td>\n    </tr>\n  </tbody>\n</table>\n<p>1026 rows × 3 columns</p>\n</div>"
     },
     "execution_count": 23,
     "metadata": {},
     "output_type": "execute_result"
    }
   ],
   "source": [
    "data['abs'] = abs(data)\n",
    "data.reset_index(inplace= True)\n",
    "data.sort_values(by = 'abs', ascending= False)"
   ],
   "metadata": {
    "collapsed": false,
    "ExecuteTime": {
     "start_time": "2023-04-12T11:53:29.459545Z",
     "end_time": "2023-04-12T11:53:29.505028Z"
    }
   }
  },
  {
   "cell_type": "code",
   "execution_count": 24,
   "outputs": [
    {
     "data": {
      "text/plain": "<Figure size 4000x1000 with 1 Axes>",
      "image/png": "[encoded data removed]"
     },
     "metadata": {},
     "output_type": "display_data"
    }
   ],
   "source": [
    "data = data.sort_values(by = 'abs', ascending= False)\n",
    "plt.figure(figsize=(40,10))\n",
    "sns.barplot(data = data.iloc[:20,:], x = 'index' ,y = 'abs')\n",
    "plt.show()"
   ],
   "metadata": {
    "collapsed": false,
    "ExecuteTime": {
     "start_time": "2023-04-12T11:53:29.507836Z",
     "end_time": "2023-04-12T11:53:30.064304Z"
    }
   }
  },
  {
   "cell_type": "code",
   "execution_count": 24,
   "outputs": [],
   "source": [],
   "metadata": {
    "collapsed": false,
    "ExecuteTime": {
     "start_time": "2023-04-12T11:53:30.062505Z",
     "end_time": "2023-04-12T11:53:30.068378Z"
    }
   }
  }
 ],
 "metadata": {
  "kernelspec": {
   "display_name": "Python 3",
   "language": "python",
   "name": "python3"
  },
  "language_info": {
   "codemirror_mode": {
    "name": "ipython",
    "version": 2
   },
   "file_extension": ".py",
   "mimetype": "text/x-python",
   "name": "python",
   "nbconvert_exporter": "python",
   "pygments_lexer": "ipython2",
   "version": "2.7.6"
  }
 },
 "nbformat": 4,
 "nbformat_minor": 0
}
