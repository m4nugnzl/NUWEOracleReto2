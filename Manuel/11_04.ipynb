{
 "cells": [
  {
   "cell_type": "markdown",
   "source": [
    "# Oracle-Reto 2: Análisis de sentimiento\n",
    "\n",
    "*NUWE EVA*, la cadena de restauración fast food y healthy, sigue creciendo y queremos dar un paso más para mejorar y ofrecer el mejor servicio posible a nuestros clientes.\n",
    "\n",
    "Queremos evolucionar y ofrecer nuevas capacidades a nuestro robot y talentoso camarero, *EVA*, añadiendo la función de poder detectar, a través de frases y palabras utilizadas por los comensales, el grado de satisfacción de los platos probados y así ver qué platos y productos han gustado más o menos a los clientes.\n",
    "\n",
    "Nuestro robot ya sabe detectar lo que pedirán los comensales según los productos elegidos. Ahora queremos saber cuál es el feedback de cada cliente para detectar si le ha gustado o no el plato servido.\n",
    "\n",
    "> Objetivo\n",
    "Crea un modelo predictivo de **clasificación** para poder **ordenar y o catalogar las reseñas**. Primero entrena tu modelo con las reseñas de entrenamiento. Una vez tengas el modelo que maximice la puntuación F1 (macro.), utiliza las reseñas de prueba como entrada para tu modelo."
   ],
   "metadata": {
    "collapsed": false
   }
  },
  {
   "cell_type": "code",
   "execution_count": 1,
   "outputs": [],
   "source": [
    "from numpy import *\n",
    "import pandas as pd\n",
    "import seaborn as sns\n",
    "import matplotlib.pyplot as plt"
   ],
   "metadata": {
    "collapsed": false,
    "ExecuteTime": {
     "start_time": "2023-04-11T19:15:41.098525Z",
     "end_time": "2023-04-11T19:15:41.204495Z"
    }
   }
  },
  {
   "cell_type": "code",
   "execution_count": 2,
   "outputs": [],
   "source": [
    "train = pd.read_csv('../Data/train.csv',index_col = [0])\n",
    "test = pd.read_csv('../Data/test.csv',index_col = [0])"
   ],
   "metadata": {
    "collapsed": false,
    "ExecuteTime": {
     "start_time": "2023-04-11T19:15:41.104454Z",
     "end_time": "2023-04-11T19:15:41.530099Z"
    }
   }
  },
  {
   "cell_type": "code",
   "execution_count": 3,
   "outputs": [
    {
     "data": {
      "text/plain": "                                                        text  label label_text\ntrain_idx                                                                     \n0          i really do recommend this to anyone in need o...      1   positive\n1          very good every day camera fits nicely in the ...      1   positive\n2          but , dollar for dollar , this dvd player is p...      1   positive\n3          i got this phone yesterday and didn ' t find a...      1   positive\n4                                    1 ) price gb of storage      1   positive",
      "text/html": "<div>\n<style scoped>\n    .dataframe tbody tr th:only-of-type {\n        vertical-align: middle;\n    }\n\n    .dataframe tbody tr th {\n        vertical-align: top;\n    }\n\n    .dataframe thead th {\n        text-align: right;\n    }\n</style>\n<table border=\"1\" class=\"dataframe\">\n  <thead>\n    <tr style=\"text-align: right;\">\n      <th></th>\n      <th>text</th>\n      <th>label</th>\n      <th>label_text</th>\n    </tr>\n    <tr>\n      <th>train_idx</th>\n      <th></th>\n      <th></th>\n      <th></th>\n    </tr>\n  </thead>\n  <tbody>\n    <tr>\n      <th>0</th>\n      <td>i really do recommend this to anyone in need o...</td>\n      <td>1</td>\n      <td>positive</td>\n    </tr>\n    <tr>\n      <th>1</th>\n      <td>very good every day camera fits nicely in the ...</td>\n      <td>1</td>\n      <td>positive</td>\n    </tr>\n    <tr>\n      <th>2</th>\n      <td>but , dollar for dollar , this dvd player is p...</td>\n      <td>1</td>\n      <td>positive</td>\n    </tr>\n    <tr>\n      <th>3</th>\n      <td>i got this phone yesterday and didn ' t find a...</td>\n      <td>1</td>\n      <td>positive</td>\n    </tr>\n    <tr>\n      <th>4</th>\n      <td>1 ) price gb of storage</td>\n      <td>1</td>\n      <td>positive</td>\n    </tr>\n  </tbody>\n</table>\n</div>"
     },
     "execution_count": 3,
     "metadata": {},
     "output_type": "execute_result"
    }
   ],
   "source": [
    "train.head()"
   ],
   "metadata": {
    "collapsed": false,
    "ExecuteTime": {
     "start_time": "2023-04-11T19:15:41.137564Z",
     "end_time": "2023-04-11T19:15:41.531833Z"
    }
   }
  },
  {
   "cell_type": "code",
   "execution_count": 4,
   "outputs": [
    {
     "data": {
      "text/plain": "                                                       text\ntest_idx                                                   \n0                                   fm receiver it has none\n1         the picture quality surprised me , when i firs...\n2         great video clip quality for a digital camera ...\n3         creative did well on its rechargeable battery ...\n4         i highly recommend this camera to anyone looki...",
      "text/html": "<div>\n<style scoped>\n    .dataframe tbody tr th:only-of-type {\n        vertical-align: middle;\n    }\n\n    .dataframe tbody tr th {\n        vertical-align: top;\n    }\n\n    .dataframe thead th {\n        text-align: right;\n    }\n</style>\n<table border=\"1\" class=\"dataframe\">\n  <thead>\n    <tr style=\"text-align: right;\">\n      <th></th>\n      <th>text</th>\n    </tr>\n    <tr>\n      <th>test_idx</th>\n      <th></th>\n    </tr>\n  </thead>\n  <tbody>\n    <tr>\n      <th>0</th>\n      <td>fm receiver it has none</td>\n    </tr>\n    <tr>\n      <th>1</th>\n      <td>the picture quality surprised me , when i firs...</td>\n    </tr>\n    <tr>\n      <th>2</th>\n      <td>great video clip quality for a digital camera ...</td>\n    </tr>\n    <tr>\n      <th>3</th>\n      <td>creative did well on its rechargeable battery ...</td>\n    </tr>\n    <tr>\n      <th>4</th>\n      <td>i highly recommend this camera to anyone looki...</td>\n    </tr>\n  </tbody>\n</table>\n</div>"
     },
     "execution_count": 4,
     "metadata": {},
     "output_type": "execute_result"
    }
   ],
   "source": [
    "test.head()"
   ],
   "metadata": {
    "collapsed": false,
    "ExecuteTime": {
     "start_time": "2023-04-11T19:15:41.163014Z",
     "end_time": "2023-04-11T19:15:41.532091Z"
    }
   }
  },
  {
   "cell_type": "code",
   "execution_count": 5,
   "outputs": [
    {
     "name": "stdout",
     "output_type": "stream",
     "text": [
      "shape de los datos train (3016, 3)\n",
      "shape de los datos test (754, 1)\n"
     ]
    }
   ],
   "source": [
    "''' shape '''\n",
    "print(f'shape de los datos train {train.shape}')\n",
    "print(f'shape de los datos test {test.shape}')"
   ],
   "metadata": {
    "collapsed": false,
    "ExecuteTime": {
     "start_time": "2023-04-11T19:15:41.171393Z",
     "end_time": "2023-04-11T19:15:41.532462Z"
    }
   }
  },
  {
   "cell_type": "code",
   "execution_count": 6,
   "outputs": [
    {
     "data": {
      "text/plain": "1    1926\n0    1090\nName: label, dtype: int64"
     },
     "execution_count": 6,
     "metadata": {},
     "output_type": "execute_result"
    }
   ],
   "source": [
    "train.drop(['label_text'],axis = 1,inplace = True)\n",
    "train.label.value_counts()"
   ],
   "metadata": {
    "collapsed": false,
    "ExecuteTime": {
     "start_time": "2023-04-11T19:15:41.184359Z",
     "end_time": "2023-04-11T19:15:41.533052Z"
    }
   }
  },
  {
   "cell_type": "code",
   "execution_count": 7,
   "outputs": [],
   "source": [
    "# import natural language tool kit\n",
    "import nltk as nlp\n",
    "# import regex\n",
    "import re\n",
    "\n",
    "def tokenizar(texto):\n",
    "    '''\n",
    "    Esta función limpia y tokeniza el texto en palabras individuales.\n",
    "    El orden en el que se va limpiando el texto no es arbitrario.\n",
    "    El listado de signos de puntuación se ha obtenido de: print(string.punctuation)\n",
    "    y re.escape(string.punctuation)\n",
    "    '''\n",
    "\n",
    "    # Se convierte t0do el texto a minúsculas\n",
    "    nuevo_texto = texto.lower()\n",
    "    # Eliminación de signos de puntuación\n",
    "    regex = '[\\\\!\\\\\"\\\\#\\\\$\\\\%\\\\&\\\\\\'\\\\(\\\\)\\\\*\\\\+\\\\,\\\\-\\\\.\\\\/\\\\:\\\\;\\\\<\\\\=\\\\>\\\\?\\\\@\\\\[\\\\\\\\\\\\]\\\\^_\\\\`\\\\{\\\\|\\\\}\\\\~]'\n",
    "    nuevo_texto = re.sub(regex , ' ', nuevo_texto)\n",
    "    # Eliminación de números\n",
    "    nuevo_texto = re.sub(\"\\d+\", ' ', nuevo_texto)\n",
    "    # Eliminación de espacios en blanco múltiples\n",
    "    nuevo_texto = re.sub(\"\\\\s+\", ' ', nuevo_texto)\n",
    "    # Tokenización por palabras individuales\n",
    "    nuevo_texto = nuevo_texto.split(sep = ' ')\n",
    "    # Eliminación de tokens con una longitud < 2\n",
    "    nuevo_texto = [token for token in nuevo_texto if len(token) > 1]\n",
    "    # Lematización de palabras\n",
    "    lemma = nlp.WordNetLemmatizer()\n",
    "    nuevo_texto = [lemma.lemmatize(token) for token in nuevo_texto]\n",
    "\n",
    "    return(nuevo_texto)"
   ],
   "metadata": {
    "collapsed": false,
    "ExecuteTime": {
     "start_time": "2023-04-11T19:15:41.198241Z",
     "end_time": "2023-04-11T19:15:41.983680Z"
    }
   }
  },
  {
   "cell_type": "markdown",
   "source": [
    "# Stop words\n",
    "\n",
    "En la tabla anterior puede observarse que los términos más frecuentes en todos los usuarios se corresponden con artículos, preposiciones, pronombres…, en general, palabras que no aportan información relevante sobre el texto. Ha estas palabras se les conoce como stopwords. Para cada idioma existen distintos listados de stopwords, además, dependiendo del contexto, puede ser necesario adaptar el listado. Por ejemplo, en la tabla anterior aparece el término amp que procede de la etiqueta html &amp. Con frecuencia, a medida que se realiza un análisis se encuentran palabras que deben incluirse en el listado de stopwords."
   ],
   "metadata": {
    "collapsed": false
   }
  },
  {
   "cell_type": "code",
   "execution_count": 8,
   "outputs": [
    {
     "name": "stdout",
     "output_type": "stream",
     "text": [
      "['i', 'me', 'my', 'myself', 'we', 'our', 'ours', 'ourselves', 'you', \"you're\"]\n"
     ]
    }
   ],
   "source": [
    "from nltk.corpus import stopwords\n",
    "# Obtain list of stopwords\n",
    "stop_words = list(stopwords.words('english'))\n",
    "print(stop_words[:10])"
   ],
   "metadata": {
    "collapsed": false,
    "ExecuteTime": {
     "start_time": "2023-04-11T19:15:41.981258Z",
     "end_time": "2023-04-11T19:15:41.991619Z"
    }
   }
  },
  {
   "cell_type": "code",
   "execution_count": 9,
   "metadata": {
    "collapsed": true,
    "ExecuteTime": {
     "start_time": "2023-04-11T19:15:41.992461Z",
     "end_time": "2023-04-11T19:15:44.754162Z"
    }
   },
   "outputs": [
    {
     "name": "stderr",
     "output_type": "stream",
     "text": [
      "/Users/manugnzl/opt/anaconda3/lib/python3.9/site-packages/sklearn/feature_extraction/text.py:516: UserWarning: The parameter 'token_pattern' will not be used since 'tokenizer' is not None'\n",
      "  warnings.warn(\n",
      "/Users/manugnzl/opt/anaconda3/lib/python3.9/site-packages/sklearn/feature_extraction/text.py:396: UserWarning: Your stop_words may be inconsistent with your preprocessing. Tokenizing the stop words generated tokens ['doe', 'ha', 'wa'] not in stop_words.\n",
      "  warnings.warn(\n"
     ]
    },
    {
     "data": {
      "text/plain": "TfidfVectorizer(min_df=2,\n                stop_words=['i', 'me', 'my', 'myself', 'we', 'our', 'ours',\n                            'ourselves', 'you', \"you're\", \"you've\", \"you'll\",\n                            \"you'd\", 'your', 'yours', 'yourself', 'yourselves',\n                            'he', 'him', 'his', 'himself', 'she', \"she's\",\n                            'her', 'hers', 'herself', 'it', \"it's\", 'its',\n                            'itself', ...],\n                tokenizer=<function tokenizar at 0x7ff29682aaf0>)"
     },
     "execution_count": 9,
     "metadata": {},
     "output_type": "execute_result"
    }
   ],
   "source": [
    "# Creación de la matriz tf-idf\n",
    "# ==============================================================================\n",
    "from sklearn.feature_extraction.text import TfidfVectorizer\n",
    "tfidf_vectorizador = TfidfVectorizer(\n",
    "                        tokenizer  = tokenizar, #\n",
    "                        min_df     = 2, #\n",
    "                        stop_words = stop_words #\n",
    "                    )\n",
    "tfidf_vectorizador.fit(train.text)"
   ]
  },
  {
   "cell_type": "code",
   "execution_count": 10,
   "outputs": [],
   "source": [
    "Xtrain = tfidf_vectorizador.transform(train.text)\n",
    "Xtest  = tfidf_vectorizador.transform(test.text)"
   ],
   "metadata": {
    "collapsed": false,
    "ExecuteTime": {
     "start_time": "2023-04-11T19:15:44.740873Z",
     "end_time": "2023-04-11T19:15:45.243834Z"
    }
   }
  },
  {
   "cell_type": "code",
   "execution_count": 11,
   "outputs": [],
   "source": [
    "Ytrain = train.label"
   ],
   "metadata": {
    "collapsed": false,
    "ExecuteTime": {
     "start_time": "2023-04-11T19:15:45.246270Z",
     "end_time": "2023-04-11T19:15:45.252331Z"
    }
   }
  },
  {
   "cell_type": "code",
   "execution_count": 12,
   "outputs": [
    {
     "name": "stdout",
     "output_type": "stream",
     "text": [
      " Número de tokens creados: 2155\n",
      "['ability' 'able' 'absolute' 'absolutely' 'ac' 'acceptable' 'access'\n",
      " 'accessible' 'accessing' 'accessory']\n"
     ]
    }
   ],
   "source": [
    "print(f\" Número de tokens creados: {len(tfidf_vectorizador.get_feature_names_out())}\")\n",
    "print(tfidf_vectorizador.get_feature_names_out()[:10])"
   ],
   "metadata": {
    "collapsed": false,
    "ExecuteTime": {
     "start_time": "2023-04-11T19:15:45.256216Z",
     "end_time": "2023-04-11T19:15:45.295865Z"
    }
   }
  },
  {
   "cell_type": "code",
   "execution_count": 13,
   "outputs": [],
   "source": [
    "from sklearn.linear_model import LogisticRegression\n",
    "from sklearn.tree import DecisionTreeClassifier\n",
    "from sklearn.neighbors import KNeighborsClassifier\n",
    "from sklearn.discriminant_analysis import LinearDiscriminantAnalysis\n",
    "from sklearn.naive_bayes import GaussianNB\n",
    "from sklearn.ensemble import RandomForestClassifier\n",
    "from sklearn.tree import DecisionTreeClassifier\n",
    "from sklearn.ensemble import BaggingClassifier\n",
    "from sklearn.ensemble import GradientBoostingClassifier\n",
    "from sklearn.ensemble import StackingClassifier\n",
    "from xgboost import XGBClassifier\n",
    "from sklearn.svm import SVC\n",
    "from sklearn.neighbors import KNeighborsClassifier\n",
    "from sklearn.discriminant_analysis import LinearDiscriminantAnalysis\n",
    "from sklearn.naive_bayes import GaussianNB\n",
    "from sklearn.model_selection import KFold\n",
    "from sklearn.model_selection import cross_val_score\n",
    "from sklearn.model_selection import GridSearchCV\n",
    "from sklearn.model_selection import train_test_split\n",
    "from sklearn.metrics import classification_report"
   ],
   "metadata": {
    "collapsed": false,
    "ExecuteTime": {
     "start_time": "2023-04-11T19:15:45.276355Z",
     "end_time": "2023-04-11T19:15:45.400643Z"
    }
   }
  },
  {
   "cell_type": "code",
   "execution_count": 14,
   "outputs": [],
   "source": [
    "kf = KFold(n_splits = 5, shuffle=True, random_state = 0)"
   ],
   "metadata": {
    "collapsed": false,
    "ExecuteTime": {
     "start_time": "2023-04-11T19:15:45.401395Z",
     "end_time": "2023-04-11T19:15:45.408004Z"
    }
   }
  },
  {
   "cell_type": "code",
   "execution_count": 15,
   "outputs": [],
   "source": [
    "models = []\n",
    "models.append(('glm', LogisticRegression(random_state=99)))\n",
    "models.append(('dectree', DecisionTreeClassifier(random_state=99)))\n",
    "models.append(('rf', RandomForestClassifier(random_state=99)))\n",
    "models.append(('gb', GradientBoostingClassifier(random_state=99)))\n",
    "models.append(('xgb', XGBClassifier()))\n",
    "models.append(('bag', BaggingClassifier(random_state=99)))\n",
    "models.append(('svmr', SVC(random_state=99)))\n",
    "models.append(('svml', SVC(kernel='linear',random_state=99)))\n",
    "\n",
    "def boxplots_algorithms(results, names):\n",
    "\n",
    "    plt.figure(figsize=(8,8))\n",
    "    plt.boxplot(results)\n",
    "    plt.xticks(range(1,len(names)+1), names)\n",
    "    plt.show()"
   ],
   "metadata": {
    "collapsed": false,
    "ExecuteTime": {
     "start_time": "2023-04-11T19:15:45.414683Z",
     "end_time": "2023-04-11T19:15:45.419216Z"
    }
   }
  },
  {
   "cell_type": "code",
   "execution_count": 16,
   "outputs": [
    {
     "data": {
      "text/plain": "<Figure size 800x800 with 1 Axes>",
      "image/png": "[encoded data removed]"
     },
     "metadata": {},
     "output_type": "display_data"
    }
   ],
   "source": [
    "results = []\n",
    "names = []\n",
    "\n",
    "for name,model in models:\n",
    "    acc = cross_val_score(model, Xtrain,Ytrain, cv = kf,scoring='accuracy')\n",
    "    names.append(name)\n",
    "    results.append(acc)\n",
    "\n",
    "boxplots_algorithms(results, names)"
   ],
   "metadata": {
    "collapsed": false,
    "ExecuteTime": {
     "start_time": "2023-04-11T19:15:45.425913Z",
     "end_time": "2023-04-11T19:16:13.179940Z"
    }
   }
  },
  {
   "cell_type": "code",
   "execution_count": 17,
   "outputs": [
    {
     "data": {
      "text/plain": "SVC(kernel='linear', random_state=99)"
     },
     "execution_count": 17,
     "metadata": {},
     "output_type": "execute_result"
    }
   ],
   "source": [
    "svm = SVC(random_state=99,kernel='linear')\n",
    "svm.fit(Xtrain,Ytrain)"
   ],
   "metadata": {
    "collapsed": false,
    "ExecuteTime": {
     "start_time": "2023-04-11T19:16:13.181708Z",
     "end_time": "2023-04-11T19:16:13.977560Z"
    }
   }
  },
  {
   "cell_type": "code",
   "execution_count": 18,
   "outputs": [
    {
     "data": {
      "text/plain": "array([[ 0.13998502,  0.23935057,  0.3063824 , ..., -0.59648034,\n        -0.89393635, -0.20100349]])"
     },
     "execution_count": 18,
     "metadata": {},
     "output_type": "execute_result"
    }
   ],
   "source": [
    "svm.coef_.toarray()"
   ],
   "metadata": {
    "collapsed": false,
    "ExecuteTime": {
     "start_time": "2023-04-11T19:16:13.977770Z",
     "end_time": "2023-04-11T19:16:14.061157Z"
    }
   }
  },
  {
   "cell_type": "code",
   "execution_count": 19,
   "outputs": [
    {
     "data": {
      "text/plain": "array(['ability', 'able', 'absolute', ..., 'zero', 'zone', 'zoom'],\n      dtype=object)"
     },
     "execution_count": 19,
     "metadata": {},
     "output_type": "execute_result"
    }
   ],
   "source": [
    "tfidf_vectorizador.get_feature_names_out()"
   ],
   "metadata": {
    "collapsed": false,
    "ExecuteTime": {
     "start_time": "2023-04-11T19:16:14.025165Z",
     "end_time": "2023-04-11T19:16:14.062479Z"
    }
   }
  },
  {
   "cell_type": "code",
   "execution_count": 20,
   "outputs": [
    {
     "data": {
      "text/plain": "    ability      able  absolute  absolutely        ac  acceptable   access  \\\n0  0.139985  0.239351  0.306382    0.331271  0.250377     0.45452 -0.20681   \n\n   accessible  accessing  accessory  ...       yes  yesterday       yet  \\\n0    0.252956  -0.711303  -0.055218  ... -0.932667    0.12554  0.785662   \n\n     yield   zealand      zen    zennx     zero      zone      zoom  \n0  0.31868  0.426396  0.60068 -0.31635 -0.59648 -0.893936 -0.201003  \n\n[1 rows x 2155 columns]",
      "text/html": "<div>\n<style scoped>\n    .dataframe tbody tr th:only-of-type {\n        vertical-align: middle;\n    }\n\n    .dataframe tbody tr th {\n        vertical-align: top;\n    }\n\n    .dataframe thead th {\n        text-align: right;\n    }\n</style>\n<table border=\"1\" class=\"dataframe\">\n  <thead>\n    <tr style=\"text-align: right;\">\n      <th></th>\n      <th>ability</th>\n      <th>able</th>\n      <th>absolute</th>\n      <th>absolutely</th>\n      <th>ac</th>\n      <th>acceptable</th>\n      <th>access</th>\n      <th>accessible</th>\n      <th>accessing</th>\n      <th>accessory</th>\n      <th>...</th>\n      <th>yes</th>\n      <th>yesterday</th>\n      <th>yet</th>\n      <th>yield</th>\n      <th>zealand</th>\n      <th>zen</th>\n      <th>zennx</th>\n      <th>zero</th>\n      <th>zone</th>\n      <th>zoom</th>\n    </tr>\n  </thead>\n  <tbody>\n    <tr>\n      <th>0</th>\n      <td>0.139985</td>\n      <td>0.239351</td>\n      <td>0.306382</td>\n      <td>0.331271</td>\n      <td>0.250377</td>\n      <td>0.45452</td>\n      <td>-0.20681</td>\n      <td>0.252956</td>\n      <td>-0.711303</td>\n      <td>-0.055218</td>\n      <td>...</td>\n      <td>-0.932667</td>\n      <td>0.12554</td>\n      <td>0.785662</td>\n      <td>0.31868</td>\n      <td>0.426396</td>\n      <td>0.60068</td>\n      <td>-0.31635</td>\n      <td>-0.59648</td>\n      <td>-0.893936</td>\n      <td>-0.201003</td>\n    </tr>\n  </tbody>\n</table>\n<p>1 rows × 2155 columns</p>\n</div>"
     },
     "execution_count": 20,
     "metadata": {},
     "output_type": "execute_result"
    }
   ],
   "source": [
    "pd.DataFrame(svm.coef_.toarray(), columns=tfidf_vectorizador.get_feature_names_out())"
   ],
   "metadata": {
    "collapsed": false,
    "ExecuteTime": {
     "start_time": "2023-04-11T19:16:14.035903Z",
     "end_time": "2023-04-11T19:16:14.080041Z"
    }
   }
  },
  {
   "cell_type": "code",
   "execution_count": 21,
   "outputs": [],
   "source": [
    "data = pd.DataFrame(svm.coef_.toarray(), columns=tfidf_vectorizador.get_feature_names_out())"
   ],
   "metadata": {
    "collapsed": false,
    "ExecuteTime": {
     "start_time": "2023-04-11T19:16:14.073883Z",
     "end_time": "2023-04-11T19:16:14.125091Z"
    }
   }
  },
  {
   "cell_type": "code",
   "execution_count": 22,
   "outputs": [
    {
     "data": {
      "text/plain": "                   0\nability     0.139985\nable        0.239351\nabsolute    0.306382\nabsolutely  0.331271\nac          0.250377\n...              ...\nzen         0.600680\nzennx      -0.316350\nzero       -0.596480\nzone       -0.893936\nzoom       -0.201003\n\n[2155 rows x 1 columns]",
      "text/html": "<div>\n<style scoped>\n    .dataframe tbody tr th:only-of-type {\n        vertical-align: middle;\n    }\n\n    .dataframe tbody tr th {\n        vertical-align: top;\n    }\n\n    .dataframe thead th {\n        text-align: right;\n    }\n</style>\n<table border=\"1\" class=\"dataframe\">\n  <thead>\n    <tr style=\"text-align: right;\">\n      <th></th>\n      <th>0</th>\n    </tr>\n  </thead>\n  <tbody>\n    <tr>\n      <th>ability</th>\n      <td>0.139985</td>\n    </tr>\n    <tr>\n      <th>able</th>\n      <td>0.239351</td>\n    </tr>\n    <tr>\n      <th>absolute</th>\n      <td>0.306382</td>\n    </tr>\n    <tr>\n      <th>absolutely</th>\n      <td>0.331271</td>\n    </tr>\n    <tr>\n      <th>ac</th>\n      <td>0.250377</td>\n    </tr>\n    <tr>\n      <th>...</th>\n      <td>...</td>\n    </tr>\n    <tr>\n      <th>zen</th>\n      <td>0.600680</td>\n    </tr>\n    <tr>\n      <th>zennx</th>\n      <td>-0.316350</td>\n    </tr>\n    <tr>\n      <th>zero</th>\n      <td>-0.596480</td>\n    </tr>\n    <tr>\n      <th>zone</th>\n      <td>-0.893936</td>\n    </tr>\n    <tr>\n      <th>zoom</th>\n      <td>-0.201003</td>\n    </tr>\n  </tbody>\n</table>\n<p>2155 rows × 1 columns</p>\n</div>"
     },
     "execution_count": 22,
     "metadata": {},
     "output_type": "execute_result"
    }
   ],
   "source": [
    "datos = data.T\n",
    "datos"
   ],
   "metadata": {
    "collapsed": false,
    "ExecuteTime": {
     "start_time": "2023-04-11T19:16:14.092179Z",
     "end_time": "2023-04-11T19:16:14.163213Z"
    }
   }
  },
  {
   "cell_type": "code",
   "execution_count": 23,
   "outputs": [
    {
     "data": {
      "text/plain": "                   0       abs\nability     0.139985  0.139985\nable        0.239351  0.239351\nabsolute    0.306382  0.306382\nabsolutely  0.331271  0.331271\nac          0.250377  0.250377\n...              ...       ...\nzen         0.600680  0.600680\nzennx      -0.316350  0.316350\nzero       -0.596480  0.596480\nzone       -0.893936  0.893936\nzoom       -0.201003  0.201003\n\n[2155 rows x 2 columns]",
      "text/html": "<div>\n<style scoped>\n    .dataframe tbody tr th:only-of-type {\n        vertical-align: middle;\n    }\n\n    .dataframe tbody tr th {\n        vertical-align: top;\n    }\n\n    .dataframe thead th {\n        text-align: right;\n    }\n</style>\n<table border=\"1\" class=\"dataframe\">\n  <thead>\n    <tr style=\"text-align: right;\">\n      <th></th>\n      <th>0</th>\n      <th>abs</th>\n    </tr>\n  </thead>\n  <tbody>\n    <tr>\n      <th>ability</th>\n      <td>0.139985</td>\n      <td>0.139985</td>\n    </tr>\n    <tr>\n      <th>able</th>\n      <td>0.239351</td>\n      <td>0.239351</td>\n    </tr>\n    <tr>\n      <th>absolute</th>\n      <td>0.306382</td>\n      <td>0.306382</td>\n    </tr>\n    <tr>\n      <th>absolutely</th>\n      <td>0.331271</td>\n      <td>0.331271</td>\n    </tr>\n    <tr>\n      <th>ac</th>\n      <td>0.250377</td>\n      <td>0.250377</td>\n    </tr>\n    <tr>\n      <th>...</th>\n      <td>...</td>\n      <td>...</td>\n    </tr>\n    <tr>\n      <th>zen</th>\n      <td>0.600680</td>\n      <td>0.600680</td>\n    </tr>\n    <tr>\n      <th>zennx</th>\n      <td>-0.316350</td>\n      <td>0.316350</td>\n    </tr>\n    <tr>\n      <th>zero</th>\n      <td>-0.596480</td>\n      <td>0.596480</td>\n    </tr>\n    <tr>\n      <th>zone</th>\n      <td>-0.893936</td>\n      <td>0.893936</td>\n    </tr>\n    <tr>\n      <th>zoom</th>\n      <td>-0.201003</td>\n      <td>0.201003</td>\n    </tr>\n  </tbody>\n</table>\n<p>2155 rows × 2 columns</p>\n</div>"
     },
     "execution_count": 23,
     "metadata": {},
     "output_type": "execute_result"
    }
   ],
   "source": [
    "datos['abs'] = abs(datos)\n",
    "datos"
   ],
   "metadata": {
    "collapsed": false,
    "ExecuteTime": {
     "start_time": "2023-04-11T19:16:14.115114Z",
     "end_time": "2023-04-11T19:16:14.235664Z"
    }
   }
  },
  {
   "cell_type": "code",
   "execution_count": 27,
   "outputs": [
    {
     "data": {
      "text/plain": "          index         0       abs\n805       great  3.121324  3.121324\n1080       love  2.382428  2.382428\n2129      would -2.301888  2.301888\n1655    scratch -2.262850  2.262850\n580        easy  2.259677  2.259677\n...         ...       ...       ...\n429        crop  0.000000  0.000000\n2016  uploading  0.000000  0.000000\n193       boast  0.000000  0.000000\n457      decade  0.000000  0.000000\n1830     stitch  0.000000  0.000000\n\n[2155 rows x 3 columns]",
      "text/html": "<div>\n<style scoped>\n    .dataframe tbody tr th:only-of-type {\n        vertical-align: middle;\n    }\n\n    .dataframe tbody tr th {\n        vertical-align: top;\n    }\n\n    .dataframe thead th {\n        text-align: right;\n    }\n</style>\n<table border=\"1\" class=\"dataframe\">\n  <thead>\n    <tr style=\"text-align: right;\">\n      <th></th>\n      <th>index</th>\n      <th>0</th>\n      <th>abs</th>\n    </tr>\n  </thead>\n  <tbody>\n    <tr>\n      <th>805</th>\n      <td>great</td>\n      <td>3.121324</td>\n      <td>3.121324</td>\n    </tr>\n    <tr>\n      <th>1080</th>\n      <td>love</td>\n      <td>2.382428</td>\n      <td>2.382428</td>\n    </tr>\n    <tr>\n      <th>2129</th>\n      <td>would</td>\n      <td>-2.301888</td>\n      <td>2.301888</td>\n    </tr>\n    <tr>\n      <th>1655</th>\n      <td>scratch</td>\n      <td>-2.262850</td>\n      <td>2.262850</td>\n    </tr>\n    <tr>\n      <th>580</th>\n      <td>easy</td>\n      <td>2.259677</td>\n      <td>2.259677</td>\n    </tr>\n    <tr>\n      <th>...</th>\n      <td>...</td>\n      <td>...</td>\n      <td>...</td>\n    </tr>\n    <tr>\n      <th>429</th>\n      <td>crop</td>\n      <td>0.000000</td>\n      <td>0.000000</td>\n    </tr>\n    <tr>\n      <th>2016</th>\n      <td>uploading</td>\n      <td>0.000000</td>\n      <td>0.000000</td>\n    </tr>\n    <tr>\n      <th>193</th>\n      <td>boast</td>\n      <td>0.000000</td>\n      <td>0.000000</td>\n    </tr>\n    <tr>\n      <th>457</th>\n      <td>decade</td>\n      <td>0.000000</td>\n      <td>0.000000</td>\n    </tr>\n    <tr>\n      <th>1830</th>\n      <td>stitch</td>\n      <td>0.000000</td>\n      <td>0.000000</td>\n    </tr>\n  </tbody>\n</table>\n<p>2155 rows × 3 columns</p>\n</div>"
     },
     "execution_count": 27,
     "metadata": {},
     "output_type": "execute_result"
    }
   ],
   "source": [
    "datos.reset_index(inplace= True)\n",
    "datos.sort_values(by = 'abs', ascending= False)"
   ],
   "metadata": {
    "collapsed": false,
    "ExecuteTime": {
     "start_time": "2023-04-11T19:19:54.684580Z",
     "end_time": "2023-04-11T19:19:54.707185Z"
    }
   }
  },
  {
   "cell_type": "code",
   "execution_count": 34,
   "outputs": [
    {
     "data": {
      "text/plain": "<Figure size 4000x1000 with 1 Axes>",
      "image/png": "[encoded data removed]"
     },
     "metadata": {},
     "output_type": "display_data"
    }
   ],
   "source": [
    "datos = datos.sort_values(by = 'abs', ascending= False)\n",
    "plt.figure(figsize=(40,10))\n",
    "sns.barplot(data = datos.iloc[:40,:], x = 'index' ,y = 'abs')\n",
    "plt.show()"
   ],
   "metadata": {
    "collapsed": false,
    "ExecuteTime": {
     "start_time": "2023-04-11T19:22:33.459778Z",
     "end_time": "2023-04-11T19:22:34.607126Z"
    }
   }
  },
  {
   "cell_type": "code",
   "execution_count": 35,
   "outputs": [
    {
     "data": {
      "text/plain": "array(['ability', 'able', 'absolute', ..., 'zero', 'zone', 'zoom'],\n      dtype=object)"
     },
     "execution_count": 35,
     "metadata": {},
     "output_type": "execute_result"
    }
   ],
   "source": [
    "tfidf_vectorizador.get_feature_names_out()"
   ],
   "metadata": {
    "collapsed": false,
    "ExecuteTime": {
     "start_time": "2023-04-11T19:23:13.517922Z",
     "end_time": "2023-04-11T19:23:13.546551Z"
    }
   }
  },
  {
   "cell_type": "code",
   "execution_count": null,
   "outputs": [],
   "source": [],
   "metadata": {
    "collapsed": false
   }
  }
 ],
 "metadata": {
  "kernelspec": {
   "display_name": "Python 3",
   "language": "python",
   "name": "python3"
  },
  "language_info": {
   "codemirror_mode": {
    "name": "ipython",
    "version": 2
   },
   "file_extension": ".py",
   "mimetype": "text/x-python",
   "name": "python",
   "nbconvert_exporter": "python",
   "pygments_lexer": "ipython2",
   "version": "2.7.6"
  }
 },
 "nbformat": 4,
 "nbformat_minor": 0
}
