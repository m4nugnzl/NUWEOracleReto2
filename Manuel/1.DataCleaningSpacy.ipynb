{
 "cells": [
  {
   "cell_type": "markdown",
   "source": [
    "# Oracle-Reto 2: Análisis de sentimiento\n",
    "\n",
    "*NUWE EVA*, la cadena de restauración fast food y healthy, sigue creciendo y queremos dar un paso más para mejorar y ofrecer el mejor servicio posible a nuestros clientes.\n",
    "\n",
    "Queremos evolucionar y ofrecer nuevas capacidades a nuestro robot y talentoso camarero, *EVA*, añadiendo la función de poder detectar, a través de frases y palabras utilizadas por los comensales, el grado de satisfacción de los platos probados y así ver qué platos y productos han gustado más o menos a los clientes.\n",
    "\n",
    "Nuestro robot ya sabe detectar lo que pedirán los comensales según los productos elegidos. Ahora queremos saber cuál es el feedback de cada cliente para detectar si le ha gustado o no el plato servido.\n",
    "\n",
    "> Objetivo\n",
    "Crea un modelo predictivo de **clasificación** para poder **ordenar y o catalogar las reseñas**. Primero entrena tu modelo con las reseñas de entrenamiento. Una vez tengas el modelo que maximice la puntuación F1 (macro.), utiliza las reseñas de prueba como entrada para tu modelo."
   ],
   "metadata": {
    "collapsed": false
   }
  },
  {
   "cell_type": "code",
   "execution_count": 1,
   "outputs": [],
   "source": [
    "from numpy import *\n",
    "import pandas as pd\n",
    "import seaborn as sns\n",
    "import matplotlib.pyplot as plt"
   ],
   "metadata": {
    "collapsed": false,
    "ExecuteTime": {
     "start_time": "2023-04-12T11:32:31.613659Z",
     "end_time": "2023-04-12T11:32:31.639257Z"
    }
   }
  },
  {
   "cell_type": "code",
   "execution_count": 2,
   "outputs": [],
   "source": [
    "train = pd.read_csv('../Data/train.csv',index_col = [0])\n",
    "test = pd.read_csv('../Data/test.csv',index_col = [0])"
   ],
   "metadata": {
    "collapsed": false,
    "ExecuteTime": {
     "start_time": "2023-04-12T11:32:31.624142Z",
     "end_time": "2023-04-12T11:32:31.674326Z"
    }
   }
  },
  {
   "cell_type": "code",
   "execution_count": 3,
   "outputs": [
    {
     "data": {
      "text/plain": "                                                        text  label label_text\ntrain_idx                                                                     \n0          i really do recommend this to anyone in need o...      1   positive\n1          very good every day camera fits nicely in the ...      1   positive\n2          but , dollar for dollar , this dvd player is p...      1   positive\n3          i got this phone yesterday and didn ' t find a...      1   positive\n4                                    1 ) price gb of storage      1   positive",
      "text/html": "<div>\n<style scoped>\n    .dataframe tbody tr th:only-of-type {\n        vertical-align: middle;\n    }\n\n    .dataframe tbody tr th {\n        vertical-align: top;\n    }\n\n    .dataframe thead th {\n        text-align: right;\n    }\n</style>\n<table border=\"1\" class=\"dataframe\">\n  <thead>\n    <tr style=\"text-align: right;\">\n      <th></th>\n      <th>text</th>\n      <th>label</th>\n      <th>label_text</th>\n    </tr>\n    <tr>\n      <th>train_idx</th>\n      <th></th>\n      <th></th>\n      <th></th>\n    </tr>\n  </thead>\n  <tbody>\n    <tr>\n      <th>0</th>\n      <td>i really do recommend this to anyone in need o...</td>\n      <td>1</td>\n      <td>positive</td>\n    </tr>\n    <tr>\n      <th>1</th>\n      <td>very good every day camera fits nicely in the ...</td>\n      <td>1</td>\n      <td>positive</td>\n    </tr>\n    <tr>\n      <th>2</th>\n      <td>but , dollar for dollar , this dvd player is p...</td>\n      <td>1</td>\n      <td>positive</td>\n    </tr>\n    <tr>\n      <th>3</th>\n      <td>i got this phone yesterday and didn ' t find a...</td>\n      <td>1</td>\n      <td>positive</td>\n    </tr>\n    <tr>\n      <th>4</th>\n      <td>1 ) price gb of storage</td>\n      <td>1</td>\n      <td>positive</td>\n    </tr>\n  </tbody>\n</table>\n</div>"
     },
     "execution_count": 3,
     "metadata": {},
     "output_type": "execute_result"
    }
   ],
   "source": [
    "train.head()"
   ],
   "metadata": {
    "collapsed": false,
    "ExecuteTime": {
     "start_time": "2023-04-12T11:32:31.672708Z",
     "end_time": "2023-04-12T11:32:31.711743Z"
    }
   }
  },
  {
   "cell_type": "code",
   "execution_count": 4,
   "outputs": [
    {
     "data": {
      "text/plain": "                                                       text\ntest_idx                                                   \n0                                   fm receiver it has none\n1         the picture quality surprised me , when i firs...\n2         great video clip quality for a digital camera ...\n3         creative did well on its rechargeable battery ...\n4         i highly recommend this camera to anyone looki...",
      "text/html": "<div>\n<style scoped>\n    .dataframe tbody tr th:only-of-type {\n        vertical-align: middle;\n    }\n\n    .dataframe tbody tr th {\n        vertical-align: top;\n    }\n\n    .dataframe thead th {\n        text-align: right;\n    }\n</style>\n<table border=\"1\" class=\"dataframe\">\n  <thead>\n    <tr style=\"text-align: right;\">\n      <th></th>\n      <th>text</th>\n    </tr>\n    <tr>\n      <th>test_idx</th>\n      <th></th>\n    </tr>\n  </thead>\n  <tbody>\n    <tr>\n      <th>0</th>\n      <td>fm receiver it has none</td>\n    </tr>\n    <tr>\n      <th>1</th>\n      <td>the picture quality surprised me , when i firs...</td>\n    </tr>\n    <tr>\n      <th>2</th>\n      <td>great video clip quality for a digital camera ...</td>\n    </tr>\n    <tr>\n      <th>3</th>\n      <td>creative did well on its rechargeable battery ...</td>\n    </tr>\n    <tr>\n      <th>4</th>\n      <td>i highly recommend this camera to anyone looki...</td>\n    </tr>\n  </tbody>\n</table>\n</div>"
     },
     "execution_count": 4,
     "metadata": {},
     "output_type": "execute_result"
    }
   ],
   "source": [
    "test.head()"
   ],
   "metadata": {
    "collapsed": false,
    "ExecuteTime": {
     "start_time": "2023-04-12T11:32:31.723983Z",
     "end_time": "2023-04-12T11:32:31.772021Z"
    }
   }
  },
  {
   "cell_type": "code",
   "execution_count": 5,
   "outputs": [
    {
     "name": "stdout",
     "output_type": "stream",
     "text": [
      "shape de los datos train (3016, 3)\n",
      "shape de los datos test (754, 1)\n"
     ]
    }
   ],
   "source": [
    "''' shape '''\n",
    "print(f'shape de los datos train {train.shape}')\n",
    "print(f'shape de los datos test {test.shape}')"
   ],
   "metadata": {
    "collapsed": false,
    "ExecuteTime": {
     "start_time": "2023-04-12T11:32:31.738018Z",
     "end_time": "2023-04-12T11:32:31.905044Z"
    }
   }
  },
  {
   "cell_type": "code",
   "execution_count": 6,
   "outputs": [
    {
     "data": {
      "text/plain": "1    1926\n0    1090\nName: label, dtype: int64"
     },
     "execution_count": 6,
     "metadata": {},
     "output_type": "execute_result"
    }
   ],
   "source": [
    "train.label.value_counts()"
   ],
   "metadata": {
    "collapsed": false,
    "ExecuteTime": {
     "start_time": "2023-04-12T11:32:31.752617Z",
     "end_time": "2023-04-12T11:32:31.908153Z"
    }
   }
  },
  {
   "cell_type": "code",
   "execution_count": 7,
   "outputs": [],
   "source": [
    "# eliminamos 'label_text' porque contiene la misma información que 'label'\n",
    "train.drop(['label_text'], axis=1, inplace=True)"
   ],
   "metadata": {
    "collapsed": false,
    "ExecuteTime": {
     "start_time": "2023-04-12T11:32:31.763395Z",
     "end_time": "2023-04-12T11:32:31.908244Z"
    }
   }
  },
  {
   "cell_type": "markdown",
   "source": [
    "Utilizaremos *stopwords* para eliminar los pronombres y conjunciones presentes en las *reviews*, debido a que no aportan en su mayoría información alguna."
   ],
   "metadata": {
    "collapsed": false
   }
  },
  {
   "cell_type": "code",
   "execution_count": 8,
   "outputs": [
    {
     "name": "stdout",
     "output_type": "stream",
     "text": [
      "ejemplos de stopwords: ['i', 'me', 'my', 'myself', 'we', 'our', 'ours', 'ourselves', 'you', \"you're\"]\n"
     ]
    }
   ],
   "source": [
    "import nltk as nlp\n",
    "from nltk.corpus import stopwords\n",
    "# Obtain list of stopwords\n",
    "stop_words = list(stopwords.words('english'))\n",
    "print(f'ejemplos de stopwords: {stop_words[:10]}')"
   ],
   "metadata": {
    "collapsed": false,
    "ExecuteTime": {
     "start_time": "2023-04-12T11:32:31.775040Z",
     "end_time": "2023-04-12T11:32:32.652862Z"
    }
   }
  },
  {
   "cell_type": "code",
   "execution_count": 9,
   "outputs": [
    {
     "name": "stderr",
     "output_type": "stream",
     "text": [
      "2023-04-12 11:32:36.419826: I tensorflow/core/platform/cpu_feature_guard.cc:193] This TensorFlow binary is optimized with oneAPI Deep Neural Network Library (oneDNN) to use the following CPU instructions in performance-critical operations:  AVX2 FMA\n",
      "To enable them in other operations, rebuild TensorFlow with the appropriate compiler flags.\n"
     ]
    }
   ],
   "source": [
    "# Spacy Lemmatize\n",
    "import spacy\n",
    "from spacy import displacy\n",
    "nlp = spacy.load('en_core_web_sm')\n",
    "\n",
    "Xtrain = train.copy()\n",
    "Xtest = test.copy()"
   ],
   "metadata": {
    "collapsed": false,
    "ExecuteTime": {
     "start_time": "2023-04-12T11:32:32.653833Z",
     "end_time": "2023-04-12T11:32:47.565981Z"
    }
   }
  },
  {
   "cell_type": "markdown",
   "source": [
    "Realizamos una limpieza de los datos previo a lematizarlos"
   ],
   "metadata": {
    "collapsed": false
   }
  },
  {
   "cell_type": "code",
   "execution_count": 10,
   "outputs": [],
   "source": [
    "import re\n",
    "\n",
    "# Pasamos a minúscula\n",
    "Xtrain['text'] = Xtrain['text'].apply(lambda x: x.lower() )\n",
    "Xtest['text'] = Xtest['text'].apply(lambda x: x.lower() )\n",
    "# Eliminación de signos de puntuación\n",
    "regex = '[\\\\!\\\\\"\\\\#\\\\$\\\\%\\\\&\\\\\\'\\\\(\\\\)\\\\*\\\\+\\\\,\\\\-\\\\.\\\\/\\\\:\\\\;\\\\<\\\\=\\\\>\\\\?\\\\@\\\\[\\\\\\\\\\\\]\\\\^_\\\\`\\\\{\\\\|\\\\}\\\\~]'\n",
    "Xtrain['text'] = Xtrain['text'].apply(lambda x: re.sub(regex , ' ', x) )\n",
    "Xtest['text'] = Xtest['text'].apply(lambda x: re.sub(regex , ' ', x) )\n",
    "# Eliminación de números\n",
    "Xtrain['text'] = Xtrain['text'].apply(lambda x: re.sub(\"\\d+\", ' ', x) )\n",
    "Xtest['text'] = Xtest['text'].apply(lambda x: re.sub(\"\\d+\", ' ', x) )\n",
    "# Eliminación de espacios en blanco múltiples\n",
    "Xtrain['text'] = Xtrain['text'].apply(lambda x: re.sub(\"\\\\s+\", ' ', x) )\n",
    "Xtest['text'] = Xtest['text'].apply(lambda x: re.sub(\"\\\\s+\", ' ', x) )"
   ],
   "metadata": {
    "collapsed": false,
    "ExecuteTime": {
     "start_time": "2023-04-12T11:32:47.595964Z",
     "end_time": "2023-04-12T11:32:47.657274Z"
    }
   }
  },
  {
   "cell_type": "code",
   "execution_count": 11,
   "outputs": [
    {
     "data": {
      "text/plain": "train_idx\n0       i really do recommend this to anyone in need o...\n1       very good every day camera fits nicely in the ...\n2       but dollar for dollar this dvd player is proba...\n3       i got this phone yesterday and didn t find any...\n4                                     price gb of storage\n                              ...                        \n3011    as for itunes i don t find it to be as good as...\n3012    i have not played with all the features yet bu...\n3013    applications it has lots of applications and t...\n3014                                    battery non issue\n3015    the fm tuner the g of storage and the removabl...\nName: text, Length: 3016, dtype: object"
     },
     "execution_count": 11,
     "metadata": {},
     "output_type": "execute_result"
    }
   ],
   "source": [
    "Xtrain['text']"
   ],
   "metadata": {
    "collapsed": false,
    "ExecuteTime": {
     "start_time": "2023-04-12T11:32:47.663504Z",
     "end_time": "2023-04-12T11:32:47.669438Z"
    }
   }
  },
  {
   "cell_type": "markdown",
   "source": [
    "Los convertimos a formato `spacy`"
   ],
   "metadata": {
    "collapsed": false
   }
  },
  {
   "cell_type": "code",
   "execution_count": 12,
   "outputs": [],
   "source": [
    "Xtrain['texto'] = Xtrain['text'].apply( lambda x : nlp(x))\n",
    "Xtest['texto'] = Xtest['text'].apply( lambda x : nlp(x))"
   ],
   "metadata": {
    "collapsed": false,
    "ExecuteTime": {
     "start_time": "2023-04-12T11:32:47.673063Z",
     "end_time": "2023-04-12T11:33:26.167236Z"
    }
   }
  },
  {
   "cell_type": "code",
   "execution_count": 13,
   "outputs": [
    {
     "data": {
      "text/plain": "                                                        text  \\\ntrain_idx                                                      \n0          i really do recommend this to anyone in need o...   \n1          very good every day camera fits nicely in the ...   \n2          but dollar for dollar this dvd player is proba...   \n3          i got this phone yesterday and didn t find any...   \n4                                        price gb of storage   \n...                                                      ...   \n3011       as for itunes i don t find it to be as good as...   \n3012       i have not played with all the features yet bu...   \n3013       applications it has lots of applications and t...   \n3014                                       battery non issue   \n3015       the fm tuner the g of storage and the removabl...   \n\n                                                       texto  \ntrain_idx                                                     \n0          (i, really, do, recommend, this, to, anyone, i...  \n1          (very, good, every, day, camera, fits, nicely,...  \n2          (but, dollar, for, dollar, this, dvd, player, ...  \n3          (i, got, this, phone, yesterday, and, didn, t,...  \n4                                ( , price, gb, of, storage)  \n...                                                      ...  \n3011       (as, for, itunes, i, don, t, find, it, to, be,...  \n3012       (i, have, not, played, with, all, the, feature...  \n3013       (applications, it, has, lots, of, applications...  \n3014                                   (battery, non, issue)  \n3015       (the, fm, tuner, the, g, of, storage, and, the...  \n\n[3016 rows x 2 columns]",
      "text/html": "<div>\n<style scoped>\n    .dataframe tbody tr th:only-of-type {\n        vertical-align: middle;\n    }\n\n    .dataframe tbody tr th {\n        vertical-align: top;\n    }\n\n    .dataframe thead th {\n        text-align: right;\n    }\n</style>\n<table border=\"1\" class=\"dataframe\">\n  <thead>\n    <tr style=\"text-align: right;\">\n      <th></th>\n      <th>text</th>\n      <th>texto</th>\n    </tr>\n    <tr>\n      <th>train_idx</th>\n      <th></th>\n      <th></th>\n    </tr>\n  </thead>\n  <tbody>\n    <tr>\n      <th>0</th>\n      <td>i really do recommend this to anyone in need o...</td>\n      <td>(i, really, do, recommend, this, to, anyone, i...</td>\n    </tr>\n    <tr>\n      <th>1</th>\n      <td>very good every day camera fits nicely in the ...</td>\n      <td>(very, good, every, day, camera, fits, nicely,...</td>\n    </tr>\n    <tr>\n      <th>2</th>\n      <td>but dollar for dollar this dvd player is proba...</td>\n      <td>(but, dollar, for, dollar, this, dvd, player, ...</td>\n    </tr>\n    <tr>\n      <th>3</th>\n      <td>i got this phone yesterday and didn t find any...</td>\n      <td>(i, got, this, phone, yesterday, and, didn, t,...</td>\n    </tr>\n    <tr>\n      <th>4</th>\n      <td>price gb of storage</td>\n      <td>( , price, gb, of, storage)</td>\n    </tr>\n    <tr>\n      <th>...</th>\n      <td>...</td>\n      <td>...</td>\n    </tr>\n    <tr>\n      <th>3011</th>\n      <td>as for itunes i don t find it to be as good as...</td>\n      <td>(as, for, itunes, i, don, t, find, it, to, be,...</td>\n    </tr>\n    <tr>\n      <th>3012</th>\n      <td>i have not played with all the features yet bu...</td>\n      <td>(i, have, not, played, with, all, the, feature...</td>\n    </tr>\n    <tr>\n      <th>3013</th>\n      <td>applications it has lots of applications and t...</td>\n      <td>(applications, it, has, lots, of, applications...</td>\n    </tr>\n    <tr>\n      <th>3014</th>\n      <td>battery non issue</td>\n      <td>(battery, non, issue)</td>\n    </tr>\n    <tr>\n      <th>3015</th>\n      <td>the fm tuner the g of storage and the removabl...</td>\n      <td>(the, fm, tuner, the, g, of, storage, and, the...</td>\n    </tr>\n  </tbody>\n</table>\n<p>3016 rows × 2 columns</p>\n</div>"
     },
     "execution_count": 13,
     "metadata": {},
     "output_type": "execute_result"
    }
   ],
   "source": [
    "Xtrain[['text','texto']]"
   ],
   "metadata": {
    "collapsed": false,
    "ExecuteTime": {
     "start_time": "2023-04-12T11:33:26.183792Z",
     "end_time": "2023-04-12T11:33:26.202474Z"
    }
   }
  },
  {
   "cell_type": "markdown",
   "source": [
    "Lematizamos"
   ],
   "metadata": {
    "collapsed": false
   }
  },
  {
   "cell_type": "code",
   "execution_count": 14,
   "outputs": [],
   "source": [
    "# Mark them as stop words\n",
    "for w in stop_words:\n",
    "    nlp.vocab[w].is_stop = True\n",
    "\n",
    "# Convert each row into spacy document and return the lemma of the tokens in\n",
    "# the document if it is not a sotp word. Finally join the lemmas into as a string\n",
    "Xtrain['texto'] = Xtrain['texto'].apply( lambda x : \" \".join(token.lemma_ for token in x if not token.is_stop))\n",
    "Xtest['texto'] = Xtest['texto'].apply( lambda x : \" \".join(token.lemma_ for token in x if not token.is_stop))"
   ],
   "metadata": {
    "collapsed": false,
    "ExecuteTime": {
     "start_time": "2023-04-12T11:33:26.239779Z",
     "end_time": "2023-04-12T11:33:26.399306Z"
    }
   }
  },
  {
   "cell_type": "code",
   "execution_count": 15,
   "outputs": [
    {
     "data": {
      "text/plain": "train_idx\n0                               recommend need new player\n1       good day camera fit nicely pocket jean take qu...\n2                  dollar dollar dvd player probably good\n3                        get phone yesterday find problem\n4                                        price gb storage\n                              ...                        \n3011    itune find good window medium player computer ...\n3012                         play feature camera easy use\n3013    application lot application work eventually fi...\n3014                                    battery non issue\n3015      fm tuner g storage removable disk great feature\nName: texto, Length: 3016, dtype: object"
     },
     "execution_count": 15,
     "metadata": {},
     "output_type": "execute_result"
    }
   ],
   "source": [
    "Xtrain['texto']"
   ],
   "metadata": {
    "collapsed": false,
    "ExecuteTime": {
     "start_time": "2023-04-12T11:33:26.252137Z",
     "end_time": "2023-04-12T11:33:26.399660Z"
    }
   }
  },
  {
   "cell_type": "code",
   "execution_count": 16,
   "outputs": [],
   "source": [
    "Xtrain['label'] = train['label']"
   ],
   "metadata": {
    "collapsed": false,
    "ExecuteTime": {
     "start_time": "2023-04-12T11:33:26.262956Z",
     "end_time": "2023-04-12T11:33:26.399855Z"
    }
   }
  },
  {
   "cell_type": "code",
   "execution_count": 17,
   "outputs": [
    {
     "data": {
      "text/plain": "                                                        text  label  \\\ntrain_idx                                                             \n0          i really do recommend this to anyone in need o...      1   \n1          very good every day camera fits nicely in the ...      1   \n2          but dollar for dollar this dvd player is proba...      1   \n3          i got this phone yesterday and didn t find any...      1   \n4                                        price gb of storage      1   \n\n                                                       texto  \ntrain_idx                                                     \n0                                  recommend need new player  \n1          good day camera fit nicely pocket jean take qu...  \n2                     dollar dollar dvd player probably good  \n3                           get phone yesterday find problem  \n4                                           price gb storage  ",
      "text/html": "<div>\n<style scoped>\n    .dataframe tbody tr th:only-of-type {\n        vertical-align: middle;\n    }\n\n    .dataframe tbody tr th {\n        vertical-align: top;\n    }\n\n    .dataframe thead th {\n        text-align: right;\n    }\n</style>\n<table border=\"1\" class=\"dataframe\">\n  <thead>\n    <tr style=\"text-align: right;\">\n      <th></th>\n      <th>text</th>\n      <th>label</th>\n      <th>texto</th>\n    </tr>\n    <tr>\n      <th>train_idx</th>\n      <th></th>\n      <th></th>\n      <th></th>\n    </tr>\n  </thead>\n  <tbody>\n    <tr>\n      <th>0</th>\n      <td>i really do recommend this to anyone in need o...</td>\n      <td>1</td>\n      <td>recommend need new player</td>\n    </tr>\n    <tr>\n      <th>1</th>\n      <td>very good every day camera fits nicely in the ...</td>\n      <td>1</td>\n      <td>good day camera fit nicely pocket jean take qu...</td>\n    </tr>\n    <tr>\n      <th>2</th>\n      <td>but dollar for dollar this dvd player is proba...</td>\n      <td>1</td>\n      <td>dollar dollar dvd player probably good</td>\n    </tr>\n    <tr>\n      <th>3</th>\n      <td>i got this phone yesterday and didn t find any...</td>\n      <td>1</td>\n      <td>get phone yesterday find problem</td>\n    </tr>\n    <tr>\n      <th>4</th>\n      <td>price gb of storage</td>\n      <td>1</td>\n      <td>price gb storage</td>\n    </tr>\n  </tbody>\n</table>\n</div>"
     },
     "execution_count": 17,
     "metadata": {},
     "output_type": "execute_result"
    }
   ],
   "source": [
    "Xtrain.head()"
   ],
   "metadata": {
    "collapsed": false,
    "ExecuteTime": {
     "start_time": "2023-04-12T11:33:26.276750Z",
     "end_time": "2023-04-12T11:33:26.400037Z"
    }
   }
  },
  {
   "cell_type": "markdown",
   "source": [
    "Una vez tenemos los textos 'depurados', procedemos a hacer un análisis de los mismos"
   ],
   "metadata": {
    "collapsed": false
   }
  },
  {
   "cell_type": "code",
   "execution_count": 18,
   "outputs": [],
   "source": [
    "NLP = Xtrain['texto']\n",
    "# Tokenización por palabras individuales\n",
    "NLP = NLP.apply(lambda x: x.split(sep = ' '))"
   ],
   "metadata": {
    "collapsed": false,
    "ExecuteTime": {
     "start_time": "2023-04-12T11:33:26.286611Z",
     "end_time": "2023-04-12T11:33:26.400493Z"
    }
   }
  },
  {
   "cell_type": "code",
   "execution_count": 19,
   "outputs": [],
   "source": [
    "NLP = NLP.explode()"
   ],
   "metadata": {
    "collapsed": false,
    "ExecuteTime": {
     "start_time": "2023-04-12T11:33:26.302575Z",
     "end_time": "2023-04-12T11:33:26.400564Z"
    }
   }
  },
  {
   "cell_type": "code",
   "execution_count": 20,
   "outputs": [
    {
     "data": {
      "text/plain": "count    3016.000000\nmean        7.629642\nstd         4.690250\nmin         1.000000\n25%         4.000000\n50%         7.000000\n75%        10.000000\nmax        46.000000\nName: texto, dtype: float64"
     },
     "execution_count": 20,
     "metadata": {},
     "output_type": "execute_result"
    }
   ],
   "source": [
    "# Mean length and std of the reviews\n",
    "NLP.groupby(['train_idx']).count().describe()"
   ],
   "metadata": {
    "collapsed": false,
    "ExecuteTime": {
     "start_time": "2023-04-12T11:33:26.309212Z",
     "end_time": "2023-04-12T11:33:26.400718Z"
    }
   }
  },
  {
   "cell_type": "code",
   "execution_count": 21,
   "outputs": [
    {
     "data": {
      "text/plain": "player          282\nuse             263\nphone           256\ncamera          255\ngood            252\n               ... \nalkaline          1\nrechargeable      1\nsnugly            1\ngremlin           1\nhandful           1\nName: texto, Length: 3356, dtype: int64"
     },
     "execution_count": 21,
     "metadata": {},
     "output_type": "execute_result"
    }
   ],
   "source": [
    "# borramos el espacio en blanco\n",
    "NLP = NLP[NLP != '']\n",
    "# most used words in the reviews\n",
    "NLP.value_counts(ascending=False)"
   ],
   "metadata": {
    "collapsed": false,
    "ExecuteTime": {
     "start_time": "2023-04-12T11:33:26.328048Z",
     "end_time": "2023-04-12T11:33:26.400862Z"
    }
   }
  },
  {
   "cell_type": "code",
   "execution_count": 22,
   "outputs": [
    {
     "data": {
      "text/plain": "<Figure size 1000x600 with 1 Axes>",
      "image/png": "[encoded data removed]"
     },
     "metadata": {},
     "output_type": "display_data"
    }
   ],
   "source": [
    "# Top 10 words\n",
    "plt.figure(figsize=(10, 6))\n",
    "counts  = NLP.value_counts(ascending=False).reset_index().head(10)\n",
    "sns.barplot(data = counts, y = 'index', x = 'texto', orient= 'h', palette= 'bright')\n",
    "plt.show()"
   ],
   "metadata": {
    "collapsed": false,
    "ExecuteTime": {
     "start_time": "2023-04-12T11:33:26.346934Z",
     "end_time": "2023-04-12T11:33:26.789904Z"
    }
   }
  },
  {
   "cell_type": "code",
   "execution_count": 23,
   "outputs": [],
   "source": [
    "Xtrain.to_csv('../Data/New/SpacyTrain.csv')\n",
    "Xtest.to_csv('../Data/New/SpacyTest.csv')"
   ],
   "metadata": {
    "collapsed": false,
    "ExecuteTime": {
     "start_time": "2023-04-12T11:34:42.566003Z",
     "end_time": "2023-04-12T11:34:42.609035Z"
    }
   }
  },
  {
   "cell_type": "code",
   "execution_count": null,
   "outputs": [],
   "source": [],
   "metadata": {
    "collapsed": false
   }
  }
 ],
 "metadata": {
  "kernelspec": {
   "display_name": "Python 3",
   "language": "python",
   "name": "python3"
  },
  "language_info": {
   "codemirror_mode": {
    "name": "ipython",
    "version": 2
   },
   "file_extension": ".py",
   "mimetype": "text/x-python",
   "name": "python",
   "nbconvert_exporter": "python",
   "pygments_lexer": "ipython2",
   "version": "2.7.6"
  }
 },
 "nbformat": 4,
 "nbformat_minor": 0
}
