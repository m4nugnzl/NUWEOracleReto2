{
 "cells": [
  {
   "cell_type": "code",
   "execution_count": 128,
   "outputs": [],
   "source": [
    "from numpy import *\n",
    "import pandas as pd\n",
    "import seaborn as sns\n",
    "import matplotlib.pyplot as plt"
   ],
   "metadata": {
    "collapsed": false,
    "ExecuteTime": {
     "start_time": "2023-04-12T12:18:39.778643Z",
     "end_time": "2023-04-12T12:18:40.071742Z"
    }
   }
  },
  {
   "cell_type": "code",
   "execution_count": 129,
   "outputs": [],
   "source": [
    "train = pd.read_csv('../Data/train.csv', index_col=[0])\n",
    "test = pd.read_csv('../Data/test.csv', index_col=[0])"
   ],
   "metadata": {
    "collapsed": false,
    "ExecuteTime": {
     "start_time": "2023-04-12T12:18:39.786822Z",
     "end_time": "2023-04-12T12:18:40.072006Z"
    }
   }
  },
  {
   "cell_type": "code",
   "execution_count": 130,
   "outputs": [],
   "source": [
    "Xtrain = pd.read_csv('../Data/New/XtrainNew.csv', index_col=[0])\n",
    "Xtest = pd.read_csv('../Data/New/XtestNew.csv', index_col=[0])"
   ],
   "metadata": {
    "collapsed": false,
    "ExecuteTime": {
     "start_time": "2023-04-12T12:18:39.818874Z",
     "end_time": "2023-04-12T12:18:40.072073Z"
    }
   }
  },
  {
   "cell_type": "code",
   "execution_count": 131,
   "outputs": [
    {
     "data": {
      "text/plain": "                                                   0\n0            really recommend anyone need new player\n1  good every day camera fit nicely pocket jean t...\n2             dollar dollar dvd player probably best\n3               got phone yesterday find problem yet\n4                                   price gb storage",
      "text/html": "<div>\n<style scoped>\n    .dataframe tbody tr th:only-of-type {\n        vertical-align: middle;\n    }\n\n    .dataframe tbody tr th {\n        vertical-align: top;\n    }\n\n    .dataframe thead th {\n        text-align: right;\n    }\n</style>\n<table border=\"1\" class=\"dataframe\">\n  <thead>\n    <tr style=\"text-align: right;\">\n      <th></th>\n      <th>0</th>\n    </tr>\n  </thead>\n  <tbody>\n    <tr>\n      <th>0</th>\n      <td>really recommend anyone need new player</td>\n    </tr>\n    <tr>\n      <th>1</th>\n      <td>good every day camera fit nicely pocket jean t...</td>\n    </tr>\n    <tr>\n      <th>2</th>\n      <td>dollar dollar dvd player probably best</td>\n    </tr>\n    <tr>\n      <th>3</th>\n      <td>got phone yesterday find problem yet</td>\n    </tr>\n    <tr>\n      <th>4</th>\n      <td>price gb storage</td>\n    </tr>\n  </tbody>\n</table>\n</div>"
     },
     "execution_count": 131,
     "metadata": {},
     "output_type": "execute_result"
    }
   ],
   "source": [
    "Xtrain.head()"
   ],
   "metadata": {
    "collapsed": false,
    "ExecuteTime": {
     "start_time": "2023-04-12T12:18:39.847697Z",
     "end_time": "2023-04-12T12:18:40.072305Z"
    }
   }
  },
  {
   "cell_type": "code",
   "execution_count": 132,
   "outputs": [],
   "source": [
    "from sklearn.feature_extraction.text import TfidfVectorizer\n",
    "from nltk import word_tokenize\n",
    "from nltk.stem import WordNetLemmatizer\n",
    "import nltk as nlp\n",
    "from nltk.corpus import stopwords"
   ],
   "metadata": {
    "collapsed": false,
    "ExecuteTime": {
     "start_time": "2023-04-12T12:18:39.865961Z",
     "end_time": "2023-04-12T12:18:40.072397Z"
    }
   }
  },
  {
   "cell_type": "code",
   "execution_count": 133,
   "outputs": [],
   "source": [
    "# Obtain list of stopwords\n",
    "stop_words = set(stopwords.words('english'))"
   ],
   "metadata": {
    "collapsed": false,
    "ExecuteTime": {
     "start_time": "2023-04-12T12:18:39.875018Z",
     "end_time": "2023-04-12T12:18:40.072443Z"
    }
   }
  },
  {
   "cell_type": "code",
   "execution_count": 134,
   "outputs": [],
   "source": [
    "Xtrain['text'] = train.text"
   ],
   "metadata": {
    "collapsed": false,
    "ExecuteTime": {
     "start_time": "2023-04-12T12:18:39.887007Z",
     "end_time": "2023-04-12T12:18:40.072486Z"
    }
   }
  },
  {
   "cell_type": "code",
   "execution_count": 135,
   "outputs": [
    {
     "data": {
      "text/plain": "0                 NaN\ntext    it has it all\nName: 1655, dtype: object"
     },
     "execution_count": 135,
     "metadata": {},
     "output_type": "execute_result"
    }
   ],
   "source": [
    "Xtrain.iloc[1655,:]"
   ],
   "metadata": {
    "collapsed": false,
    "ExecuteTime": {
     "start_time": "2023-04-12T12:18:39.897255Z",
     "end_time": "2023-04-12T12:18:40.072628Z"
    }
   }
  },
  {
   "cell_type": "code",
   "execution_count": 136,
   "outputs": [],
   "source": [
    "Xtrain.iloc[1655,0] = 'it has it all'"
   ],
   "metadata": {
    "collapsed": false,
    "ExecuteTime": {
     "start_time": "2023-04-12T12:18:39.909019Z",
     "end_time": "2023-04-12T12:18:40.072682Z"
    }
   }
  },
  {
   "cell_type": "code",
   "execution_count": 137,
   "outputs": [
    {
     "data": {
      "text/plain": "TfidfVectorizer(min_df=2,\n                stop_words={'a', 'about', 'above', 'after', 'again', 'against',\n                            'ain', 'all', 'am', 'an', 'and', 'any', 'are',\n                            'aren', \"aren't\", 'as', 'at', 'be', 'because',\n                            'been', 'before', 'being', 'below', 'between',\n                            'both', 'but', 'by', 'can', 'couldn', \"couldn't\", ...})"
     },
     "execution_count": 137,
     "metadata": {},
     "output_type": "execute_result"
    }
   ],
   "source": [
    "tfidf_vectorizador = TfidfVectorizer(stop_words=stop_words ,min_df=2)\n",
    "tfidf_vectorizador.fit(Xtrain['0'])"
   ],
   "metadata": {
    "collapsed": false,
    "ExecuteTime": {
     "start_time": "2023-04-12T12:18:39.964837Z",
     "end_time": "2023-04-12T12:18:40.072813Z"
    }
   }
  },
  {
   "cell_type": "code",
   "execution_count": 138,
   "outputs": [],
   "source": [
    "Xtrain = tfidf_vectorizador.fit_transform(Xtrain['0'])\n",
    "Xtest = tfidf_vectorizador.transform(Xtest['0'])"
   ],
   "metadata": {
    "collapsed": false,
    "ExecuteTime": {
     "start_time": "2023-04-12T12:18:40.007814Z",
     "end_time": "2023-04-12T12:18:40.087743Z"
    }
   }
  },
  {
   "cell_type": "code",
   "execution_count": 139,
   "outputs": [],
   "source": [
    "Ytrain = train.label"
   ],
   "metadata": {
    "collapsed": false,
    "ExecuteTime": {
     "start_time": "2023-04-12T12:18:40.090269Z",
     "end_time": "2023-04-12T12:18:40.136978Z"
    }
   }
  },
  {
   "cell_type": "code",
   "execution_count": 140,
   "outputs": [
    {
     "data": {
      "text/plain": "      ability  able  absolute  absolutely   ac  acceptable  access  \\\n0         0.0   0.0       0.0         0.0  0.0         0.0     0.0   \n1         0.0   0.0       0.0         0.0  0.0         0.0     0.0   \n2         0.0   0.0       0.0         0.0  0.0         0.0     0.0   \n3         0.0   0.0       0.0         0.0  0.0         0.0     0.0   \n4         0.0   0.0       0.0         0.0  0.0         0.0     0.0   \n...       ...   ...       ...         ...  ...         ...     ...   \n3011      0.0   0.0       0.0         0.0  0.0         0.0     0.0   \n3012      0.0   0.0       0.0         0.0  0.0         0.0     0.0   \n3013      0.0   0.0       0.0         0.0  0.0         0.0     0.0   \n3014      0.0   0.0       0.0         0.0  0.0         0.0     0.0   \n3015      0.0   0.0       0.0         0.0  0.0         0.0     0.0   \n\n      accessible  accessing  accessory  ...  yes  yesterday       yet  yield  \\\n0            0.0        0.0        0.0  ...  0.0   0.000000  0.000000    0.0   \n1            0.0        0.0        0.0  ...  0.0   0.000000  0.000000    0.0   \n2            0.0        0.0        0.0  ...  0.0   0.000000  0.000000    0.0   \n3            0.0        0.0        0.0  ...  0.0   0.568211  0.454485    0.0   \n4            0.0        0.0        0.0  ...  0.0   0.000000  0.000000    0.0   \n...          ...        ...        ...  ...  ...        ...       ...    ...   \n3011         0.0        0.0        0.0  ...  0.0   0.000000  0.000000    0.0   \n3012         0.0        0.0        0.0  ...  0.0   0.000000  0.452703    0.0   \n3013         0.0        0.0        0.0  ...  0.0   0.000000  0.000000    0.0   \n3014         0.0        0.0        0.0  ...  0.0   0.000000  0.000000    0.0   \n3015         0.0        0.0        0.0  ...  0.0   0.000000  0.000000    0.0   \n\n      zealand  zen  zennx  zero  zone  zoom  \n0         0.0  0.0    0.0   0.0   0.0   0.0  \n1         0.0  0.0    0.0   0.0   0.0   0.0  \n2         0.0  0.0    0.0   0.0   0.0   0.0  \n3         0.0  0.0    0.0   0.0   0.0   0.0  \n4         0.0  0.0    0.0   0.0   0.0   0.0  \n...       ...  ...    ...   ...   ...   ...  \n3011      0.0  0.0    0.0   0.0   0.0   0.0  \n3012      0.0  0.0    0.0   0.0   0.0   0.0  \n3013      0.0  0.0    0.0   0.0   0.0   0.0  \n3014      0.0  0.0    0.0   0.0   0.0   0.0  \n3015      0.0  0.0    0.0   0.0   0.0   0.0  \n\n[3016 rows x 2147 columns]",
      "text/html": "<div>\n<style scoped>\n    .dataframe tbody tr th:only-of-type {\n        vertical-align: middle;\n    }\n\n    .dataframe tbody tr th {\n        vertical-align: top;\n    }\n\n    .dataframe thead th {\n        text-align: right;\n    }\n</style>\n<table border=\"1\" class=\"dataframe\">\n  <thead>\n    <tr style=\"text-align: right;\">\n      <th></th>\n      <th>ability</th>\n      <th>able</th>\n      <th>absolute</th>\n      <th>absolutely</th>\n      <th>ac</th>\n      <th>acceptable</th>\n      <th>access</th>\n      <th>accessible</th>\n      <th>accessing</th>\n      <th>accessory</th>\n      <th>...</th>\n      <th>yes</th>\n      <th>yesterday</th>\n      <th>yet</th>\n      <th>yield</th>\n      <th>zealand</th>\n      <th>zen</th>\n      <th>zennx</th>\n      <th>zero</th>\n      <th>zone</th>\n      <th>zoom</th>\n    </tr>\n  </thead>\n  <tbody>\n    <tr>\n      <th>0</th>\n      <td>0.0</td>\n      <td>0.0</td>\n      <td>0.0</td>\n      <td>0.0</td>\n      <td>0.0</td>\n      <td>0.0</td>\n      <td>0.0</td>\n      <td>0.0</td>\n      <td>0.0</td>\n      <td>0.0</td>\n      <td>...</td>\n      <td>0.0</td>\n      <td>0.000000</td>\n      <td>0.000000</td>\n      <td>0.0</td>\n      <td>0.0</td>\n      <td>0.0</td>\n      <td>0.0</td>\n      <td>0.0</td>\n      <td>0.0</td>\n      <td>0.0</td>\n    </tr>\n    <tr>\n      <th>1</th>\n      <td>0.0</td>\n      <td>0.0</td>\n      <td>0.0</td>\n      <td>0.0</td>\n      <td>0.0</td>\n      <td>0.0</td>\n      <td>0.0</td>\n      <td>0.0</td>\n      <td>0.0</td>\n      <td>0.0</td>\n      <td>...</td>\n      <td>0.0</td>\n      <td>0.000000</td>\n      <td>0.000000</td>\n      <td>0.0</td>\n      <td>0.0</td>\n      <td>0.0</td>\n      <td>0.0</td>\n      <td>0.0</td>\n      <td>0.0</td>\n      <td>0.0</td>\n    </tr>\n    <tr>\n      <th>2</th>\n      <td>0.0</td>\n      <td>0.0</td>\n      <td>0.0</td>\n      <td>0.0</td>\n      <td>0.0</td>\n      <td>0.0</td>\n      <td>0.0</td>\n      <td>0.0</td>\n      <td>0.0</td>\n      <td>0.0</td>\n      <td>...</td>\n      <td>0.0</td>\n      <td>0.000000</td>\n      <td>0.000000</td>\n      <td>0.0</td>\n      <td>0.0</td>\n      <td>0.0</td>\n      <td>0.0</td>\n      <td>0.0</td>\n      <td>0.0</td>\n      <td>0.0</td>\n    </tr>\n    <tr>\n      <th>3</th>\n      <td>0.0</td>\n      <td>0.0</td>\n      <td>0.0</td>\n      <td>0.0</td>\n      <td>0.0</td>\n      <td>0.0</td>\n      <td>0.0</td>\n      <td>0.0</td>\n      <td>0.0</td>\n      <td>0.0</td>\n      <td>...</td>\n      <td>0.0</td>\n      <td>0.568211</td>\n      <td>0.454485</td>\n      <td>0.0</td>\n      <td>0.0</td>\n      <td>0.0</td>\n      <td>0.0</td>\n      <td>0.0</td>\n      <td>0.0</td>\n      <td>0.0</td>\n    </tr>\n    <tr>\n      <th>4</th>\n      <td>0.0</td>\n      <td>0.0</td>\n      <td>0.0</td>\n      <td>0.0</td>\n      <td>0.0</td>\n      <td>0.0</td>\n      <td>0.0</td>\n      <td>0.0</td>\n      <td>0.0</td>\n      <td>0.0</td>\n      <td>...</td>\n      <td>0.0</td>\n      <td>0.000000</td>\n      <td>0.000000</td>\n      <td>0.0</td>\n      <td>0.0</td>\n      <td>0.0</td>\n      <td>0.0</td>\n      <td>0.0</td>\n      <td>0.0</td>\n      <td>0.0</td>\n    </tr>\n    <tr>\n      <th>...</th>\n      <td>...</td>\n      <td>...</td>\n      <td>...</td>\n      <td>...</td>\n      <td>...</td>\n      <td>...</td>\n      <td>...</td>\n      <td>...</td>\n      <td>...</td>\n      <td>...</td>\n      <td>...</td>\n      <td>...</td>\n      <td>...</td>\n      <td>...</td>\n      <td>...</td>\n      <td>...</td>\n      <td>...</td>\n      <td>...</td>\n      <td>...</td>\n      <td>...</td>\n      <td>...</td>\n    </tr>\n    <tr>\n      <th>3011</th>\n      <td>0.0</td>\n      <td>0.0</td>\n      <td>0.0</td>\n      <td>0.0</td>\n      <td>0.0</td>\n      <td>0.0</td>\n      <td>0.0</td>\n      <td>0.0</td>\n      <td>0.0</td>\n      <td>0.0</td>\n      <td>...</td>\n      <td>0.0</td>\n      <td>0.000000</td>\n      <td>0.000000</td>\n      <td>0.0</td>\n      <td>0.0</td>\n      <td>0.0</td>\n      <td>0.0</td>\n      <td>0.0</td>\n      <td>0.0</td>\n      <td>0.0</td>\n    </tr>\n    <tr>\n      <th>3012</th>\n      <td>0.0</td>\n      <td>0.0</td>\n      <td>0.0</td>\n      <td>0.0</td>\n      <td>0.0</td>\n      <td>0.0</td>\n      <td>0.0</td>\n      <td>0.0</td>\n      <td>0.0</td>\n      <td>0.0</td>\n      <td>...</td>\n      <td>0.0</td>\n      <td>0.000000</td>\n      <td>0.452703</td>\n      <td>0.0</td>\n      <td>0.0</td>\n      <td>0.0</td>\n      <td>0.0</td>\n      <td>0.0</td>\n      <td>0.0</td>\n      <td>0.0</td>\n    </tr>\n    <tr>\n      <th>3013</th>\n      <td>0.0</td>\n      <td>0.0</td>\n      <td>0.0</td>\n      <td>0.0</td>\n      <td>0.0</td>\n      <td>0.0</td>\n      <td>0.0</td>\n      <td>0.0</td>\n      <td>0.0</td>\n      <td>0.0</td>\n      <td>...</td>\n      <td>0.0</td>\n      <td>0.000000</td>\n      <td>0.000000</td>\n      <td>0.0</td>\n      <td>0.0</td>\n      <td>0.0</td>\n      <td>0.0</td>\n      <td>0.0</td>\n      <td>0.0</td>\n      <td>0.0</td>\n    </tr>\n    <tr>\n      <th>3014</th>\n      <td>0.0</td>\n      <td>0.0</td>\n      <td>0.0</td>\n      <td>0.0</td>\n      <td>0.0</td>\n      <td>0.0</td>\n      <td>0.0</td>\n      <td>0.0</td>\n      <td>0.0</td>\n      <td>0.0</td>\n      <td>...</td>\n      <td>0.0</td>\n      <td>0.000000</td>\n      <td>0.000000</td>\n      <td>0.0</td>\n      <td>0.0</td>\n      <td>0.0</td>\n      <td>0.0</td>\n      <td>0.0</td>\n      <td>0.0</td>\n      <td>0.0</td>\n    </tr>\n    <tr>\n      <th>3015</th>\n      <td>0.0</td>\n      <td>0.0</td>\n      <td>0.0</td>\n      <td>0.0</td>\n      <td>0.0</td>\n      <td>0.0</td>\n      <td>0.0</td>\n      <td>0.0</td>\n      <td>0.0</td>\n      <td>0.0</td>\n      <td>...</td>\n      <td>0.0</td>\n      <td>0.000000</td>\n      <td>0.000000</td>\n      <td>0.0</td>\n      <td>0.0</td>\n      <td>0.0</td>\n      <td>0.0</td>\n      <td>0.0</td>\n      <td>0.0</td>\n      <td>0.0</td>\n    </tr>\n  </tbody>\n</table>\n<p>3016 rows × 2147 columns</p>\n</div>"
     },
     "execution_count": 140,
     "metadata": {},
     "output_type": "execute_result"
    }
   ],
   "source": [
    "pd.DataFrame(Xtrain.toarray(), columns=tfidf_vectorizador.get_feature_names_out())"
   ],
   "metadata": {
    "collapsed": false,
    "ExecuteTime": {
     "start_time": "2023-04-12T12:18:40.097486Z",
     "end_time": "2023-04-12T12:18:40.307330Z"
    }
   }
  },
  {
   "cell_type": "code",
   "execution_count": 141,
   "outputs": [],
   "source": [
    "from sklearn.linear_model import LogisticRegression\n",
    "from sklearn.tree import DecisionTreeClassifier\n",
    "from sklearn.neighbors import KNeighborsClassifier\n",
    "from sklearn.discriminant_analysis import LinearDiscriminantAnalysis\n",
    "from sklearn.naive_bayes import GaussianNB\n",
    "from sklearn.ensemble import RandomForestClassifier\n",
    "from sklearn.tree import DecisionTreeClassifier\n",
    "from sklearn.ensemble import BaggingClassifier\n",
    "from sklearn.ensemble import GradientBoostingClassifier\n",
    "from sklearn.ensemble import StackingClassifier\n",
    "from xgboost import XGBClassifier\n",
    "from sklearn.svm import SVC\n",
    "from sklearn.neighbors import KNeighborsClassifier\n",
    "from sklearn.discriminant_analysis import LinearDiscriminantAnalysis\n",
    "from sklearn.naive_bayes import GaussianNB\n",
    "from sklearn.model_selection import KFold\n",
    "from sklearn.model_selection import cross_val_score\n",
    "from sklearn.model_selection import GridSearchCV\n",
    "from sklearn.model_selection import train_test_split\n",
    "from sklearn.metrics import classification_report"
   ],
   "metadata": {
    "collapsed": false,
    "ExecuteTime": {
     "start_time": "2023-04-12T12:18:40.190233Z",
     "end_time": "2023-04-12T12:18:40.307546Z"
    }
   }
  },
  {
   "cell_type": "code",
   "execution_count": 142,
   "outputs": [],
   "source": [
    "kf = KFold(n_splits=5, shuffle=True, random_state=0)"
   ],
   "metadata": {
    "collapsed": false,
    "ExecuteTime": {
     "start_time": "2023-04-12T12:18:40.200758Z",
     "end_time": "2023-04-12T12:18:40.307720Z"
    }
   }
  },
  {
   "cell_type": "code",
   "execution_count": 143,
   "outputs": [],
   "source": [
    "models = []\n",
    "models.append(('glm', LogisticRegression(random_state=99)))\n",
    "models.append(('dectree', DecisionTreeClassifier(random_state=99)))\n",
    "models.append(('rf', RandomForestClassifier(random_state=99)))\n",
    "models.append(('gb', GradientBoostingClassifier(random_state=99)))\n",
    "models.append(('xgb', XGBClassifier()))\n",
    "models.append(('bag', BaggingClassifier(random_state=99)))\n",
    "models.append(('svmr', SVC(random_state=99)))\n",
    "models.append(('svml', SVC(kernel='linear', random_state=99)))\n",
    "\n",
    "\n",
    "def boxplots_algorithms(results, names):\n",
    "    plt.figure(figsize=(8, 8))\n",
    "    plt.boxplot(results)\n",
    "    plt.xticks(range(1, len(names) + 1), names)\n",
    "    plt.show()"
   ],
   "metadata": {
    "collapsed": false,
    "ExecuteTime": {
     "start_time": "2023-04-12T12:18:40.226267Z",
     "end_time": "2023-04-12T12:18:40.307828Z"
    }
   }
  },
  {
   "cell_type": "code",
   "execution_count": 144,
   "outputs": [
    {
     "data": {
      "text/plain": "<Figure size 800x800 with 1 Axes>",
      "image/png": "[encoded data removed]"
     },
     "metadata": {},
     "output_type": "display_data"
    }
   ],
   "source": [
    "results = []\n",
    "names = []\n",
    "\n",
    "for name, model in models:\n",
    "    acc = cross_val_score(model, Xtrain, Ytrain, cv=kf, scoring='f1')\n",
    "    names.append(name)\n",
    "    results.append(acc)\n",
    "\n",
    "boxplots_algorithms(results, names)"
   ],
   "metadata": {
    "collapsed": false,
    "ExecuteTime": {
     "start_time": "2023-04-12T12:18:40.232263Z",
     "end_time": "2023-04-12T12:19:10.387826Z"
    }
   }
  },
  {
   "cell_type": "code",
   "execution_count": 145,
   "outputs": [
    {
     "data": {
      "text/plain": "0.832914539551948"
     },
     "execution_count": 145,
     "metadata": {},
     "output_type": "execute_result"
    }
   ],
   "source": [
    "svm = SVC(random_state=99, kernel = 'linear')\n",
    "svm.fit(Xtrain,Ytrain)\n",
    "mean(cross_val_score(svm,Xtrain,Ytrain,scoring = 'f1',cv = kf))"
   ],
   "metadata": {
    "collapsed": false,
    "ExecuteTime": {
     "start_time": "2023-04-12T12:19:10.392541Z",
     "end_time": "2023-04-12T12:19:14.382978Z"
    }
   }
  },
  {
   "cell_type": "code",
   "execution_count": 146,
   "outputs": [
    {
     "data": {
      "text/plain": "0.7748701305832866"
     },
     "execution_count": 146,
     "metadata": {},
     "output_type": "execute_result"
    }
   ],
   "source": [
    "mean(cross_val_score(svm,Xtrain,Ytrain,scoring = 'accuracy',cv = kf))"
   ],
   "metadata": {
    "collapsed": false,
    "ExecuteTime": {
     "start_time": "2023-04-12T12:19:14.388257Z",
     "end_time": "2023-04-12T12:19:17.415381Z"
    }
   }
  },
  {
   "cell_type": "code",
   "execution_count": 147,
   "outputs": [
    {
     "data": {
      "text/plain": "    ability      able  absolute  absolutely        ac  acceptable    access  \\\n0  0.146019  0.267375  0.341288    0.397044  0.259625    0.560377 -0.250335   \n\n   accessible  accessing  accessory  ...       yes  yesterday       yet  \\\n0    0.248576  -0.726029   0.013871  ... -0.959272   0.087498  0.885314   \n\n      yield   zealand       zen     zennx      zero      zone     zoom  \n0  0.085434  0.459515  0.500925 -0.316454 -0.620906 -0.837327 -0.23528  \n\n[1 rows x 2147 columns]",
      "text/html": "<div>\n<style scoped>\n    .dataframe tbody tr th:only-of-type {\n        vertical-align: middle;\n    }\n\n    .dataframe tbody tr th {\n        vertical-align: top;\n    }\n\n    .dataframe thead th {\n        text-align: right;\n    }\n</style>\n<table border=\"1\" class=\"dataframe\">\n  <thead>\n    <tr style=\"text-align: right;\">\n      <th></th>\n      <th>ability</th>\n      <th>able</th>\n      <th>absolute</th>\n      <th>absolutely</th>\n      <th>ac</th>\n      <th>acceptable</th>\n      <th>access</th>\n      <th>accessible</th>\n      <th>accessing</th>\n      <th>accessory</th>\n      <th>...</th>\n      <th>yes</th>\n      <th>yesterday</th>\n      <th>yet</th>\n      <th>yield</th>\n      <th>zealand</th>\n      <th>zen</th>\n      <th>zennx</th>\n      <th>zero</th>\n      <th>zone</th>\n      <th>zoom</th>\n    </tr>\n  </thead>\n  <tbody>\n    <tr>\n      <th>0</th>\n      <td>0.146019</td>\n      <td>0.267375</td>\n      <td>0.341288</td>\n      <td>0.397044</td>\n      <td>0.259625</td>\n      <td>0.560377</td>\n      <td>-0.250335</td>\n      <td>0.248576</td>\n      <td>-0.726029</td>\n      <td>0.013871</td>\n      <td>...</td>\n      <td>-0.959272</td>\n      <td>0.087498</td>\n      <td>0.885314</td>\n      <td>0.085434</td>\n      <td>0.459515</td>\n      <td>0.500925</td>\n      <td>-0.316454</td>\n      <td>-0.620906</td>\n      <td>-0.837327</td>\n      <td>-0.23528</td>\n    </tr>\n  </tbody>\n</table>\n<p>1 rows × 2147 columns</p>\n</div>"
     },
     "execution_count": 147,
     "metadata": {},
     "output_type": "execute_result"
    }
   ],
   "source": [
    "data = pd.DataFrame(svm.coef_.toarray(), columns=tfidf_vectorizador.get_feature_names_out())\n",
    "data"
   ],
   "metadata": {
    "collapsed": false,
    "ExecuteTime": {
     "start_time": "2023-04-12T12:19:17.537846Z",
     "end_time": "2023-04-12T12:19:17.544999Z"
    }
   }
  },
  {
   "cell_type": "code",
   "execution_count": 148,
   "outputs": [
    {
     "data": {
      "text/plain": "                   0\nability     0.146019\nable        0.267375\nabsolute    0.341288\nabsolutely  0.397044\nac          0.259625\n...              ...\nzen         0.500925\nzennx      -0.316454\nzero       -0.620906\nzone       -0.837327\nzoom       -0.235280\n\n[2147 rows x 1 columns]",
      "text/html": "<div>\n<style scoped>\n    .dataframe tbody tr th:only-of-type {\n        vertical-align: middle;\n    }\n\n    .dataframe tbody tr th {\n        vertical-align: top;\n    }\n\n    .dataframe thead th {\n        text-align: right;\n    }\n</style>\n<table border=\"1\" class=\"dataframe\">\n  <thead>\n    <tr style=\"text-align: right;\">\n      <th></th>\n      <th>0</th>\n    </tr>\n  </thead>\n  <tbody>\n    <tr>\n      <th>ability</th>\n      <td>0.146019</td>\n    </tr>\n    <tr>\n      <th>able</th>\n      <td>0.267375</td>\n    </tr>\n    <tr>\n      <th>absolute</th>\n      <td>0.341288</td>\n    </tr>\n    <tr>\n      <th>absolutely</th>\n      <td>0.397044</td>\n    </tr>\n    <tr>\n      <th>ac</th>\n      <td>0.259625</td>\n    </tr>\n    <tr>\n      <th>...</th>\n      <td>...</td>\n    </tr>\n    <tr>\n      <th>zen</th>\n      <td>0.500925</td>\n    </tr>\n    <tr>\n      <th>zennx</th>\n      <td>-0.316454</td>\n    </tr>\n    <tr>\n      <th>zero</th>\n      <td>-0.620906</td>\n    </tr>\n    <tr>\n      <th>zone</th>\n      <td>-0.837327</td>\n    </tr>\n    <tr>\n      <th>zoom</th>\n      <td>-0.235280</td>\n    </tr>\n  </tbody>\n</table>\n<p>2147 rows × 1 columns</p>\n</div>"
     },
     "execution_count": 148,
     "metadata": {},
     "output_type": "execute_result"
    }
   ],
   "source": [
    "data = data.T\n",
    "data"
   ],
   "metadata": {
    "collapsed": false,
    "ExecuteTime": {
     "start_time": "2023-04-12T12:19:17.553202Z",
     "end_time": "2023-04-12T12:19:17.584288Z"
    }
   }
  },
  {
   "cell_type": "code",
   "execution_count": 149,
   "outputs": [
    {
     "data": {
      "text/plain": "           index         0       abs\n803        great  3.148710  3.148710\n1077        love  2.367070  2.367070\n797         good  2.295454  2.295454\n2121       would -2.294201  2.294201\n1650     scratch -2.289139  2.289139\n...          ...       ...       ...\n1293          ot  0.000000  0.000000\n1447     printer  0.000000  0.000000\n957       jacket  0.000000  0.000000\n457       decade  0.000000  0.000000\n344   competitor  0.000000  0.000000\n\n[2147 rows x 3 columns]",
      "text/html": "<div>\n<style scoped>\n    .dataframe tbody tr th:only-of-type {\n        vertical-align: middle;\n    }\n\n    .dataframe tbody tr th {\n        vertical-align: top;\n    }\n\n    .dataframe thead th {\n        text-align: right;\n    }\n</style>\n<table border=\"1\" class=\"dataframe\">\n  <thead>\n    <tr style=\"text-align: right;\">\n      <th></th>\n      <th>index</th>\n      <th>0</th>\n      <th>abs</th>\n    </tr>\n  </thead>\n  <tbody>\n    <tr>\n      <th>803</th>\n      <td>great</td>\n      <td>3.148710</td>\n      <td>3.148710</td>\n    </tr>\n    <tr>\n      <th>1077</th>\n      <td>love</td>\n      <td>2.367070</td>\n      <td>2.367070</td>\n    </tr>\n    <tr>\n      <th>797</th>\n      <td>good</td>\n      <td>2.295454</td>\n      <td>2.295454</td>\n    </tr>\n    <tr>\n      <th>2121</th>\n      <td>would</td>\n      <td>-2.294201</td>\n      <td>2.294201</td>\n    </tr>\n    <tr>\n      <th>1650</th>\n      <td>scratch</td>\n      <td>-2.289139</td>\n      <td>2.289139</td>\n    </tr>\n    <tr>\n      <th>...</th>\n      <td>...</td>\n      <td>...</td>\n      <td>...</td>\n    </tr>\n    <tr>\n      <th>1293</th>\n      <td>ot</td>\n      <td>0.000000</td>\n      <td>0.000000</td>\n    </tr>\n    <tr>\n      <th>1447</th>\n      <td>printer</td>\n      <td>0.000000</td>\n      <td>0.000000</td>\n    </tr>\n    <tr>\n      <th>957</th>\n      <td>jacket</td>\n      <td>0.000000</td>\n      <td>0.000000</td>\n    </tr>\n    <tr>\n      <th>457</th>\n      <td>decade</td>\n      <td>0.000000</td>\n      <td>0.000000</td>\n    </tr>\n    <tr>\n      <th>344</th>\n      <td>competitor</td>\n      <td>0.000000</td>\n      <td>0.000000</td>\n    </tr>\n  </tbody>\n</table>\n<p>2147 rows × 3 columns</p>\n</div>"
     },
     "execution_count": 149,
     "metadata": {},
     "output_type": "execute_result"
    }
   ],
   "source": [
    "data['abs'] = abs(data)\n",
    "data.reset_index(inplace= True)\n",
    "data.sort_values(by = 'abs', ascending= False)"
   ],
   "metadata": {
    "collapsed": false,
    "ExecuteTime": {
     "start_time": "2023-04-12T12:19:17.565750Z",
     "end_time": "2023-04-12T12:19:17.596633Z"
    }
   }
  },
  {
   "cell_type": "code",
   "execution_count": 150,
   "outputs": [
    {
     "data": {
      "text/plain": "<Figure size 4000x1000 with 1 Axes>",
      "image/png": "[encoded data removed]"
     },
     "metadata": {},
     "output_type": "display_data"
    }
   ],
   "source": [
    "data = data.sort_values(by = 'abs', ascending= False)\n",
    "plt.figure(figsize=(40,10))\n",
    "sns.barplot(data = data.iloc[:20,:], x = 'index' ,y = 'abs')\n",
    "plt.show()"
   ],
   "metadata": {
    "collapsed": false,
    "ExecuteTime": {
     "start_time": "2023-04-12T12:19:17.586862Z",
     "end_time": "2023-04-12T12:19:18.165199Z"
    }
   }
  },
  {
   "cell_type": "code",
   "execution_count": 150,
   "outputs": [],
   "source": [],
   "metadata": {
    "collapsed": false,
    "ExecuteTime": {
     "start_time": "2023-04-12T12:18:39.738701Z",
     "end_time": "2023-04-12T12:19:18.171936Z"
    }
   }
  }
 ],
 "metadata": {
  "kernelspec": {
   "display_name": "Python 3",
   "language": "python",
   "name": "python3"
  },
  "language_info": {
   "codemirror_mode": {
    "name": "ipython",
    "version": 2
   },
   "file_extension": ".py",
   "mimetype": "text/x-python",
   "name": "python",
   "nbconvert_exporter": "python",
   "pygments_lexer": "ipython2",
   "version": "2.7.6"
  }
 },
 "nbformat": 4,
 "nbformat_minor": 0
}
