{
 "cells": [
  {
   "cell_type": "markdown",
   "source": [
    "# Oracle-Reto 2: Análisis de sentimiento\n",
    "\n",
    "*NUWE EVA*, la cadena de restauración fast food y healthy, sigue creciendo y queremos dar un paso más para mejorar y ofrecer el mejor servicio posible a nuestros clientes.\n",
    "\n",
    "Queremos evolucionar y ofrecer nuevas capacidades a nuestro robot y talentoso camarero, *EVA*, añadiendo la función de poder detectar, a través de frases y palabras utilizadas por los comensales, el grado de satisfacción de los platos probados y así ver qué platos y productos han gustado más o menos a los clientes.\n",
    "\n",
    "Nuestro robot ya sabe detectar lo que pedirán los comensales según los productos elegidos. Ahora queremos saber cuál es el feedback de cada cliente para detectar si le ha gustado o no el plato servido.\n",
    "\n",
    "> Objetivo\n",
    "Crea un modelo predictivo de **clasificación** para poder **ordenar y o catalogar las reseñas**. Primero entrena tu modelo con las reseñas de entrenamiento. Una vez tengas el modelo que maximice la puntuación F1 (macro.), utiliza las reseñas de prueba como entrada para tu modelo."
   ],
   "metadata": {
    "collapsed": false
   }
  },
  {
   "cell_type": "code",
   "execution_count": 3,
   "outputs": [],
   "source": [
    "from numpy import *\n",
    "import pandas as pd\n",
    "import seaborn as sns\n",
    "import matplotlib.pyplot as plt\n",
    "import contractions\n",
    "from textblob import TextBlob\n",
    "import nltk as nlp\n",
    "from nltk import word_tokenize\n",
    "from nltk.corpus import stopwords\n",
    "import re\n",
    "from sklearn.feature_extraction.text import TfidfVectorizer\n",
    "\n",
    "from sklearn.linear_model import LogisticRegression\n",
    "from sklearn.tree import DecisionTreeClassifier\n",
    "from sklearn.neighbors import KNeighborsClassifier\n",
    "from sklearn.discriminant_analysis import LinearDiscriminantAnalysis\n",
    "from sklearn.naive_bayes import GaussianNB\n",
    "from sklearn.ensemble import RandomForestClassifier\n",
    "from sklearn.tree import DecisionTreeClassifier\n",
    "from sklearn.ensemble import BaggingClassifier\n",
    "from sklearn.ensemble import GradientBoostingClassifier\n",
    "from sklearn.ensemble import StackingClassifier\n",
    "from xgboost import XGBClassifier\n",
    "from sklearn.svm import SVC\n",
    "from sklearn.neighbors import KNeighborsClassifier\n",
    "from sklearn.discriminant_analysis import LinearDiscriminantAnalysis\n",
    "from sklearn.naive_bayes import GaussianNB\n",
    "from sklearn.model_selection import KFold\n",
    "from sklearn.model_selection import cross_val_score\n",
    "from sklearn.model_selection import GridSearchCV\n",
    "from sklearn.model_selection import train_test_split\n",
    "from sklearn.metrics import classification_report\n",
    "\n",
    "from tensorflow import keras\n",
    "from tensorflow.keras import layers\n",
    "from tensorflow.keras import callbacks\n",
    "from tensorflow.keras.callbacks import EarlyStopping\n",
    "from imblearn.over_sampling import SMOTE"
   ],
   "metadata": {
    "collapsed": false,
    "ExecuteTime": {
     "start_time": "2023-04-19T13:37:05.949493Z",
     "end_time": "2023-04-19T13:37:06.308564Z"
    }
   }
  },
  {
   "cell_type": "code",
   "execution_count": 4,
   "outputs": [],
   "source": [
    "train = pd.read_csv('../Data/train.csv',index_col = [0])\n",
    "test = pd.read_csv('../Data/test.csv',index_col = [0])"
   ],
   "metadata": {
    "collapsed": false,
    "ExecuteTime": {
     "start_time": "2023-04-19T13:37:05.958461Z",
     "end_time": "2023-04-19T13:37:06.501308Z"
    }
   }
  },
  {
   "cell_type": "code",
   "execution_count": 5,
   "outputs": [
    {
     "data": {
      "text/plain": "                                                        text  label label_text\ntrain_idx                                                                     \n0          i really do recommend this to anyone in need o...      1   positive\n1          very good every day camera fits nicely in the ...      1   positive\n2          but , dollar for dollar , this dvd player is p...      1   positive\n3          i got this phone yesterday and didn ' t find a...      1   positive\n4                                    1 ) price gb of storage      1   positive",
      "text/html": "<div>\n<style scoped>\n    .dataframe tbody tr th:only-of-type {\n        vertical-align: middle;\n    }\n\n    .dataframe tbody tr th {\n        vertical-align: top;\n    }\n\n    .dataframe thead th {\n        text-align: right;\n    }\n</style>\n<table border=\"1\" class=\"dataframe\">\n  <thead>\n    <tr style=\"text-align: right;\">\n      <th></th>\n      <th>text</th>\n      <th>label</th>\n      <th>label_text</th>\n    </tr>\n    <tr>\n      <th>train_idx</th>\n      <th></th>\n      <th></th>\n      <th></th>\n    </tr>\n  </thead>\n  <tbody>\n    <tr>\n      <th>0</th>\n      <td>i really do recommend this to anyone in need o...</td>\n      <td>1</td>\n      <td>positive</td>\n    </tr>\n    <tr>\n      <th>1</th>\n      <td>very good every day camera fits nicely in the ...</td>\n      <td>1</td>\n      <td>positive</td>\n    </tr>\n    <tr>\n      <th>2</th>\n      <td>but , dollar for dollar , this dvd player is p...</td>\n      <td>1</td>\n      <td>positive</td>\n    </tr>\n    <tr>\n      <th>3</th>\n      <td>i got this phone yesterday and didn ' t find a...</td>\n      <td>1</td>\n      <td>positive</td>\n    </tr>\n    <tr>\n      <th>4</th>\n      <td>1 ) price gb of storage</td>\n      <td>1</td>\n      <td>positive</td>\n    </tr>\n  </tbody>\n</table>\n</div>"
     },
     "execution_count": 5,
     "metadata": {},
     "output_type": "execute_result"
    }
   ],
   "source": [
    "train.head()"
   ],
   "metadata": {
    "collapsed": false,
    "ExecuteTime": {
     "start_time": "2023-04-19T13:37:05.988905Z",
     "end_time": "2023-04-19T13:37:06.950110Z"
    }
   }
  },
  {
   "cell_type": "code",
   "execution_count": 6,
   "outputs": [
    {
     "data": {
      "text/plain": "                                                       text\ntest_idx                                                   \n0                                   fm receiver it has none\n1         the picture quality surprised me , when i firs...\n2         great video clip quality for a digital camera ...\n3         creative did well on its rechargeable battery ...\n4         i highly recommend this camera to anyone looki...",
      "text/html": "<div>\n<style scoped>\n    .dataframe tbody tr th:only-of-type {\n        vertical-align: middle;\n    }\n\n    .dataframe tbody tr th {\n        vertical-align: top;\n    }\n\n    .dataframe thead th {\n        text-align: right;\n    }\n</style>\n<table border=\"1\" class=\"dataframe\">\n  <thead>\n    <tr style=\"text-align: right;\">\n      <th></th>\n      <th>text</th>\n    </tr>\n    <tr>\n      <th>test_idx</th>\n      <th></th>\n    </tr>\n  </thead>\n  <tbody>\n    <tr>\n      <th>0</th>\n      <td>fm receiver it has none</td>\n    </tr>\n    <tr>\n      <th>1</th>\n      <td>the picture quality surprised me , when i firs...</td>\n    </tr>\n    <tr>\n      <th>2</th>\n      <td>great video clip quality for a digital camera ...</td>\n    </tr>\n    <tr>\n      <th>3</th>\n      <td>creative did well on its rechargeable battery ...</td>\n    </tr>\n    <tr>\n      <th>4</th>\n      <td>i highly recommend this camera to anyone looki...</td>\n    </tr>\n  </tbody>\n</table>\n</div>"
     },
     "execution_count": 6,
     "metadata": {},
     "output_type": "execute_result"
    }
   ],
   "source": [
    "test.head()"
   ],
   "metadata": {
    "collapsed": false,
    "ExecuteTime": {
     "start_time": "2023-04-19T13:37:06.029133Z",
     "end_time": "2023-04-19T13:37:06.952192Z"
    }
   }
  },
  {
   "cell_type": "code",
   "execution_count": 7,
   "outputs": [
    {
     "name": "stdout",
     "output_type": "stream",
     "text": [
      "shape de los datos train (3016, 3)\n",
      "shape de los datos test (754, 1)\n"
     ]
    }
   ],
   "source": [
    "''' shape '''\n",
    "print(f'shape de los datos train {train.shape}')\n",
    "print(f'shape de los datos test {test.shape}')"
   ],
   "metadata": {
    "collapsed": false,
    "ExecuteTime": {
     "start_time": "2023-04-19T13:37:06.039669Z",
     "end_time": "2023-04-19T13:37:06.961605Z"
    }
   }
  },
  {
   "cell_type": "code",
   "execution_count": 8,
   "outputs": [
    {
     "data": {
      "text/plain": "1    1926\n0    1090\nName: label, dtype: int64"
     },
     "execution_count": 8,
     "metadata": {},
     "output_type": "execute_result"
    }
   ],
   "source": [
    "train.label.value_counts()"
   ],
   "metadata": {
    "collapsed": false,
    "ExecuteTime": {
     "start_time": "2023-04-19T13:37:06.049666Z",
     "end_time": "2023-04-19T13:37:06.965063Z"
    }
   }
  },
  {
   "cell_type": "code",
   "execution_count": 9,
   "outputs": [
    {
     "data": {
      "text/plain": "4"
     },
     "execution_count": 9,
     "metadata": {},
     "output_type": "execute_result"
    }
   ],
   "source": [
    "''' valores duplicados '''\n",
    "train.duplicated().sum()"
   ],
   "metadata": {
    "collapsed": false,
    "ExecuteTime": {
     "start_time": "2023-04-19T13:37:06.059283Z",
     "end_time": "2023-04-19T13:37:06.967890Z"
    }
   }
  },
  {
   "cell_type": "code",
   "execution_count": 10,
   "outputs": [],
   "source": [
    "train = train.drop_duplicates()\n",
    "train.drop(['label_text'],axis = 1,inplace = True)"
   ],
   "metadata": {
    "collapsed": false,
    "ExecuteTime": {
     "start_time": "2023-04-19T13:37:06.069579Z",
     "end_time": "2023-04-19T13:37:06.968308Z"
    }
   }
  },
  {
   "cell_type": "markdown",
   "source": [
    "# Preprocessing"
   ],
   "metadata": {
    "collapsed": false,
    "ExecuteTime": {
     "start_time": "2023-04-19T13:08:08.648431Z",
     "end_time": "2023-04-19T13:08:10.223139Z"
    }
   },
   "outputs": [
    {
     "data": {
      "text/plain": "<Figure size 557.75x500 with 1 Axes>",
      "image/png": "[encoded data removed]"
     },
     "metadata": {},
     "output_type": "display_data"
    }
   ],
   "execution_count": 9
  },
  {
   "cell_type": "code",
   "execution_count": 11,
   "outputs": [
    {
     "data": {
      "text/plain": "<Figure size 557.75x500 with 1 Axes>",
      "image/png": "[encoded data removed]"
     },
     "metadata": {},
     "output_type": "display_data"
    }
   ],
   "source": [
    "train[\"char_len\"] = train[\"text\"].apply(lambda x: len(x))\n",
    "\n",
    "sns.displot(train, x=\"char_len\", kde=True, hue=\"label\")\n",
    "plt.show()\n",
    "\n",
    "# no existe diferencia"
   ],
   "metadata": {
    "collapsed": false,
    "ExecuteTime": {
     "start_time": "2023-04-19T13:37:06.094659Z",
     "end_time": "2023-04-19T13:37:07.449967Z"
    }
   }
  },
  {
   "cell_type": "code",
   "execution_count": 12,
   "outputs": [],
   "source": [
    "train.drop(columns=\"char_len\", inplace=True)"
   ],
   "metadata": {
    "collapsed": false,
    "ExecuteTime": {
     "start_time": "2023-04-19T13:37:07.304520Z",
     "end_time": "2023-04-19T13:37:07.450284Z"
    }
   }
  },
  {
   "cell_type": "code",
   "execution_count": 13,
   "outputs": [
    {
     "data": {
      "text/plain": "train_idx\n0       i really do recommend this to anyone in need o...\n1       very good every day camera fits nicely in the ...\n2       but , dollar for dollar , this dvd player is p...\n3       i got this phone yesterday and didn ' t find a...\n4                                 1 ) price gb of storage\n                              ...                        \n3011    as for itunes , i don ' t find it to be as goo...\n3012    i have not played with all the features yet , ...\n3013    applications it has lots of applications and t...\n3014                                    battery non issue\n3015    the fm tuner , the 5g of storage , and the rem...\nName: text, Length: 3012, dtype: object"
     },
     "execution_count": 13,
     "metadata": {},
     "output_type": "execute_result"
    }
   ],
   "source": [
    "train.text"
   ],
   "metadata": {
    "collapsed": false,
    "ExecuteTime": {
     "start_time": "2023-04-19T13:37:07.317142Z",
     "end_time": "2023-04-19T13:37:07.450908Z"
    }
   }
  },
  {
   "cell_type": "code",
   "execution_count": 14,
   "outputs": [],
   "source": [
    "train['text'] = train['text'].apply(lambda x: x.replace(\" ' \",\"'\"))\n",
    "train['text'] = train['text'].apply(lambda x: x.replace(\" n't \",\"n't \"))\n",
    "\n",
    "test['text'] = test['text'].apply(lambda x: x.replace(\" ' \",\"'\"))\n",
    "test['text'] = test['text'].apply(lambda x: x.replace(\" n't \",\"n't \"))"
   ],
   "metadata": {
    "collapsed": false,
    "ExecuteTime": {
     "start_time": "2023-04-19T13:37:07.341526Z",
     "end_time": "2023-04-19T13:37:07.451314Z"
    }
   }
  },
  {
   "cell_type": "code",
   "execution_count": 15,
   "outputs": [],
   "source": [
    "train['text'] = train['text'].apply(lambda x: x.replace(\"s'\",\"'s \"))\n",
    "\n",
    "test['text'] = test['text'].apply(lambda x: x.replace(\"s'\",\"'s \"))"
   ],
   "metadata": {
    "collapsed": false,
    "ExecuteTime": {
     "start_time": "2023-04-19T13:37:07.359782Z",
     "end_time": "2023-04-19T13:37:07.453426Z"
    }
   }
  },
  {
   "cell_type": "code",
   "execution_count": 16,
   "outputs": [
    {
     "data": {
      "text/plain": "train_idx\n0       i really do recommend this to anyone in need o...\n1       very good every day camera fits nicely in the ...\n2       but , dollar for dollar , this dvd player is p...\n3       i got this phone yesterday and didn't find any...\n4                                 1 ) price gb of storage\n                              ...                        \n3011    as for itunes , i don't find it to be as good ...\n3012    i have not played with all the features yet , ...\n3013    applications it has lots of applications and t...\n3014                                    battery non issue\n3015    the fm tuner , the 5g of storage , and the rem...\nName: text, Length: 3012, dtype: object"
     },
     "execution_count": 16,
     "metadata": {},
     "output_type": "execute_result"
    }
   ],
   "source": [
    "train['text']"
   ],
   "metadata": {
    "collapsed": false,
    "ExecuteTime": {
     "start_time": "2023-04-19T13:37:07.377161Z",
     "end_time": "2023-04-19T13:37:07.484877Z"
    }
   }
  },
  {
   "cell_type": "code",
   "execution_count": 17,
   "outputs": [],
   "source": [
    "# eliminamos las contracciones del tipo don't -> do not\n",
    "train[\"clean_text\"] = train[\"text\"].apply(lambda x: contractions.fix(x))\n",
    "\n",
    "test[\"clean_text\"] = test[\"text\"].apply(lambda x: contractions.fix(x))"
   ],
   "metadata": {
    "collapsed": false,
    "ExecuteTime": {
     "start_time": "2023-04-19T13:37:07.453120Z",
     "end_time": "2023-04-19T13:37:07.739794Z"
    }
   }
  },
  {
   "cell_type": "code",
   "execution_count": 18,
   "outputs": [
    {
     "data": {
      "text/plain": "train_idx\n0       i really do recommend this to anyone in need o...\n1       very good every day camera fits nicely in the ...\n2       but , dollar for dollar , this dvd player is p...\n3       i got this phone yesterday and did not find an...\n4                                 1 ) price gb of storage\n                              ...                        \n3011    as for itunes , i do not find it to be as good...\n3012    i have not played with all the features yet , ...\n3013    applications it has lots of applications and t...\n3014                                    battery non issue\n3015    the fm tuner , the 5g of storage , and the rem...\nName: clean_text, Length: 3012, dtype: object"
     },
     "execution_count": 18,
     "metadata": {},
     "output_type": "execute_result"
    }
   ],
   "source": [
    "train[\"clean_text\"]"
   ],
   "metadata": {
    "collapsed": false,
    "ExecuteTime": {
     "start_time": "2023-04-19T13:37:07.466707Z",
     "end_time": "2023-04-19T13:37:07.764982Z"
    }
   }
  },
  {
   "cell_type": "code",
   "execution_count": 19,
   "outputs": [],
   "source": [
    "def tokenizar(texto):\n",
    "    '''\n",
    "    Esta función limpia y tokeniza el texto en palabras individuales.\n",
    "    El orden en el que se va limpiando el texto no es arbitrario.\n",
    "    El listado de signos de puntuación se ha obtenido de: print(string.punctuation)\n",
    "    y re.escape(string.punctuation)\n",
    "    '''\n",
    "\n",
    "    # Se convierte t0do el texto a minúsculas\n",
    "    nuevo_texto = texto.lower()\n",
    "    # Eliminación de signos de puntuación\n",
    "    regex = '[\\\\!\\\\\"\\\\#\\\\$\\\\%\\\\&\\\\\\'\\\\(\\\\)\\\\*\\\\+\\\\,\\\\-\\\\.\\\\/\\\\:\\\\;\\\\<\\\\=\\\\>\\\\?\\\\@\\\\[\\\\\\\\\\\\]\\\\^_\\\\`\\\\{\\\\|\\\\}\\\\~]'\n",
    "    nuevo_texto = re.sub(regex , ' ', nuevo_texto)\n",
    "    # Eliminación de números\n",
    "    nuevo_texto = re.sub(\"\\d+\", ' ', nuevo_texto)\n",
    "    # Eliminación de espacios en blanco múltiples\n",
    "    nuevo_texto = re.sub(\"\\\\s+\", ' ', nuevo_texto)\n",
    "    # Tokenización por palabras individuales\n",
    "    nuevo_texto = nuevo_texto.split(sep = ' ')\n",
    "    # Eliminación de tokens con una longitud < 2\n",
    "    nuevo_texto = [token for token in nuevo_texto if len(token) > 1]\n",
    "\n",
    "    return(nuevo_texto)"
   ],
   "metadata": {
    "collapsed": false,
    "ExecuteTime": {
     "start_time": "2023-04-19T13:37:07.485528Z",
     "end_time": "2023-04-19T13:37:07.765775Z"
    }
   }
  },
  {
   "cell_type": "code",
   "execution_count": 20,
   "outputs": [
    {
     "data": {
      "text/plain": "                                                  clean_text  \\\ntrain_idx                                                      \n0          i really do recommend this to anyone in need o...   \n1          very good every day camera fits nicely in the ...   \n2          but , dollar for dollar , this dvd player is p...   \n3          i got this phone yesterday and did not find an...   \n4                                    1 ) price gb of storage   \n...                                                      ...   \n3011       as for itunes , i do not find it to be as good...   \n3012       i have not played with all the features yet , ...   \n3013       applications it has lots of applications and t...   \n3014                                       battery non issue   \n3015       the fm tuner , the 5g of storage , and the rem...   \n\n                                                       token  \ntrain_idx                                                     \n0          [really, do, recommend, this, to, anyone, in, ...  \n1          [very, good, every, day, camera, fits, nicely,...  \n2          [but, dollar, for, dollar, this, dvd, player, ...  \n3          [got, this, phone, yesterday, and, did, not, f...  \n4                                   [price, gb, of, storage]  \n...                                                      ...  \n3011       [as, for, itunes, do, not, find, it, to, be, a...  \n3012       [have, not, played, with, all, the, features, ...  \n3013       [applications, it, has, lots, of, applications...  \n3014                                   [battery, non, issue]  \n3015       [the, fm, tuner, the, of, storage, and, the, r...  \n\n[3012 rows x 2 columns]",
      "text/html": "<div>\n<style scoped>\n    .dataframe tbody tr th:only-of-type {\n        vertical-align: middle;\n    }\n\n    .dataframe tbody tr th {\n        vertical-align: top;\n    }\n\n    .dataframe thead th {\n        text-align: right;\n    }\n</style>\n<table border=\"1\" class=\"dataframe\">\n  <thead>\n    <tr style=\"text-align: right;\">\n      <th></th>\n      <th>clean_text</th>\n      <th>token</th>\n    </tr>\n    <tr>\n      <th>train_idx</th>\n      <th></th>\n      <th></th>\n    </tr>\n  </thead>\n  <tbody>\n    <tr>\n      <th>0</th>\n      <td>i really do recommend this to anyone in need o...</td>\n      <td>[really, do, recommend, this, to, anyone, in, ...</td>\n    </tr>\n    <tr>\n      <th>1</th>\n      <td>very good every day camera fits nicely in the ...</td>\n      <td>[very, good, every, day, camera, fits, nicely,...</td>\n    </tr>\n    <tr>\n      <th>2</th>\n      <td>but , dollar for dollar , this dvd player is p...</td>\n      <td>[but, dollar, for, dollar, this, dvd, player, ...</td>\n    </tr>\n    <tr>\n      <th>3</th>\n      <td>i got this phone yesterday and did not find an...</td>\n      <td>[got, this, phone, yesterday, and, did, not, f...</td>\n    </tr>\n    <tr>\n      <th>4</th>\n      <td>1 ) price gb of storage</td>\n      <td>[price, gb, of, storage]</td>\n    </tr>\n    <tr>\n      <th>...</th>\n      <td>...</td>\n      <td>...</td>\n    </tr>\n    <tr>\n      <th>3011</th>\n      <td>as for itunes , i do not find it to be as good...</td>\n      <td>[as, for, itunes, do, not, find, it, to, be, a...</td>\n    </tr>\n    <tr>\n      <th>3012</th>\n      <td>i have not played with all the features yet , ...</td>\n      <td>[have, not, played, with, all, the, features, ...</td>\n    </tr>\n    <tr>\n      <th>3013</th>\n      <td>applications it has lots of applications and t...</td>\n      <td>[applications, it, has, lots, of, applications...</td>\n    </tr>\n    <tr>\n      <th>3014</th>\n      <td>battery non issue</td>\n      <td>[battery, non, issue]</td>\n    </tr>\n    <tr>\n      <th>3015</th>\n      <td>the fm tuner , the 5g of storage , and the rem...</td>\n      <td>[the, fm, tuner, the, of, storage, and, the, r...</td>\n    </tr>\n  </tbody>\n</table>\n<p>3012 rows × 2 columns</p>\n</div>"
     },
     "execution_count": 20,
     "metadata": {},
     "output_type": "execute_result"
    }
   ],
   "source": [
    "train['token'] = train['clean_text'].apply(lambda x: tokenizar(x))\n",
    "test['token'] = test['clean_text'].apply(lambda x: tokenizar(x))\n",
    "train[['clean_text', 'token']]"
   ],
   "metadata": {
    "collapsed": false,
    "ExecuteTime": {
     "start_time": "2023-04-19T13:37:07.553766Z",
     "end_time": "2023-04-19T13:37:07.766963Z"
    }
   }
  },
  {
   "cell_type": "code",
   "execution_count": 21,
   "outputs": [
    {
     "data": {
      "text/plain": "                                                        text  label  \\\ntrain_idx                                                             \n0          i really do recommend this to anyone in need o...      1   \n0          i really do recommend this to anyone in need o...      1   \n0          i really do recommend this to anyone in need o...      1   \n0          i really do recommend this to anyone in need o...      1   \n0          i really do recommend this to anyone in need o...      1   \n\n                                                  clean_text      token  \ntrain_idx                                                                \n0          i really do recommend this to anyone in need o...     really  \n0          i really do recommend this to anyone in need o...         do  \n0          i really do recommend this to anyone in need o...  recommend  \n0          i really do recommend this to anyone in need o...       this  \n0          i really do recommend this to anyone in need o...         to  ",
      "text/html": "<div>\n<style scoped>\n    .dataframe tbody tr th:only-of-type {\n        vertical-align: middle;\n    }\n\n    .dataframe tbody tr th {\n        vertical-align: top;\n    }\n\n    .dataframe thead th {\n        text-align: right;\n    }\n</style>\n<table border=\"1\" class=\"dataframe\">\n  <thead>\n    <tr style=\"text-align: right;\">\n      <th></th>\n      <th>text</th>\n      <th>label</th>\n      <th>clean_text</th>\n      <th>token</th>\n    </tr>\n    <tr>\n      <th>train_idx</th>\n      <th></th>\n      <th></th>\n      <th></th>\n      <th></th>\n    </tr>\n  </thead>\n  <tbody>\n    <tr>\n      <th>0</th>\n      <td>i really do recommend this to anyone in need o...</td>\n      <td>1</td>\n      <td>i really do recommend this to anyone in need o...</td>\n      <td>really</td>\n    </tr>\n    <tr>\n      <th>0</th>\n      <td>i really do recommend this to anyone in need o...</td>\n      <td>1</td>\n      <td>i really do recommend this to anyone in need o...</td>\n      <td>do</td>\n    </tr>\n    <tr>\n      <th>0</th>\n      <td>i really do recommend this to anyone in need o...</td>\n      <td>1</td>\n      <td>i really do recommend this to anyone in need o...</td>\n      <td>recommend</td>\n    </tr>\n    <tr>\n      <th>0</th>\n      <td>i really do recommend this to anyone in need o...</td>\n      <td>1</td>\n      <td>i really do recommend this to anyone in need o...</td>\n      <td>this</td>\n    </tr>\n    <tr>\n      <th>0</th>\n      <td>i really do recommend this to anyone in need o...</td>\n      <td>1</td>\n      <td>i really do recommend this to anyone in need o...</td>\n      <td>to</td>\n    </tr>\n  </tbody>\n</table>\n</div>"
     },
     "execution_count": 21,
     "metadata": {},
     "output_type": "execute_result"
    }
   ],
   "source": [
    "Xtrain = train.explode('token')\n",
    "Xtest = test.explode('token')\n",
    "Xtrain.head()"
   ],
   "metadata": {
    "collapsed": false,
    "ExecuteTime": {
     "start_time": "2023-04-19T13:37:07.626485Z",
     "end_time": "2023-04-19T13:37:07.768137Z"
    }
   }
  },
  {
   "cell_type": "code",
   "execution_count": 22,
   "outputs": [
    {
     "data": {
      "text/plain": "count    3012.000000\nmean       16.293161\nstd         9.516930\nmin         1.000000\n25%         9.000000\n50%        14.000000\n75%        21.000000\nmax        72.000000\nName: token, dtype: float64"
     },
     "execution_count": 22,
     "metadata": {},
     "output_type": "execute_result"
    }
   ],
   "source": [
    "# Mean length and std of the reviews\n",
    "Xtrain.groupby(['train_idx'])['token'].count().describe()"
   ],
   "metadata": {
    "collapsed": false,
    "ExecuteTime": {
     "start_time": "2023-04-19T13:37:07.689369Z",
     "end_time": "2023-04-19T13:37:07.769760Z"
    }
   }
  },
  {
   "cell_type": "code",
   "execution_count": 23,
   "outputs": [
    {
     "data": {
      "text/plain": "the          3211\nand          1517\nis           1369\nit           1337\nto           1331\n             ... \nforeign         1\nhassles         1\nsubstance       1\nearned          1\nhandful         1\nName: token, Length: 4528, dtype: int64"
     },
     "execution_count": 23,
     "metadata": {},
     "output_type": "execute_result"
    }
   ],
   "source": [
    "# most used words in the reviews\n",
    "Xtrain['token'].value_counts(ascending=False)"
   ],
   "metadata": {
    "collapsed": false,
    "ExecuteTime": {
     "start_time": "2023-04-19T13:37:07.718899Z",
     "end_time": "2023-04-19T13:37:07.778764Z"
    }
   }
  },
  {
   "cell_type": "markdown",
   "source": [
    "Podemos observar como las palabras más utilizadas en las *reviews* son en su mayoría pronombres o conjunciones, que no aportan información alguna.\n",
    "\n",
    "Utilizaremos por tanto *stopwords* para eliminarlas."
   ],
   "metadata": {
    "collapsed": false,
    "ExecuteTime": {
     "start_time": "2023-04-19T13:08:10.704089Z",
     "end_time": "2023-04-19T13:08:10.957800Z"
    }
   },
   "outputs": [],
   "execution_count": 22
  },
  {
   "cell_type": "code",
   "execution_count": 24,
   "outputs": [],
   "source": [
    "from nltk.corpus import stopwords\n",
    "# Obtain list of stopwords\n",
    "stop_words = set(stopwords.words('english'))"
   ],
   "metadata": {
    "collapsed": false,
    "ExecuteTime": {
     "start_time": "2023-04-19T13:37:07.734211Z",
     "end_time": "2023-04-19T13:37:07.779981Z"
    }
   }
  },
  {
   "cell_type": "code",
   "execution_count": 25,
   "outputs": [],
   "source": [
    "# filtering stopwords\n",
    "Xtrain = Xtrain[~(Xtrain[\"token\"].isin(stop_words))]\n",
    "Xtest = Xtest[~(Xtest[\"token\"].isin(stop_words))]"
   ],
   "metadata": {
    "collapsed": false,
    "ExecuteTime": {
     "start_time": "2023-04-19T13:37:07.750422Z",
     "end_time": "2023-04-19T13:37:07.780639Z"
    }
   }
  },
  {
   "cell_type": "code",
   "execution_count": 26,
   "outputs": [],
   "source": [
    "# Lematize\n",
    "lemma = nlp.WordNetLemmatizer()\n",
    "Xtrain['token'] = [lemma.lemmatize(x) for x in Xtrain.token]\n",
    "Xtest['token'] = [lemma.lemmatize(x) for x in Xtest.token]"
   ],
   "metadata": {
    "collapsed": false,
    "ExecuteTime": {
     "start_time": "2023-04-19T13:37:07.765890Z",
     "end_time": "2023-04-19T13:37:11.163384Z"
    }
   }
  },
  {
   "cell_type": "code",
   "execution_count": 27,
   "outputs": [
    {
     "data": {
      "text/plain": "<Figure size 1000x600 with 1 Axes>",
      "image/png": "[encoded data removed]"
     },
     "metadata": {},
     "output_type": "display_data"
    }
   ],
   "source": [
    "# Top 10 words without stopwords\n",
    "plt.figure(figsize=(10, 6))\n",
    "counts  = Xtrain['token'].value_counts(ascending=False).reset_index().head(10)\n",
    "sns.barplot(data = counts, y = 'index', x = 'token', orient= 'h', palette= 'bright')\n",
    "plt.show()"
   ],
   "metadata": {
    "collapsed": false,
    "ExecuteTime": {
     "start_time": "2023-04-19T13:37:11.101972Z",
     "end_time": "2023-04-19T13:37:11.657632Z"
    }
   }
  },
  {
   "cell_type": "code",
   "execution_count": 28,
   "outputs": [
    {
     "data": {
      "text/plain": "                                                  clean_text      token\ntrain_idx                                                              \n0          i really do recommend this to anyone in need o...     really\n0          i really do recommend this to anyone in need o...  recommend\n0          i really do recommend this to anyone in need o...     anyone\n0          i really do recommend this to anyone in need o...       need\n0          i really do recommend this to anyone in need o...        new\n...                                                      ...        ...\n3015       the fm tuner , the 5g of storage , and the rem...    storage\n3015       the fm tuner , the 5g of storage , and the rem...  removable\n3015       the fm tuner , the 5g of storage , and the rem...       disk\n3015       the fm tuner , the 5g of storage , and the rem...      great\n3015       the fm tuner , the 5g of storage , and the rem...    feature\n\n[25792 rows x 2 columns]",
      "text/html": "<div>\n<style scoped>\n    .dataframe tbody tr th:only-of-type {\n        vertical-align: middle;\n    }\n\n    .dataframe tbody tr th {\n        vertical-align: top;\n    }\n\n    .dataframe thead th {\n        text-align: right;\n    }\n</style>\n<table border=\"1\" class=\"dataframe\">\n  <thead>\n    <tr style=\"text-align: right;\">\n      <th></th>\n      <th>clean_text</th>\n      <th>token</th>\n    </tr>\n    <tr>\n      <th>train_idx</th>\n      <th></th>\n      <th></th>\n    </tr>\n  </thead>\n  <tbody>\n    <tr>\n      <th>0</th>\n      <td>i really do recommend this to anyone in need o...</td>\n      <td>really</td>\n    </tr>\n    <tr>\n      <th>0</th>\n      <td>i really do recommend this to anyone in need o...</td>\n      <td>recommend</td>\n    </tr>\n    <tr>\n      <th>0</th>\n      <td>i really do recommend this to anyone in need o...</td>\n      <td>anyone</td>\n    </tr>\n    <tr>\n      <th>0</th>\n      <td>i really do recommend this to anyone in need o...</td>\n      <td>need</td>\n    </tr>\n    <tr>\n      <th>0</th>\n      <td>i really do recommend this to anyone in need o...</td>\n      <td>new</td>\n    </tr>\n    <tr>\n      <th>...</th>\n      <td>...</td>\n      <td>...</td>\n    </tr>\n    <tr>\n      <th>3015</th>\n      <td>the fm tuner , the 5g of storage , and the rem...</td>\n      <td>storage</td>\n    </tr>\n    <tr>\n      <th>3015</th>\n      <td>the fm tuner , the 5g of storage , and the rem...</td>\n      <td>removable</td>\n    </tr>\n    <tr>\n      <th>3015</th>\n      <td>the fm tuner , the 5g of storage , and the rem...</td>\n      <td>disk</td>\n    </tr>\n    <tr>\n      <th>3015</th>\n      <td>the fm tuner , the 5g of storage , and the rem...</td>\n      <td>great</td>\n    </tr>\n    <tr>\n      <th>3015</th>\n      <td>the fm tuner , the 5g of storage , and the rem...</td>\n      <td>feature</td>\n    </tr>\n  </tbody>\n</table>\n<p>25792 rows × 2 columns</p>\n</div>"
     },
     "execution_count": 28,
     "metadata": {},
     "output_type": "execute_result"
    }
   ],
   "source": [
    "Xtrain[['clean_text','token']]"
   ],
   "metadata": {
    "collapsed": false,
    "ExecuteTime": {
     "start_time": "2023-04-19T13:37:11.632547Z",
     "end_time": "2023-04-19T13:37:11.673133Z"
    }
   }
  },
  {
   "cell_type": "code",
   "execution_count": 29,
   "outputs": [],
   "source": [
    "listaTrain = []\n",
    "listaTest = []\n",
    "for i in range(train.shape[0]):\n",
    "    listaTrain.append(' '.join(Xtrain.reset_index()[Xtrain.reset_index().train_idx == i]['token']))\n",
    "for i in range(test.shape[0]):\n",
    "    listaTest.append(' '.join(Xtest.reset_index()[Xtest.reset_index().test_idx == i]['token']))\n",
    "\n",
    "XtrainNew = pd.DataFrame(listaTrain)\n",
    "XtestNew = pd.DataFrame(listaTest)"
   ],
   "metadata": {
    "collapsed": false,
    "ExecuteTime": {
     "start_time": "2023-04-19T13:37:11.669403Z",
     "end_time": "2023-04-19T13:37:36.345584Z"
    }
   }
  },
  {
   "cell_type": "code",
   "execution_count": 30,
   "outputs": [
    {
     "data": {
      "text/plain": "6                                   say o phone run issue\n988       o ab confusing st within day pas learning curve\n1767       software mediasource work pc laptop intel xp o\n2497    notice turn phone o take bit load initially me...\n2714         every time nomad think file corrupt o freeze\n2912    think o control well thought although admit bi...\nName: 0, dtype: object"
     },
     "execution_count": 30,
     "metadata": {},
     "output_type": "execute_result"
    }
   ],
   "source": [
    "XtrainNew.loc[[6,988,1767,2497,2714,2912],0]"
   ],
   "metadata": {
    "collapsed": false,
    "ExecuteTime": {
     "start_time": "2023-04-19T13:37:36.353800Z",
     "end_time": "2023-04-19T13:37:36.362408Z"
    }
   }
  },
  {
   "cell_type": "code",
   "execution_count": 31,
   "outputs": [],
   "source": [
    "os = []\n",
    "for sentence in Xtrain.clean_text:\n",
    "    if ' os ' in sentence:\n",
    "        os.append((Xtrain[Xtrain.clean_text == sentence].index[0]))"
   ],
   "metadata": {
    "collapsed": false,
    "ExecuteTime": {
     "start_time": "2023-04-19T13:37:36.391379Z",
     "end_time": "2023-04-19T13:37:36.587065Z"
    }
   }
  },
  {
   "cell_type": "code",
   "execution_count": 32,
   "outputs": [
    {
     "data": {
      "text/plain": "{6, 988, 1767, 2497, 2599, 2714, 2912}"
     },
     "execution_count": 32,
     "metadata": {},
     "output_type": "execute_result"
    }
   ],
   "source": [
    "set(os)"
   ],
   "metadata": {
    "collapsed": false,
    "ExecuteTime": {
     "start_time": "2023-04-19T13:37:36.588309Z",
     "end_time": "2023-04-19T13:37:36.603969Z"
    }
   }
  },
  {
   "cell_type": "code",
   "execution_count": 33,
   "outputs": [],
   "source": [
    "XtrainNew.loc[[6,988,2497,2714,2912],0] = XtrainNew.loc[[6,988,2497,2714,2912],0].\\\n",
    "    apply(lambda x: x.replace(' o ', ' os ') )\n",
    "XtrainNew.loc[[6,988,2497,2714,2912],0] = XtrainNew.loc[[6,988,2497,2714,2912],0].\\\n",
    "    apply(lambda x: x.replace('o ', 'os ') )\n",
    "XtrainNew.loc[1767,0] = XtrainNew.loc[1767,0].replace(' o', ' os')"
   ],
   "metadata": {
    "collapsed": false,
    "ExecuteTime": {
     "start_time": "2023-04-19T13:37:36.598466Z",
     "end_time": "2023-04-19T13:37:36.663850Z"
    }
   }
  },
  {
   "cell_type": "code",
   "execution_count": 34,
   "outputs": [
    {
     "data": {
      "text/plain": "6                                  say os phone run issue\n988      os ab confusing st within day pas learning curve\n1767      software mediasource work pc laptop intel xp os\n2497    notice turn phone os take bit load initially m...\n2714        every time nomad think file corrupt os freeze\n2912    think os control well thought although admit b...\nName: 0, dtype: object"
     },
     "execution_count": 34,
     "metadata": {},
     "output_type": "execute_result"
    }
   ],
   "source": [
    "XtrainNew.loc[[6,988,1767,2497,2714,2912],0]"
   ],
   "metadata": {
    "collapsed": false,
    "ExecuteTime": {
     "start_time": "2023-04-19T13:37:36.618287Z",
     "end_time": "2023-04-19T13:37:36.665595Z"
    }
   }
  },
  {
   "cell_type": "code",
   "execution_count": 35,
   "outputs": [],
   "source": [
    "os = []\n",
    "for sentence in Xtest.clean_text:\n",
    "    if ' os ' in sentence:\n",
    "        os.append((Xtest[Xtest.clean_text == sentence].index[0]))"
   ],
   "metadata": {
    "collapsed": false,
    "ExecuteTime": {
     "start_time": "2023-04-19T13:37:36.629288Z",
     "end_time": "2023-04-19T13:37:36.817753Z"
    }
   }
  },
  {
   "cell_type": "code",
   "execution_count": 36,
   "outputs": [
    {
     "data": {
      "text/plain": "{11, 91, 725}"
     },
     "execution_count": 36,
     "metadata": {},
     "output_type": "execute_result"
    }
   ],
   "source": [
    "set(os)"
   ],
   "metadata": {
    "collapsed": false,
    "ExecuteTime": {
     "start_time": "2023-04-19T13:37:36.692996Z",
     "end_time": "2023-04-19T13:37:36.820250Z"
    }
   }
  },
  {
   "cell_type": "code",
   "execution_count": 37,
   "outputs": [
    {
     "data": {
      "text/plain": "11     quite simply firmware o control thing ready pr...\n91     simian series o great offer lot proprietary so...\n725    nokia run symbian o work pretty well standard ...\nName: 0, dtype: object"
     },
     "execution_count": 37,
     "metadata": {},
     "output_type": "execute_result"
    }
   ],
   "source": [
    "XtestNew.loc[[11,91,725],0]"
   ],
   "metadata": {
    "collapsed": false,
    "ExecuteTime": {
     "start_time": "2023-04-19T13:37:36.708464Z",
     "end_time": "2023-04-19T13:37:36.840650Z"
    }
   }
  },
  {
   "cell_type": "code",
   "execution_count": 38,
   "outputs": [],
   "source": [
    "XtestNew.loc[[11,91,725],0] = XtestNew.loc[[11,91,725],0].apply(lambda x: x.replace(' o ', ' os ') )"
   ],
   "metadata": {
    "collapsed": false,
    "ExecuteTime": {
     "start_time": "2023-04-19T13:37:36.723366Z",
     "end_time": "2023-04-19T13:37:36.841083Z"
    }
   }
  },
  {
   "cell_type": "code",
   "execution_count": 39,
   "outputs": [
    {
     "data": {
      "text/plain": "11     quite simply firmware os control thing ready p...\n91     simian series os great offer lot proprietary s...\n725    nokia run symbian os work pretty well standard...\nName: 0, dtype: object"
     },
     "execution_count": 39,
     "metadata": {},
     "output_type": "execute_result"
    }
   ],
   "source": [
    "XtestNew.loc[[11,91,725],0]"
   ],
   "metadata": {
    "collapsed": false,
    "ExecuteTime": {
     "start_time": "2023-04-19T13:37:36.735341Z",
     "end_time": "2023-04-19T13:37:36.841462Z"
    }
   }
  },
  {
   "cell_type": "code",
   "execution_count": 40,
   "outputs": [],
   "source": [
    "from textblob import TextBlob\n",
    "Texto = XtrainNew[0].apply(lambda x: TextBlob(x))"
   ],
   "metadata": {
    "collapsed": false,
    "ExecuteTime": {
     "start_time": "2023-04-19T13:37:36.769134Z",
     "end_time": "2023-04-19T13:37:36.841642Z"
    }
   }
  },
  {
   "cell_type": "code",
   "execution_count": 41,
   "outputs": [],
   "source": [
    "XtrainNew['subjectivity'] = zeros(len(XtrainNew[0]))\n",
    "XtrainNew['polarity'] = zeros(len(XtrainNew[0]))\n",
    "for i in range(len(Texto)):\n",
    "    for sentence in Texto[i].sentences:\n",
    "        #print(Texto[i])\n",
    "        #print(sentence.sentiment)\n",
    "        XtrainNew.iloc[i,1] = sentence.sentiment.subjectivity\n",
    "        XtrainNew.iloc[i,2] = sentence.sentiment.polarity\n"
   ],
   "metadata": {
    "collapsed": false,
    "ExecuteTime": {
     "start_time": "2023-04-19T13:37:36.778324Z",
     "end_time": "2023-04-19T13:37:39.780100Z"
    }
   }
  },
  {
   "cell_type": "code",
   "execution_count": 42,
   "outputs": [],
   "source": [
    "Texto = XtestNew[0].apply(lambda x: TextBlob(x))\n",
    "\n",
    "XtestNew['subjectivity'] = zeros(len(XtestNew[0]))\n",
    "XtestNew['polarity'] = zeros(len(XtestNew[0]))\n",
    "for i in range(len(Texto)):\n",
    "    for sentence in Texto[i].sentences:\n",
    "        XtestNew.iloc[i,1] = sentence.sentiment.subjectivity\n",
    "        XtestNew.iloc[i,2] = sentence.sentiment.polarity"
   ],
   "metadata": {
    "collapsed": false,
    "ExecuteTime": {
     "start_time": "2023-04-19T13:37:39.801110Z",
     "end_time": "2023-04-19T13:37:40.383135Z"
    }
   }
  },
  {
   "cell_type": "code",
   "execution_count": 43,
   "outputs": [
    {
     "data": {
      "text/plain": "                                                      0  subjectivity  \\\n0               really recommend anyone need new player      0.327273   \n1     good every day camera fit nicely pocket jean t...      0.666667   \n2                dollar dollar dvd player probably best      0.300000   \n3                  got phone yesterday find problem yet      0.000000   \n4                                      price gb storage      0.000000   \n...                                                 ...           ...   \n3007  multiple user one machine never seemed behave ...      0.000000   \n3008                                 love storage thing      0.600000   \n3009  wanted raised panel work needed power variable...      0.428571   \n3010  big would probably another since shop complete...      0.250000   \n3011  itunes find good window medium player computer...      0.566667   \n\n      polarity  \n0     0.168182  \n1     0.566667  \n2     1.000000  \n3     0.000000  \n4     0.000000  \n...        ...  \n3007  0.000000  \n3008  0.500000  \n3009  0.214286  \n3010  0.050000  \n3011  0.466667  \n\n[3012 rows x 3 columns]",
      "text/html": "<div>\n<style scoped>\n    .dataframe tbody tr th:only-of-type {\n        vertical-align: middle;\n    }\n\n    .dataframe tbody tr th {\n        vertical-align: top;\n    }\n\n    .dataframe thead th {\n        text-align: right;\n    }\n</style>\n<table border=\"1\" class=\"dataframe\">\n  <thead>\n    <tr style=\"text-align: right;\">\n      <th></th>\n      <th>0</th>\n      <th>subjectivity</th>\n      <th>polarity</th>\n    </tr>\n  </thead>\n  <tbody>\n    <tr>\n      <th>0</th>\n      <td>really recommend anyone need new player</td>\n      <td>0.327273</td>\n      <td>0.168182</td>\n    </tr>\n    <tr>\n      <th>1</th>\n      <td>good every day camera fit nicely pocket jean t...</td>\n      <td>0.666667</td>\n      <td>0.566667</td>\n    </tr>\n    <tr>\n      <th>2</th>\n      <td>dollar dollar dvd player probably best</td>\n      <td>0.300000</td>\n      <td>1.000000</td>\n    </tr>\n    <tr>\n      <th>3</th>\n      <td>got phone yesterday find problem yet</td>\n      <td>0.000000</td>\n      <td>0.000000</td>\n    </tr>\n    <tr>\n      <th>4</th>\n      <td>price gb storage</td>\n      <td>0.000000</td>\n      <td>0.000000</td>\n    </tr>\n    <tr>\n      <th>...</th>\n      <td>...</td>\n      <td>...</td>\n      <td>...</td>\n    </tr>\n    <tr>\n      <th>3007</th>\n      <td>multiple user one machine never seemed behave ...</td>\n      <td>0.000000</td>\n      <td>0.000000</td>\n    </tr>\n    <tr>\n      <th>3008</th>\n      <td>love storage thing</td>\n      <td>0.600000</td>\n      <td>0.500000</td>\n    </tr>\n    <tr>\n      <th>3009</th>\n      <td>wanted raised panel work needed power variable...</td>\n      <td>0.428571</td>\n      <td>0.214286</td>\n    </tr>\n    <tr>\n      <th>3010</th>\n      <td>big would probably another since shop complete...</td>\n      <td>0.250000</td>\n      <td>0.050000</td>\n    </tr>\n    <tr>\n      <th>3011</th>\n      <td>itunes find good window medium player computer...</td>\n      <td>0.566667</td>\n      <td>0.466667</td>\n    </tr>\n  </tbody>\n</table>\n<p>3012 rows × 3 columns</p>\n</div>"
     },
     "execution_count": 43,
     "metadata": {},
     "output_type": "execute_result"
    }
   ],
   "source": [
    "XtrainNew"
   ],
   "metadata": {
    "collapsed": false,
    "ExecuteTime": {
     "start_time": "2023-04-19T13:37:40.398077Z",
     "end_time": "2023-04-19T13:37:40.425854Z"
    }
   }
  },
  {
   "cell_type": "code",
   "execution_count": 44,
   "outputs": [],
   "source": [
    "XtrainNew.to_csv('../Data/New/xtrain.csv', sep = '|')\n",
    "XtestNew.to_csv('../Data/New/xtest.csv', sep = '|')"
   ],
   "metadata": {
    "collapsed": false,
    "ExecuteTime": {
     "start_time": "2023-04-19T13:37:40.418780Z",
     "end_time": "2023-04-19T13:37:40.496892Z"
    }
   }
  },
  {
   "cell_type": "code",
   "execution_count": 45,
   "outputs": [
    {
     "data": {
      "text/plain": "TfidfVectorizer(min_df=0.005, ngram_range=(1, 3))",
      "text/html": "<style>#sk-container-id-1 {color: black;background-color: white;}#sk-container-id-1 pre{padding: 0;}#sk-container-id-1 div.sk-toggleable {background-color: white;}#sk-container-id-1 label.sk-toggleable__label {cursor: pointer;display: block;width: 100%;margin-bottom: 0;padding: 0.3em;box-sizing: border-box;text-align: center;}#sk-container-id-1 label.sk-toggleable__label-arrow:before {content: \"▸\";float: left;margin-right: 0.25em;color: #696969;}#sk-container-id-1 label.sk-toggleable__label-arrow:hover:before {color: black;}#sk-container-id-1 div.sk-estimator:hover label.sk-toggleable__label-arrow:before {color: black;}#sk-container-id-1 div.sk-toggleable__content {max-height: 0;max-width: 0;overflow: hidden;text-align: left;background-color: #f0f8ff;}#sk-container-id-1 div.sk-toggleable__content pre {margin: 0.2em;color: black;border-radius: 0.25em;background-color: #f0f8ff;}#sk-container-id-1 input.sk-toggleable__control:checked~div.sk-toggleable__content {max-height: 200px;max-width: 100%;overflow: auto;}#sk-container-id-1 input.sk-toggleable__control:checked~label.sk-toggleable__label-arrow:before {content: \"▾\";}#sk-container-id-1 div.sk-estimator input.sk-toggleable__control:checked~label.sk-toggleable__label {background-color: #d4ebff;}#sk-container-id-1 div.sk-label input.sk-toggleable__control:checked~label.sk-toggleable__label {background-color: #d4ebff;}#sk-container-id-1 input.sk-hidden--visually {border: 0;clip: rect(1px 1px 1px 1px);clip: rect(1px, 1px, 1px, 1px);height: 1px;margin: -1px;overflow: hidden;padding: 0;position: absolute;width: 1px;}#sk-container-id-1 div.sk-estimator {font-family: monospace;background-color: #f0f8ff;border: 1px dotted black;border-radius: 0.25em;box-sizing: border-box;margin-bottom: 0.5em;}#sk-container-id-1 div.sk-estimator:hover {background-color: #d4ebff;}#sk-container-id-1 div.sk-parallel-item::after {content: \"\";width: 100%;border-bottom: 1px solid gray;flex-grow: 1;}#sk-container-id-1 div.sk-label:hover label.sk-toggleable__label {background-color: #d4ebff;}#sk-container-id-1 div.sk-serial::before {content: \"\";position: absolute;border-left: 1px solid gray;box-sizing: border-box;top: 0;bottom: 0;left: 50%;z-index: 0;}#sk-container-id-1 div.sk-serial {display: flex;flex-direction: column;align-items: center;background-color: white;padding-right: 0.2em;padding-left: 0.2em;position: relative;}#sk-container-id-1 div.sk-item {position: relative;z-index: 1;}#sk-container-id-1 div.sk-parallel {display: flex;align-items: stretch;justify-content: center;background-color: white;position: relative;}#sk-container-id-1 div.sk-item::before, #sk-container-id-1 div.sk-parallel-item::before {content: \"\";position: absolute;border-left: 1px solid gray;box-sizing: border-box;top: 0;bottom: 0;left: 50%;z-index: -1;}#sk-container-id-1 div.sk-parallel-item {display: flex;flex-direction: column;z-index: 1;position: relative;background-color: white;}#sk-container-id-1 div.sk-parallel-item:first-child::after {align-self: flex-end;width: 50%;}#sk-container-id-1 div.sk-parallel-item:last-child::after {align-self: flex-start;width: 50%;}#sk-container-id-1 div.sk-parallel-item:only-child::after {width: 0;}#sk-container-id-1 div.sk-dashed-wrapped {border: 1px dashed gray;margin: 0 0.4em 0.5em 0.4em;box-sizing: border-box;padding-bottom: 0.4em;background-color: white;}#sk-container-id-1 div.sk-label label {font-family: monospace;font-weight: bold;display: inline-block;line-height: 1.2em;}#sk-container-id-1 div.sk-label-container {text-align: center;}#sk-container-id-1 div.sk-container {/* jupyter's `normalize.less` sets `[hidden] { display: none; }` but bootstrap.min.css set `[hidden] { display: none !important; }` so we also need the `!important` here to be able to override the default hidden behavior on the sphinx rendered scikit-learn.org. See: https://github.com/scikit-learn/scikit-learn/issues/21755 */display: inline-block !important;position: relative;}#sk-container-id-1 div.sk-text-repr-fallback {display: none;}</style><div id=\"sk-container-id-1\" class=\"sk-top-container\"><div class=\"sk-text-repr-fallback\"><pre>TfidfVectorizer(min_df=0.005, ngram_range=(1, 3))</pre><b>In a Jupyter environment, please rerun this cell to show the HTML representation or trust the notebook. <br />On GitHub, the HTML representation is unable to render, please try loading this page with nbviewer.org.</b></div><div class=\"sk-container\" hidden><div class=\"sk-item\"><div class=\"sk-estimator sk-toggleable\"><input class=\"sk-toggleable__control sk-hidden--visually\" id=\"sk-estimator-id-1\" type=\"checkbox\" checked><label for=\"sk-estimator-id-1\" class=\"sk-toggleable__label sk-toggleable__label-arrow\">TfidfVectorizer</label><div class=\"sk-toggleable__content\"><pre>TfidfVectorizer(min_df=0.005, ngram_range=(1, 3))</pre></div></div></div></div></div>"
     },
     "execution_count": 45,
     "metadata": {},
     "output_type": "execute_result"
    }
   ],
   "source": [
    "tfidf_vectorizador = TfidfVectorizer(ngram_range=(1, 3), stop_words=None, min_df=0.005)\n",
    "tfidf_vectorizador.fit(XtrainNew[0])"
   ],
   "metadata": {
    "collapsed": false,
    "ExecuteTime": {
     "start_time": "2023-04-19T13:37:40.511412Z",
     "end_time": "2023-04-19T13:37:40.669168Z"
    }
   }
  },
  {
   "cell_type": "code",
   "execution_count": 46,
   "outputs": [],
   "source": [
    "Xtrain = tfidf_vectorizador.fit_transform(XtrainNew[0])\n",
    "Xtest = tfidf_vectorizador.transform(XtestNew[0])\n",
    "Ytrain = train.label"
   ],
   "metadata": {
    "collapsed": false,
    "ExecuteTime": {
     "start_time": "2023-04-19T13:37:40.683865Z",
     "end_time": "2023-04-19T13:37:40.864873Z"
    }
   }
  },
  {
   "cell_type": "code",
   "execution_count": 47,
   "outputs": [
    {
     "data": {
      "text/plain": "      ability  able  access  actually  adjustment  almost  already  also  \\\n0         0.0   0.0     0.0       0.0         0.0     0.0      0.0   0.0   \n1         0.0   0.0     0.0       0.0         0.0     0.0      0.0   0.0   \n2         0.0   0.0     0.0       0.0         0.0     0.0      0.0   0.0   \n3         0.0   0.0     0.0       0.0         0.0     0.0      0.0   0.0   \n4         0.0   0.0     0.0       0.0         0.0     0.0      0.0   0.0   \n...       ...   ...     ...       ...         ...     ...      ...   ...   \n3007      0.0   0.0     0.0       0.0         0.0     0.0      0.0   0.0   \n3008      0.0   0.0     0.0       0.0         0.0     0.0      0.0   0.0   \n3009      0.0   0.0     0.0       0.0         0.0     0.0      0.0   0.0   \n3010      0.0   0.0     0.0       0.0         0.0     0.0      0.0   0.0   \n3011      0.0   0.0     0.0       0.0         0.0     0.0      0.0   0.0   \n\n      although  always  ...  working  worth     would  xtra  year       yet  \\\n0          0.0     0.0  ...      0.0    0.0  0.000000   0.0   0.0  0.000000   \n1          0.0     0.0  ...      0.0    0.0  0.000000   0.0   0.0  0.000000   \n2          0.0     0.0  ...      0.0    0.0  0.000000   0.0   0.0  0.000000   \n3          0.0     0.0  ...      0.0    0.0  0.000000   0.0   0.0  0.554401   \n4          0.0     0.0  ...      0.0    0.0  0.000000   0.0   0.0  0.000000   \n...        ...     ...  ...      ...    ...       ...   ...   ...       ...   \n3007       0.0     0.0  ...      0.0    0.0  0.338875   0.0   0.0  0.000000   \n3008       0.0     0.0  ...      0.0    0.0  0.000000   0.0   0.0  0.000000   \n3009       0.0     0.0  ...      0.0    0.0  0.000000   0.0   0.0  0.000000   \n3010       0.0     0.0  ...      0.0    0.0  0.293712   0.0   0.0  0.000000   \n3011       0.0     0.0  ...      0.0    0.0  0.000000   0.0   0.0  0.000000   \n\n      zen  zen micro  zen xtra  zoom  \n0     0.0        0.0       0.0   0.0  \n1     0.0        0.0       0.0   0.0  \n2     0.0        0.0       0.0   0.0  \n3     0.0        0.0       0.0   0.0  \n4     0.0        0.0       0.0   0.0  \n...   ...        ...       ...   ...  \n3007  0.0        0.0       0.0   0.0  \n3008  0.0        0.0       0.0   0.0  \n3009  0.0        0.0       0.0   0.0  \n3010  0.0        0.0       0.0   0.0  \n3011  0.0        0.0       0.0   0.0  \n\n[3012 rows x 357 columns]",
      "text/html": "<div>\n<style scoped>\n    .dataframe tbody tr th:only-of-type {\n        vertical-align: middle;\n    }\n\n    .dataframe tbody tr th {\n        vertical-align: top;\n    }\n\n    .dataframe thead th {\n        text-align: right;\n    }\n</style>\n<table border=\"1\" class=\"dataframe\">\n  <thead>\n    <tr style=\"text-align: right;\">\n      <th></th>\n      <th>ability</th>\n      <th>able</th>\n      <th>access</th>\n      <th>actually</th>\n      <th>adjustment</th>\n      <th>almost</th>\n      <th>already</th>\n      <th>also</th>\n      <th>although</th>\n      <th>always</th>\n      <th>...</th>\n      <th>working</th>\n      <th>worth</th>\n      <th>would</th>\n      <th>xtra</th>\n      <th>year</th>\n      <th>yet</th>\n      <th>zen</th>\n      <th>zen micro</th>\n      <th>zen xtra</th>\n      <th>zoom</th>\n    </tr>\n  </thead>\n  <tbody>\n    <tr>\n      <th>0</th>\n      <td>0.0</td>\n      <td>0.0</td>\n      <td>0.0</td>\n      <td>0.0</td>\n      <td>0.0</td>\n      <td>0.0</td>\n      <td>0.0</td>\n      <td>0.0</td>\n      <td>0.0</td>\n      <td>0.0</td>\n      <td>...</td>\n      <td>0.0</td>\n      <td>0.0</td>\n      <td>0.000000</td>\n      <td>0.0</td>\n      <td>0.0</td>\n      <td>0.000000</td>\n      <td>0.0</td>\n      <td>0.0</td>\n      <td>0.0</td>\n      <td>0.0</td>\n    </tr>\n    <tr>\n      <th>1</th>\n      <td>0.0</td>\n      <td>0.0</td>\n      <td>0.0</td>\n      <td>0.0</td>\n      <td>0.0</td>\n      <td>0.0</td>\n      <td>0.0</td>\n      <td>0.0</td>\n      <td>0.0</td>\n      <td>0.0</td>\n      <td>...</td>\n      <td>0.0</td>\n      <td>0.0</td>\n      <td>0.000000</td>\n      <td>0.0</td>\n      <td>0.0</td>\n      <td>0.000000</td>\n      <td>0.0</td>\n      <td>0.0</td>\n      <td>0.0</td>\n      <td>0.0</td>\n    </tr>\n    <tr>\n      <th>2</th>\n      <td>0.0</td>\n      <td>0.0</td>\n      <td>0.0</td>\n      <td>0.0</td>\n      <td>0.0</td>\n      <td>0.0</td>\n      <td>0.0</td>\n      <td>0.0</td>\n      <td>0.0</td>\n      <td>0.0</td>\n      <td>...</td>\n      <td>0.0</td>\n      <td>0.0</td>\n      <td>0.000000</td>\n      <td>0.0</td>\n      <td>0.0</td>\n      <td>0.000000</td>\n      <td>0.0</td>\n      <td>0.0</td>\n      <td>0.0</td>\n      <td>0.0</td>\n    </tr>\n    <tr>\n      <th>3</th>\n      <td>0.0</td>\n      <td>0.0</td>\n      <td>0.0</td>\n      <td>0.0</td>\n      <td>0.0</td>\n      <td>0.0</td>\n      <td>0.0</td>\n      <td>0.0</td>\n      <td>0.0</td>\n      <td>0.0</td>\n      <td>...</td>\n      <td>0.0</td>\n      <td>0.0</td>\n      <td>0.000000</td>\n      <td>0.0</td>\n      <td>0.0</td>\n      <td>0.554401</td>\n      <td>0.0</td>\n      <td>0.0</td>\n      <td>0.0</td>\n      <td>0.0</td>\n    </tr>\n    <tr>\n      <th>4</th>\n      <td>0.0</td>\n      <td>0.0</td>\n      <td>0.0</td>\n      <td>0.0</td>\n      <td>0.0</td>\n      <td>0.0</td>\n      <td>0.0</td>\n      <td>0.0</td>\n      <td>0.0</td>\n      <td>0.0</td>\n      <td>...</td>\n      <td>0.0</td>\n      <td>0.0</td>\n      <td>0.000000</td>\n      <td>0.0</td>\n      <td>0.0</td>\n      <td>0.000000</td>\n      <td>0.0</td>\n      <td>0.0</td>\n      <td>0.0</td>\n      <td>0.0</td>\n    </tr>\n    <tr>\n      <th>...</th>\n      <td>...</td>\n      <td>...</td>\n      <td>...</td>\n      <td>...</td>\n      <td>...</td>\n      <td>...</td>\n      <td>...</td>\n      <td>...</td>\n      <td>...</td>\n      <td>...</td>\n      <td>...</td>\n      <td>...</td>\n      <td>...</td>\n      <td>...</td>\n      <td>...</td>\n      <td>...</td>\n      <td>...</td>\n      <td>...</td>\n      <td>...</td>\n      <td>...</td>\n      <td>...</td>\n    </tr>\n    <tr>\n      <th>3007</th>\n      <td>0.0</td>\n      <td>0.0</td>\n      <td>0.0</td>\n      <td>0.0</td>\n      <td>0.0</td>\n      <td>0.0</td>\n      <td>0.0</td>\n      <td>0.0</td>\n      <td>0.0</td>\n      <td>0.0</td>\n      <td>...</td>\n      <td>0.0</td>\n      <td>0.0</td>\n      <td>0.338875</td>\n      <td>0.0</td>\n      <td>0.0</td>\n      <td>0.000000</td>\n      <td>0.0</td>\n      <td>0.0</td>\n      <td>0.0</td>\n      <td>0.0</td>\n    </tr>\n    <tr>\n      <th>3008</th>\n      <td>0.0</td>\n      <td>0.0</td>\n      <td>0.0</td>\n      <td>0.0</td>\n      <td>0.0</td>\n      <td>0.0</td>\n      <td>0.0</td>\n      <td>0.0</td>\n      <td>0.0</td>\n      <td>0.0</td>\n      <td>...</td>\n      <td>0.0</td>\n      <td>0.0</td>\n      <td>0.000000</td>\n      <td>0.0</td>\n      <td>0.0</td>\n      <td>0.000000</td>\n      <td>0.0</td>\n      <td>0.0</td>\n      <td>0.0</td>\n      <td>0.0</td>\n    </tr>\n    <tr>\n      <th>3009</th>\n      <td>0.0</td>\n      <td>0.0</td>\n      <td>0.0</td>\n      <td>0.0</td>\n      <td>0.0</td>\n      <td>0.0</td>\n      <td>0.0</td>\n      <td>0.0</td>\n      <td>0.0</td>\n      <td>0.0</td>\n      <td>...</td>\n      <td>0.0</td>\n      <td>0.0</td>\n      <td>0.000000</td>\n      <td>0.0</td>\n      <td>0.0</td>\n      <td>0.000000</td>\n      <td>0.0</td>\n      <td>0.0</td>\n      <td>0.0</td>\n      <td>0.0</td>\n    </tr>\n    <tr>\n      <th>3010</th>\n      <td>0.0</td>\n      <td>0.0</td>\n      <td>0.0</td>\n      <td>0.0</td>\n      <td>0.0</td>\n      <td>0.0</td>\n      <td>0.0</td>\n      <td>0.0</td>\n      <td>0.0</td>\n      <td>0.0</td>\n      <td>...</td>\n      <td>0.0</td>\n      <td>0.0</td>\n      <td>0.293712</td>\n      <td>0.0</td>\n      <td>0.0</td>\n      <td>0.000000</td>\n      <td>0.0</td>\n      <td>0.0</td>\n      <td>0.0</td>\n      <td>0.0</td>\n    </tr>\n    <tr>\n      <th>3011</th>\n      <td>0.0</td>\n      <td>0.0</td>\n      <td>0.0</td>\n      <td>0.0</td>\n      <td>0.0</td>\n      <td>0.0</td>\n      <td>0.0</td>\n      <td>0.0</td>\n      <td>0.0</td>\n      <td>0.0</td>\n      <td>...</td>\n      <td>0.0</td>\n      <td>0.0</td>\n      <td>0.000000</td>\n      <td>0.0</td>\n      <td>0.0</td>\n      <td>0.000000</td>\n      <td>0.0</td>\n      <td>0.0</td>\n      <td>0.0</td>\n      <td>0.0</td>\n    </tr>\n  </tbody>\n</table>\n<p>3012 rows × 357 columns</p>\n</div>"
     },
     "execution_count": 47,
     "metadata": {},
     "output_type": "execute_result"
    }
   ],
   "source": [
    "pd.DataFrame(Xtrain.toarray(), columns=tfidf_vectorizador.get_feature_names_out())"
   ],
   "metadata": {
    "collapsed": false,
    "ExecuteTime": {
     "start_time": "2023-04-19T13:37:40.840781Z",
     "end_time": "2023-04-19T13:37:41.028946Z"
    }
   }
  },
  {
   "cell_type": "code",
   "execution_count": 48,
   "outputs": [],
   "source": [
    "Xtrain = pd.DataFrame(Xtrain.toarray(), columns=tfidf_vectorizador.get_feature_names_out())\n",
    "Xtest = pd.DataFrame(Xtest.toarray(), columns=tfidf_vectorizador.get_feature_names_out())\n",
    "\n",
    "Xtrain['subjectivity'] = XtrainNew['subjectivity']\n",
    "Xtrain['polarity'] = XtrainNew['polarity']\n",
    "\n",
    "Xtest['subjectivity'] = XtestNew['subjectivity']\n",
    "Xtest['polarity'] = XtestNew['polarity']"
   ],
   "metadata": {
    "collapsed": false,
    "ExecuteTime": {
     "start_time": "2023-04-19T13:37:40.912925Z",
     "end_time": "2023-04-19T13:37:41.031861Z"
    }
   }
  },
  {
   "cell_type": "code",
   "execution_count": 49,
   "outputs": [
    {
     "data": {
      "text/plain": "0       0.327273\n1       0.666667\n2       0.300000\n3       0.000000\n4       0.000000\n          ...   \n3007    0.000000\n3008    0.600000\n3009    0.428571\n3010    0.250000\n3011    0.566667\nName: subjectivity, Length: 3012, dtype: float64"
     },
     "execution_count": 49,
     "metadata": {},
     "output_type": "execute_result"
    }
   ],
   "source": [
    "Xtrain['subjectivity']"
   ],
   "metadata": {
    "collapsed": false,
    "ExecuteTime": {
     "start_time": "2023-04-19T13:37:40.946418Z",
     "end_time": "2023-04-19T13:37:41.032884Z"
    }
   }
  },
  {
   "cell_type": "code",
   "execution_count": 50,
   "outputs": [],
   "source": [
    "kf = KFold(n_splits=3, shuffle=True, random_state=0)"
   ],
   "metadata": {
    "collapsed": false,
    "ExecuteTime": {
     "start_time": "2023-04-19T13:37:40.960559Z",
     "end_time": "2023-04-19T13:37:41.106216Z"
    }
   }
  },
  {
   "cell_type": "code",
   "execution_count": 51,
   "outputs": [],
   "source": [
    "models = []\n",
    "models.append(('glm', LogisticRegression(random_state=99)))\n",
    "models.append(('dectree', DecisionTreeClassifier(random_state=99)))\n",
    "models.append(('rf', RandomForestClassifier(random_state=99)))\n",
    "models.append(('gb', GradientBoostingClassifier(random_state=99)))\n",
    "models.append(('xgb', XGBClassifier()))\n",
    "models.append(('bag', BaggingClassifier(random_state=99)))\n",
    "models.append(('svmr', SVC(random_state=99)))\n",
    "models.append(('svml', SVC(kernel='linear', random_state=99)))\n",
    "\n",
    "\n",
    "def boxplots_algorithms(results, names):\n",
    "    plt.figure(figsize=(8, 8))\n",
    "    plt.boxplot(results)\n",
    "    plt.xticks(range(1, len(names) + 1), names)\n",
    "    plt.show()"
   ],
   "metadata": {
    "collapsed": false,
    "ExecuteTime": {
     "start_time": "2023-04-19T13:37:40.976549Z",
     "end_time": "2023-04-19T13:37:41.106693Z"
    }
   }
  },
  {
   "cell_type": "code",
   "execution_count": 52,
   "outputs": [
    {
     "data": {
      "text/plain": "<Figure size 800x800 with 1 Axes>",
      "image/png": "[encoded data removed]"
     },
     "metadata": {},
     "output_type": "display_data"
    }
   ],
   "source": [
    "results = []\n",
    "names = []\n",
    "\n",
    "for name, model in models:\n",
    "    acc = cross_val_score(model, Xtrain, Ytrain, cv=kf, scoring='f1')\n",
    "    names.append(name)\n",
    "    results.append(acc)\n",
    "\n",
    "boxplots_algorithms(results, names)"
   ],
   "metadata": {
    "collapsed": false,
    "ExecuteTime": {
     "start_time": "2023-04-19T13:37:40.991816Z",
     "end_time": "2023-04-19T13:38:20.477112Z"
    }
   }
  },
  {
   "cell_type": "code",
   "execution_count": 53,
   "outputs": [
    {
     "data": {
      "text/plain": "0.7587295506533467"
     },
     "execution_count": 53,
     "metadata": {},
     "output_type": "execute_result"
    }
   ],
   "source": [
    "glm = LogisticRegression(random_state=0)\n",
    "mean(cross_val_score(glm,Xtrain,Ytrain,scoring = 'f1',cv = kf))"
   ],
   "metadata": {
    "collapsed": false,
    "ExecuteTime": {
     "start_time": "2023-04-19T13:38:20.480865Z",
     "end_time": "2023-04-19T13:38:20.695140Z"
    }
   }
  },
  {
   "cell_type": "code",
   "execution_count": 54,
   "outputs": [
    {
     "name": "stdout",
     "output_type": "stream",
     "text": [
      "              precision    recall  f1-score   support\n",
      "\n",
      "           0       0.63      0.31      0.41       291\n",
      "           1       0.67      0.89      0.76       462\n",
      "\n",
      "    accuracy                           0.66       753\n",
      "   macro avg       0.65      0.60      0.59       753\n",
      "weighted avg       0.65      0.66      0.63       753\n",
      "\n"
     ]
    }
   ],
   "source": [
    "xtrain,xtest,ytrain,ytest = train_test_split(Xtrain,Ytrain)\n",
    "glm.fit(xtrain,ytrain)\n",
    "ypred = glm.predict(xtest)\n",
    "print(classification_report(ytest,ypred))"
   ],
   "metadata": {
    "collapsed": false,
    "ExecuteTime": {
     "start_time": "2023-04-19T13:38:20.706631Z",
     "end_time": "2023-04-19T13:38:20.844791Z"
    }
   }
  },
  {
   "cell_type": "code",
   "execution_count": 55,
   "outputs": [
    {
     "data": {
      "text/plain": "LogisticRegression(random_state=0)",
      "text/html": "<style>#sk-container-id-2 {color: black;background-color: white;}#sk-container-id-2 pre{padding: 0;}#sk-container-id-2 div.sk-toggleable {background-color: white;}#sk-container-id-2 label.sk-toggleable__label {cursor: pointer;display: block;width: 100%;margin-bottom: 0;padding: 0.3em;box-sizing: border-box;text-align: center;}#sk-container-id-2 label.sk-toggleable__label-arrow:before {content: \"▸\";float: left;margin-right: 0.25em;color: #696969;}#sk-container-id-2 label.sk-toggleable__label-arrow:hover:before {color: black;}#sk-container-id-2 div.sk-estimator:hover label.sk-toggleable__label-arrow:before {color: black;}#sk-container-id-2 div.sk-toggleable__content {max-height: 0;max-width: 0;overflow: hidden;text-align: left;background-color: #f0f8ff;}#sk-container-id-2 div.sk-toggleable__content pre {margin: 0.2em;color: black;border-radius: 0.25em;background-color: #f0f8ff;}#sk-container-id-2 input.sk-toggleable__control:checked~div.sk-toggleable__content {max-height: 200px;max-width: 100%;overflow: auto;}#sk-container-id-2 input.sk-toggleable__control:checked~label.sk-toggleable__label-arrow:before {content: \"▾\";}#sk-container-id-2 div.sk-estimator input.sk-toggleable__control:checked~label.sk-toggleable__label {background-color: #d4ebff;}#sk-container-id-2 div.sk-label input.sk-toggleable__control:checked~label.sk-toggleable__label {background-color: #d4ebff;}#sk-container-id-2 input.sk-hidden--visually {border: 0;clip: rect(1px 1px 1px 1px);clip: rect(1px, 1px, 1px, 1px);height: 1px;margin: -1px;overflow: hidden;padding: 0;position: absolute;width: 1px;}#sk-container-id-2 div.sk-estimator {font-family: monospace;background-color: #f0f8ff;border: 1px dotted black;border-radius: 0.25em;box-sizing: border-box;margin-bottom: 0.5em;}#sk-container-id-2 div.sk-estimator:hover {background-color: #d4ebff;}#sk-container-id-2 div.sk-parallel-item::after {content: \"\";width: 100%;border-bottom: 1px solid gray;flex-grow: 1;}#sk-container-id-2 div.sk-label:hover label.sk-toggleable__label {background-color: #d4ebff;}#sk-container-id-2 div.sk-serial::before {content: \"\";position: absolute;border-left: 1px solid gray;box-sizing: border-box;top: 0;bottom: 0;left: 50%;z-index: 0;}#sk-container-id-2 div.sk-serial {display: flex;flex-direction: column;align-items: center;background-color: white;padding-right: 0.2em;padding-left: 0.2em;position: relative;}#sk-container-id-2 div.sk-item {position: relative;z-index: 1;}#sk-container-id-2 div.sk-parallel {display: flex;align-items: stretch;justify-content: center;background-color: white;position: relative;}#sk-container-id-2 div.sk-item::before, #sk-container-id-2 div.sk-parallel-item::before {content: \"\";position: absolute;border-left: 1px solid gray;box-sizing: border-box;top: 0;bottom: 0;left: 50%;z-index: -1;}#sk-container-id-2 div.sk-parallel-item {display: flex;flex-direction: column;z-index: 1;position: relative;background-color: white;}#sk-container-id-2 div.sk-parallel-item:first-child::after {align-self: flex-end;width: 50%;}#sk-container-id-2 div.sk-parallel-item:last-child::after {align-self: flex-start;width: 50%;}#sk-container-id-2 div.sk-parallel-item:only-child::after {width: 0;}#sk-container-id-2 div.sk-dashed-wrapped {border: 1px dashed gray;margin: 0 0.4em 0.5em 0.4em;box-sizing: border-box;padding-bottom: 0.4em;background-color: white;}#sk-container-id-2 div.sk-label label {font-family: monospace;font-weight: bold;display: inline-block;line-height: 1.2em;}#sk-container-id-2 div.sk-label-container {text-align: center;}#sk-container-id-2 div.sk-container {/* jupyter's `normalize.less` sets `[hidden] { display: none; }` but bootstrap.min.css set `[hidden] { display: none !important; }` so we also need the `!important` here to be able to override the default hidden behavior on the sphinx rendered scikit-learn.org. See: https://github.com/scikit-learn/scikit-learn/issues/21755 */display: inline-block !important;position: relative;}#sk-container-id-2 div.sk-text-repr-fallback {display: none;}</style><div id=\"sk-container-id-2\" class=\"sk-top-container\"><div class=\"sk-text-repr-fallback\"><pre>LogisticRegression(random_state=0)</pre><b>In a Jupyter environment, please rerun this cell to show the HTML representation or trust the notebook. <br />On GitHub, the HTML representation is unable to render, please try loading this page with nbviewer.org.</b></div><div class=\"sk-container\" hidden><div class=\"sk-item\"><div class=\"sk-estimator sk-toggleable\"><input class=\"sk-toggleable__control sk-hidden--visually\" id=\"sk-estimator-id-2\" type=\"checkbox\" checked><label for=\"sk-estimator-id-2\" class=\"sk-toggleable__label sk-toggleable__label-arrow\">LogisticRegression</label><div class=\"sk-toggleable__content\"><pre>LogisticRegression(random_state=0)</pre></div></div></div></div></div>"
     },
     "execution_count": 55,
     "metadata": {},
     "output_type": "execute_result"
    }
   ],
   "source": [
    "glm.fit(Xtrain,Ytrain)"
   ],
   "metadata": {
    "collapsed": false,
    "ExecuteTime": {
     "start_time": "2023-04-19T13:38:20.837375Z",
     "end_time": "2023-04-19T13:38:20.993343Z"
    }
   }
  },
  {
   "cell_type": "code",
   "execution_count": 56,
   "outputs": [],
   "source": [
    "df2 = pd.DataFrame(zip(Xtrain,glm.coef_[0]))\n",
    "df2.columns = ['feat','importance']\n",
    "df2['abs'] = abs(df2.importance)\n",
    "df2.sort_values('abs',ascending = False,inplace=True)"
   ],
   "metadata": {
    "collapsed": false,
    "ExecuteTime": {
     "start_time": "2023-04-19T13:38:21.002513Z",
     "end_time": "2023-04-19T13:38:21.035049Z"
    }
   }
  },
  {
   "cell_type": "code",
   "execution_count": 57,
   "outputs": [
    {
     "data": {
      "text/plain": "<Figure size 1000x600 with 1 Axes>",
      "image/png": "[encoded data removed]"
     },
     "metadata": {},
     "output_type": "display_data"
    }
   ],
   "source": [
    "plt.figure(figsize=(10,6))\n",
    "# cogemos sólo las más relevantes para que se vea el gráfico\n",
    "sns.barplot(data = df2.iloc[:25,:].sort_values('importance',ascending = False)\n",
    "            , y = 'feat', x = 'importance' , orient = 'h')\n",
    "plt.show()"
   ],
   "metadata": {
    "collapsed": false,
    "ExecuteTime": {
     "start_time": "2023-04-19T13:38:21.076410Z",
     "end_time": "2023-04-19T13:38:21.715008Z"
    }
   }
  },
  {
   "cell_type": "code",
   "execution_count": 58,
   "outputs": [
    {
     "data": {
      "text/plain": "             feat  importance       abs\n358      polarity    1.218792  1.218792\n357  subjectivity    0.067502  0.067502",
      "text/html": "<div>\n<style scoped>\n    .dataframe tbody tr th:only-of-type {\n        vertical-align: middle;\n    }\n\n    .dataframe tbody tr th {\n        vertical-align: top;\n    }\n\n    .dataframe thead th {\n        text-align: right;\n    }\n</style>\n<table border=\"1\" class=\"dataframe\">\n  <thead>\n    <tr style=\"text-align: right;\">\n      <th></th>\n      <th>feat</th>\n      <th>importance</th>\n      <th>abs</th>\n    </tr>\n  </thead>\n  <tbody>\n    <tr>\n      <th>358</th>\n      <td>polarity</td>\n      <td>1.218792</td>\n      <td>1.218792</td>\n    </tr>\n    <tr>\n      <th>357</th>\n      <td>subjectivity</td>\n      <td>0.067502</td>\n      <td>0.067502</td>\n    </tr>\n  </tbody>\n</table>\n</div>"
     },
     "execution_count": 58,
     "metadata": {},
     "output_type": "execute_result"
    }
   ],
   "source": [
    "df2[(df2.feat == 'subjectivity') | (df2.feat == 'polarity')]"
   ],
   "metadata": {
    "collapsed": false,
    "ExecuteTime": {
     "start_time": "2023-04-19T13:38:21.691154Z",
     "end_time": "2023-04-19T13:38:21.715372Z"
    }
   }
  },
  {
   "cell_type": "code",
   "execution_count": 58,
   "outputs": [],
   "source": [],
   "metadata": {
    "collapsed": false,
    "ExecuteTime": {
     "start_time": "2023-04-19T13:38:21.700786Z",
     "end_time": "2023-04-19T13:38:21.715636Z"
    }
   }
  },
  {
   "cell_type": "code",
   "execution_count": 58,
   "outputs": [],
   "source": [],
   "metadata": {
    "collapsed": false,
    "ExecuteTime": {
     "start_time": "2023-04-19T13:38:21.711151Z",
     "end_time": "2023-04-19T13:38:21.715926Z"
    }
   }
  }
 ],
 "metadata": {
  "kernelspec": {
   "display_name": "Python 3",
   "language": "python",
   "name": "python3"
  },
  "language_info": {
   "codemirror_mode": {
    "name": "ipython",
    "version": 2
   },
   "file_extension": ".py",
   "mimetype": "text/x-python",
   "name": "python",
   "nbconvert_exporter": "python",
   "pygments_lexer": "ipython2",
   "version": "2.7.6"
  }
 },
 "nbformat": 4,
 "nbformat_minor": 0
}
