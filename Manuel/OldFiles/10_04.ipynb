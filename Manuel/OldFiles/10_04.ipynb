{
 "cells": [
  {
   "cell_type": "markdown",
   "source": [
    "# Oracle-Reto 2: Análisis de sentimiento\n",
    "\n",
    "*NUWE EVA*, la cadena de restauración fast food y healthy, sigue creciendo y queremos dar un paso más para mejorar y ofrecer el mejor servicio posible a nuestros clientes.\n",
    "\n",
    "Queremos evolucionar y ofrecer nuevas capacidades a nuestro robot y talentoso camarero, *EVA*, añadiendo la función de poder detectar, a través de frases y palabras utilizadas por los comensales, el grado de satisfacción de los platos probados y así ver qué platos y productos han gustado más o menos a los clientes.\n",
    "\n",
    "Nuestro robot ya sabe detectar lo que pedirán los comensales según los productos elegidos. Ahora queremos saber cuál es el feedback de cada cliente para detectar si le ha gustado o no el plato servido.\n",
    "\n",
    "> Objetivo\n",
    "Crea un modelo predictivo de **clasificación** para poder **ordenar y o catalogar las reseñas**. Primero entrena tu modelo con las reseñas de entrenamiento. Una vez tengas el modelo que maximice la puntuación F1 (macro.), utiliza las reseñas de prueba como entrada para tu modelo."
   ],
   "metadata": {
    "collapsed": false
   }
  },
  {
   "cell_type": "code",
   "execution_count": 1,
   "outputs": [],
   "source": [
    "from numpy import *\n",
    "import pandas as pd\n",
    "import seaborn as sns\n",
    "import matplotlib.pyplot as plt"
   ],
   "metadata": {
    "collapsed": false
   }
  },
  {
   "cell_type": "code",
   "execution_count": 2,
   "outputs": [],
   "source": [
    "train = pd.read_csv('./Data/train.csv',index_col = [0])\n",
    "test = pd.read_csv('./Data/test.csv',index_col = [0])"
   ],
   "metadata": {
    "collapsed": false
   }
  },
  {
   "cell_type": "code",
   "execution_count": 3,
   "outputs": [
    {
     "data": {
      "text/plain": "                                                        text  label label_text\ntrain_idx                                                                     \n0          i really do recommend this to anyone in need o...      1   positive\n1          very good every day camera fits nicely in the ...      1   positive\n2          but , dollar for dollar , this dvd player is p...      1   positive\n3          i got this phone yesterday and didn ' t find a...      1   positive\n4                                    1 ) price gb of storage      1   positive",
      "text/html": "<div>\n<style scoped>\n    .dataframe tbody tr th:only-of-type {\n        vertical-align: middle;\n    }\n\n    .dataframe tbody tr th {\n        vertical-align: top;\n    }\n\n    .dataframe thead th {\n        text-align: right;\n    }\n</style>\n<table border=\"1\" class=\"dataframe\">\n  <thead>\n    <tr style=\"text-align: right;\">\n      <th></th>\n      <th>text</th>\n      <th>label</th>\n      <th>label_text</th>\n    </tr>\n    <tr>\n      <th>train_idx</th>\n      <th></th>\n      <th></th>\n      <th></th>\n    </tr>\n  </thead>\n  <tbody>\n    <tr>\n      <th>0</th>\n      <td>i really do recommend this to anyone in need o...</td>\n      <td>1</td>\n      <td>positive</td>\n    </tr>\n    <tr>\n      <th>1</th>\n      <td>very good every day camera fits nicely in the ...</td>\n      <td>1</td>\n      <td>positive</td>\n    </tr>\n    <tr>\n      <th>2</th>\n      <td>but , dollar for dollar , this dvd player is p...</td>\n      <td>1</td>\n      <td>positive</td>\n    </tr>\n    <tr>\n      <th>3</th>\n      <td>i got this phone yesterday and didn ' t find a...</td>\n      <td>1</td>\n      <td>positive</td>\n    </tr>\n    <tr>\n      <th>4</th>\n      <td>1 ) price gb of storage</td>\n      <td>1</td>\n      <td>positive</td>\n    </tr>\n  </tbody>\n</table>\n</div>"
     },
     "execution_count": 3,
     "metadata": {},
     "output_type": "execute_result"
    }
   ],
   "source": [
    "train.head()"
   ],
   "metadata": {
    "collapsed": false
   }
  },
  {
   "cell_type": "code",
   "execution_count": 4,
   "outputs": [
    {
     "data": {
      "text/plain": "                                                       text\ntest_idx                                                   \n0                                   fm receiver it has none\n1         the picture quality surprised me , when i firs...\n2         great video clip quality for a digital camera ...\n3         creative did well on its rechargeable battery ...\n4         i highly recommend this camera to anyone looki...",
      "text/html": "<div>\n<style scoped>\n    .dataframe tbody tr th:only-of-type {\n        vertical-align: middle;\n    }\n\n    .dataframe tbody tr th {\n        vertical-align: top;\n    }\n\n    .dataframe thead th {\n        text-align: right;\n    }\n</style>\n<table border=\"1\" class=\"dataframe\">\n  <thead>\n    <tr style=\"text-align: right;\">\n      <th></th>\n      <th>text</th>\n    </tr>\n    <tr>\n      <th>test_idx</th>\n      <th></th>\n    </tr>\n  </thead>\n  <tbody>\n    <tr>\n      <th>0</th>\n      <td>fm receiver it has none</td>\n    </tr>\n    <tr>\n      <th>1</th>\n      <td>the picture quality surprised me , when i firs...</td>\n    </tr>\n    <tr>\n      <th>2</th>\n      <td>great video clip quality for a digital camera ...</td>\n    </tr>\n    <tr>\n      <th>3</th>\n      <td>creative did well on its rechargeable battery ...</td>\n    </tr>\n    <tr>\n      <th>4</th>\n      <td>i highly recommend this camera to anyone looki...</td>\n    </tr>\n  </tbody>\n</table>\n</div>"
     },
     "execution_count": 4,
     "metadata": {},
     "output_type": "execute_result"
    }
   ],
   "source": [
    "test.head()"
   ],
   "metadata": {
    "collapsed": false
   }
  },
  {
   "cell_type": "code",
   "execution_count": 5,
   "outputs": [
    {
     "name": "stdout",
     "output_type": "stream",
     "text": [
      "shape de los datos train (3016, 3)\n",
      "shape de los datos test (754, 1)\n"
     ]
    }
   ],
   "source": [
    "''' shape '''\n",
    "print(f'shape de los datos train {train.shape}')\n",
    "print(f'shape de los datos test {test.shape}')"
   ],
   "metadata": {
    "collapsed": false
   }
  },
  {
   "cell_type": "code",
   "execution_count": 8,
   "outputs": [
    {
     "data": {
      "text/plain": "1    1926\n0    1090\nName: label, dtype: int64"
     },
     "execution_count": 8,
     "metadata": {},
     "output_type": "execute_result"
    }
   ],
   "source": [
    "train.label.value_counts()"
   ],
   "metadata": {
    "collapsed": false
   }
  },
  {
   "cell_type": "code",
   "execution_count": 9,
   "outputs": [
    {
     "data": {
      "text/plain": "positive    1926\nnegative    1090\nName: label_text, dtype: int64"
     },
     "execution_count": 9,
     "metadata": {},
     "output_type": "execute_result"
    }
   ],
   "source": [
    "train.label_text.value_counts()"
   ],
   "metadata": {
    "collapsed": false
   }
  },
  {
   "cell_type": "code",
   "execution_count": 10,
   "outputs": [],
   "source": [
    "# import natural language tool kit\n",
    "import nltk as nlp\n",
    "# import regex\n",
    "import re\n",
    "\n",
    "def tokenizar(texto):\n",
    "    '''\n",
    "    Esta función limpia y tokeniza el texto en palabras individuales.\n",
    "    El orden en el que se va limpiando el texto no es arbitrario.\n",
    "    El listado de signos de puntuación se ha obtenido de: print(string.punctuation)\n",
    "    y re.escape(string.punctuation)\n",
    "    '''\n",
    "\n",
    "    # Se convierte t0do el texto a minúsculas\n",
    "    nuevo_texto = texto.lower()\n",
    "    # Eliminación de signos de puntuación\n",
    "    regex = '[\\\\!\\\\\"\\\\#\\\\$\\\\%\\\\&\\\\\\'\\\\(\\\\)\\\\*\\\\+\\\\,\\\\-\\\\.\\\\/\\\\:\\\\;\\\\<\\\\=\\\\>\\\\?\\\\@\\\\[\\\\\\\\\\\\]\\\\^_\\\\`\\\\{\\\\|\\\\}\\\\~]'\n",
    "    nuevo_texto = re.sub(regex , ' ', nuevo_texto)\n",
    "    # Eliminación de números\n",
    "    nuevo_texto = re.sub(\"\\d+\", ' ', nuevo_texto)\n",
    "    # Eliminación de espacios en blanco múltiples\n",
    "    nuevo_texto = re.sub(\"\\\\s+\", ' ', nuevo_texto)\n",
    "    # Tokenización por palabras individuales\n",
    "    nuevo_texto = nuevo_texto.split(sep = ' ')\n",
    "    # Eliminación de tokens con una longitud < 2\n",
    "    nuevo_texto = [token for token in nuevo_texto if len(token) > 1]\n",
    "\n",
    "    return(nuevo_texto)"
   ],
   "metadata": {
    "collapsed": false
   }
  },
  {
   "cell_type": "code",
   "execution_count": 11,
   "outputs": [
    {
     "data": {
      "text/plain": "                                                        text  \\\ntrain_idx                                                      \n0          i really do recommend this to anyone in need o...   \n1          very good every day camera fits nicely in the ...   \n2          but , dollar for dollar , this dvd player is p...   \n3          i got this phone yesterday and didn ' t find a...   \n4                                    1 ) price gb of storage   \n\n                                                   tokenized  \ntrain_idx                                                     \n0          [really, do, recommend, this, to, anyone, in, ...  \n1          [very, good, every, day, camera, fits, nicely,...  \n2          [but, dollar, for, dollar, this, dvd, player, ...  \n3          [got, this, phone, yesterday, and, didn, find,...  \n4                                   [price, gb, of, storage]  ",
      "text/html": "<div>\n<style scoped>\n    .dataframe tbody tr th:only-of-type {\n        vertical-align: middle;\n    }\n\n    .dataframe tbody tr th {\n        vertical-align: top;\n    }\n\n    .dataframe thead th {\n        text-align: right;\n    }\n</style>\n<table border=\"1\" class=\"dataframe\">\n  <thead>\n    <tr style=\"text-align: right;\">\n      <th></th>\n      <th>text</th>\n      <th>tokenized</th>\n    </tr>\n    <tr>\n      <th>train_idx</th>\n      <th></th>\n      <th></th>\n    </tr>\n  </thead>\n  <tbody>\n    <tr>\n      <th>0</th>\n      <td>i really do recommend this to anyone in need o...</td>\n      <td>[really, do, recommend, this, to, anyone, in, ...</td>\n    </tr>\n    <tr>\n      <th>1</th>\n      <td>very good every day camera fits nicely in the ...</td>\n      <td>[very, good, every, day, camera, fits, nicely,...</td>\n    </tr>\n    <tr>\n      <th>2</th>\n      <td>but , dollar for dollar , this dvd player is p...</td>\n      <td>[but, dollar, for, dollar, this, dvd, player, ...</td>\n    </tr>\n    <tr>\n      <th>3</th>\n      <td>i got this phone yesterday and didn ' t find a...</td>\n      <td>[got, this, phone, yesterday, and, didn, find,...</td>\n    </tr>\n    <tr>\n      <th>4</th>\n      <td>1 ) price gb of storage</td>\n      <td>[price, gb, of, storage]</td>\n    </tr>\n  </tbody>\n</table>\n</div>"
     },
     "execution_count": 11,
     "metadata": {},
     "output_type": "execute_result"
    }
   ],
   "source": [
    "train['tokenized'] = train['text'].apply(lambda x: tokenizar(x))\n",
    "train[['text', 'tokenized']].head()"
   ],
   "metadata": {
    "collapsed": false
   }
  },
  {
   "cell_type": "code",
   "execution_count": 1,
   "outputs": [
    {
     "ename": "NameError",
     "evalue": "name 'train' is not defined",
     "output_type": "error",
     "traceback": [
      "\u001B[0;31m---------------------------------------------------------------------------\u001B[0m",
      "\u001B[0;31mNameError\u001B[0m                                 Traceback (most recent call last)",
      "\u001B[0;32m/var/folders/88/dtz0c8wx7cv4pd9rkvgc7m3h0000gn/T/ipykernel_55056/1604494514.py\u001B[0m in \u001B[0;36m<module>\u001B[0;34m\u001B[0m\n\u001B[0;32m----> 1\u001B[0;31m \u001B[0mXtrain\u001B[0m \u001B[0;34m=\u001B[0m \u001B[0mtrain\u001B[0m\u001B[0;34m.\u001B[0m\u001B[0mexplode\u001B[0m\u001B[0;34m(\u001B[0m\u001B[0;34m'token'\u001B[0m\u001B[0;34m)\u001B[0m\u001B[0;34m\u001B[0m\u001B[0;34m\u001B[0m\u001B[0m\n\u001B[0m\u001B[1;32m      2\u001B[0m \u001B[0mXtrain\u001B[0m\u001B[0;34m.\u001B[0m\u001B[0mdrop\u001B[0m\u001B[0;34m(\u001B[0m\u001B[0;34m[\u001B[0m\u001B[0;34m'label_text'\u001B[0m\u001B[0;34m]\u001B[0m\u001B[0;34m,\u001B[0m \u001B[0minplace\u001B[0m\u001B[0;34m=\u001B[0m\u001B[0;32mTrue\u001B[0m\u001B[0;34m)\u001B[0m\u001B[0;34m\u001B[0m\u001B[0;34m\u001B[0m\u001B[0m\n\u001B[1;32m      3\u001B[0m \u001B[0mXtrain\u001B[0m\u001B[0;34m.\u001B[0m\u001B[0mhead\u001B[0m\u001B[0;34m(\u001B[0m\u001B[0;34m)\u001B[0m\u001B[0;34m\u001B[0m\u001B[0;34m\u001B[0m\u001B[0m\n",
      "\u001B[0;31mNameError\u001B[0m: name 'train' is not defined"
     ]
    }
   ],
   "source": [
    "train = train.explode('tokenized')\n",
    "train.drop(['label_text'], inplace=True)\n",
    "train.shape"
   ],
   "metadata": {
    "collapsed": false
   }
  },
  {
   "cell_type": "code",
   "execution_count": 13,
   "outputs": [
    {
     "data": {
      "text/plain": "count    3016.000000\nmean       16.096154\nstd         9.415842\nmin         1.000000\n25%         9.000000\n50%        14.000000\n75%        21.000000\nmax        72.000000\nName: tokenized, dtype: float64"
     },
     "execution_count": 13,
     "metadata": {},
     "output_type": "execute_result"
    }
   ],
   "source": [
    "# Mean length and std of the reviews\n",
    "train.groupby(['train_idx'])['tokenized'].count().describe()"
   ],
   "metadata": {
    "collapsed": false
   }
  },
  {
   "cell_type": "code",
   "execution_count": 26,
   "outputs": [
    {
     "data": {
      "text/plain": "the          3212\nand          1518\nit           1335\nto           1328\nis           1193\n             ... \nsubstance       1\nearned          1\nshelf           1\ndistorts        1\nhandful         1\nName: tokenized, Length: 4554, dtype: int64"
     },
     "execution_count": 26,
     "metadata": {},
     "output_type": "execute_result"
    }
   ],
   "source": [
    "# most used words in the reviews\n",
    "train['tokenized'].value_counts(ascending=False)"
   ],
   "metadata": {
    "collapsed": false
   }
  },
  {
   "cell_type": "code",
   "execution_count": 37,
   "outputs": [
    {
     "data": {
      "text/plain": "<Figure size 1000x600 with 1 Axes>",
      "image/png": "[encoded data removed]"
     },
     "metadata": {},
     "output_type": "display_data"
    }
   ],
   "source": [
    "# Top 10 words\n",
    "plt.figure(figsize=(10, 6))\n",
    "counts  = train['tokenized'].value_counts(ascending=False).reset_index().head(10)\n",
    "sns.barplot(data = counts, y = 'index', x = 'tokenized', orient= 'h', palette= 'bright')\n",
    "plt.show()"
   ],
   "metadata": {
    "collapsed": false
   }
  },
  {
   "cell_type": "markdown",
   "source": [
    "# Stop words\n",
    "\n",
    "En la tabla anterior puede observarse que los términos más frecuentes en todos los usuarios se corresponden con artículos, preposiciones, pronombres…, en general, palabras que no aportan información relevante sobre el texto. Ha estas palabras se les conoce como stopwords. Para cada idioma existen distintos listados de stopwords, además, dependiendo del contexto, puede ser necesario adaptar el listado. Por ejemplo, en la tabla anterior aparece el término amp que procede de la etiqueta html &amp. Con frecuencia, a medida que se realiza un análisis se encuentran palabras que deben incluirse en el listado de stopwords."
   ],
   "metadata": {
    "collapsed": false
   }
  },
  {
   "cell_type": "code",
   "execution_count": 38,
   "outputs": [
    {
     "name": "stdout",
     "output_type": "stream",
     "text": [
      "['i', 'me', 'my', 'myself', 'we', 'our', 'ours', 'ourselves', 'you', \"you're\"]\n"
     ]
    }
   ],
   "source": [
    "from nltk.corpus import stopwords\n",
    "# Obtain list of stopwords\n",
    "stop_words = list(stopwords.words('english'))\n",
    "print(stop_words[:10])"
   ],
   "metadata": {
    "collapsed": false
   }
  },
  {
   "cell_type": "code",
   "execution_count": 39,
   "outputs": [],
   "source": [
    "# filtering stopwords\n",
    "train = train[~(train[\"tokenized\"].isin(stop_words))]"
   ],
   "metadata": {
    "collapsed": false
   }
  },
  {
   "cell_type": "code",
   "execution_count": 41,
   "outputs": [
    {
     "data": {
      "text/plain": "<Figure size 1000x600 with 1 Axes>",
      "image/png": "[encoded data removed]"
     },
     "metadata": {},
     "output_type": "display_data"
    }
   ],
   "source": [
    "# Top 10 words without stopwords\n",
    "plt.figure(figsize=(10, 6))\n",
    "counts  = train['tokenized'].value_counts(ascending=False).reset_index().head(10)\n",
    "sns.barplot(data = counts, y = 'index', x = 'tokenized', orient= 'h', palette= 'bright')\n",
    "plt.show()"
   ],
   "metadata": {
    "collapsed": false
   }
  },
  {
   "cell_type": "code",
   "execution_count": 44,
   "outputs": [
    {
     "data": {
      "text/plain": "      train_idx   tokenized  count  total_count        tf\n2820        345        high      1           48  0.020833\n2828        345        loss      1           48  0.020833\n2829        345         low      1           48  0.020833\n2830        345      manual      1           48  0.020833\n2831        345       noise      1           48  0.020833\n2832        345     peoples      1           48  0.020833\n2833        345     perfect      1           48  0.020833\n2827        345      longer      1           48  0.020833\n2834        345    playback      1           48  0.020833\n2836        345  protection      1           48  0.020833",
      "text/html": "<div>\n<style scoped>\n    .dataframe tbody tr th:only-of-type {\n        vertical-align: middle;\n    }\n\n    .dataframe tbody tr th {\n        vertical-align: top;\n    }\n\n    .dataframe thead th {\n        text-align: right;\n    }\n</style>\n<table border=\"1\" class=\"dataframe\">\n  <thead>\n    <tr style=\"text-align: right;\">\n      <th></th>\n      <th>train_idx</th>\n      <th>tokenized</th>\n      <th>count</th>\n      <th>total_count</th>\n      <th>tf</th>\n    </tr>\n  </thead>\n  <tbody>\n    <tr>\n      <th>2820</th>\n      <td>345</td>\n      <td>high</td>\n      <td>1</td>\n      <td>48</td>\n      <td>0.020833</td>\n    </tr>\n    <tr>\n      <th>2828</th>\n      <td>345</td>\n      <td>loss</td>\n      <td>1</td>\n      <td>48</td>\n      <td>0.020833</td>\n    </tr>\n    <tr>\n      <th>2829</th>\n      <td>345</td>\n      <td>low</td>\n      <td>1</td>\n      <td>48</td>\n      <td>0.020833</td>\n    </tr>\n    <tr>\n      <th>2830</th>\n      <td>345</td>\n      <td>manual</td>\n      <td>1</td>\n      <td>48</td>\n      <td>0.020833</td>\n    </tr>\n    <tr>\n      <th>2831</th>\n      <td>345</td>\n      <td>noise</td>\n      <td>1</td>\n      <td>48</td>\n      <td>0.020833</td>\n    </tr>\n    <tr>\n      <th>2832</th>\n      <td>345</td>\n      <td>peoples</td>\n      <td>1</td>\n      <td>48</td>\n      <td>0.020833</td>\n    </tr>\n    <tr>\n      <th>2833</th>\n      <td>345</td>\n      <td>perfect</td>\n      <td>1</td>\n      <td>48</td>\n      <td>0.020833</td>\n    </tr>\n    <tr>\n      <th>2827</th>\n      <td>345</td>\n      <td>longer</td>\n      <td>1</td>\n      <td>48</td>\n      <td>0.020833</td>\n    </tr>\n    <tr>\n      <th>2834</th>\n      <td>345</td>\n      <td>playback</td>\n      <td>1</td>\n      <td>48</td>\n      <td>0.020833</td>\n    </tr>\n    <tr>\n      <th>2836</th>\n      <td>345</td>\n      <td>protection</td>\n      <td>1</td>\n      <td>48</td>\n      <td>0.020833</td>\n    </tr>\n  </tbody>\n</table>\n</div>"
     },
     "execution_count": 44,
     "metadata": {},
     "output_type": "execute_result"
    }
   ],
   "source": [
    "# term-frecuency (tf)\n",
    "# ==============================================================================\n",
    "tf = train.copy()\n",
    "# Number of times a term appear in a review\n",
    "tf = tf.groupby([\"train_idx\", \"tokenized\"])[\"tokenized\"].agg([\"count\"]).reset_index()\n",
    "# Se añade una columna con el total de términos por tweet\n",
    "tf['total_count'] = tf.groupby('train_idx')['count'].transform(sum)\n",
    "# Se calcula el tf\n",
    "tf['tf'] = tf[\"count\"] / tf[\"total_count\"]\n",
    "tf.sort_values(by = \"tf\").head(10)"
   ],
   "metadata": {
    "collapsed": false
   }
  },
  {
   "cell_type": "code",
   "execution_count": 53,
   "outputs": [
    {
     "data": {
      "text/plain": "      tokenized  n_documentos       idf\n15780    player           249  2.493902\n22839       use           248  2.497926\n2631     camera           231  2.568937",
      "text/html": "<div>\n<style scoped>\n    .dataframe tbody tr th:only-of-type {\n        vertical-align: middle;\n    }\n\n    .dataframe tbody tr th {\n        vertical-align: top;\n    }\n\n    .dataframe thead th {\n        text-align: right;\n    }\n</style>\n<table border=\"1\" class=\"dataframe\">\n  <thead>\n    <tr style=\"text-align: right;\">\n      <th></th>\n      <th>tokenized</th>\n      <th>n_documentos</th>\n      <th>idf</th>\n    </tr>\n  </thead>\n  <tbody>\n    <tr>\n      <th>15780</th>\n      <td>player</td>\n      <td>249</td>\n      <td>2.493902</td>\n    </tr>\n    <tr>\n      <th>22839</th>\n      <td>use</td>\n      <td>248</td>\n      <td>2.497926</td>\n    </tr>\n    <tr>\n      <th>2631</th>\n      <td>camera</td>\n      <td>231</td>\n      <td>2.568937</td>\n    </tr>\n  </tbody>\n</table>\n</div>"
     },
     "execution_count": 53,
     "metadata": {},
     "output_type": "execute_result"
    }
   ],
   "source": [
    "# Inverse document frequency\n",
    "# ==============================================================================\n",
    "idf = train.copy()\n",
    "total_documents = idf.reset_index()[\"train_idx\"].drop_duplicates().count()\n",
    "# Number of reviews for every term\n",
    "# Número de documentos (tweets) en los que aparece cada término\n",
    "idf = idf.groupby([\"tokenized\", \"train_idx\"])[\"tokenized\"].agg([\"count\"]).reset_index()\n",
    "idf['n_documentos'] = idf.groupby('tokenized')['count'].transform(sum)\n",
    "# Cálculo del idf\n",
    "idf['idf'] = log(total_documents / idf['n_documentos'])\n",
    "idf = idf[[\"tokenized\",\"n_documentos\", \"idf\"]].drop_duplicates()\n",
    "idf.sort_values(by=\"idf\").head(3)"
   ],
   "metadata": {
    "collapsed": false
   }
  },
  {
   "cell_type": "code",
   "execution_count": 55,
   "outputs": [
    {
     "data": {
      "text/plain": "     train_idx  tokenized  count  total_count        tf  n_documentos  \\\n0            0     anyone      1            6  0.166667            16   \n347          0     really      1            6  0.166667            98   \n444          0  recommend      1            6  0.166667            36   \n116          0     player      1            6  0.166667           249   \n15           0       need      1            6  0.166667            53   \n\n          idf    tf_idf  \n0    5.238766  0.873128  \n347  3.426388  0.571065  \n444  4.427836  0.737973  \n116  2.493902  0.415650  \n15   4.041063  0.673511  ",
      "text/html": "<div>\n<style scoped>\n    .dataframe tbody tr th:only-of-type {\n        vertical-align: middle;\n    }\n\n    .dataframe tbody tr th {\n        vertical-align: top;\n    }\n\n    .dataframe thead th {\n        text-align: right;\n    }\n</style>\n<table border=\"1\" class=\"dataframe\">\n  <thead>\n    <tr style=\"text-align: right;\">\n      <th></th>\n      <th>train_idx</th>\n      <th>tokenized</th>\n      <th>count</th>\n      <th>total_count</th>\n      <th>tf</th>\n      <th>n_documentos</th>\n      <th>idf</th>\n      <th>tf_idf</th>\n    </tr>\n  </thead>\n  <tbody>\n    <tr>\n      <th>0</th>\n      <td>0</td>\n      <td>anyone</td>\n      <td>1</td>\n      <td>6</td>\n      <td>0.166667</td>\n      <td>16</td>\n      <td>5.238766</td>\n      <td>0.873128</td>\n    </tr>\n    <tr>\n      <th>347</th>\n      <td>0</td>\n      <td>really</td>\n      <td>1</td>\n      <td>6</td>\n      <td>0.166667</td>\n      <td>98</td>\n      <td>3.426388</td>\n      <td>0.571065</td>\n    </tr>\n    <tr>\n      <th>444</th>\n      <td>0</td>\n      <td>recommend</td>\n      <td>1</td>\n      <td>6</td>\n      <td>0.166667</td>\n      <td>36</td>\n      <td>4.427836</td>\n      <td>0.737973</td>\n    </tr>\n    <tr>\n      <th>116</th>\n      <td>0</td>\n      <td>player</td>\n      <td>1</td>\n      <td>6</td>\n      <td>0.166667</td>\n      <td>249</td>\n      <td>2.493902</td>\n      <td>0.415650</td>\n    </tr>\n    <tr>\n      <th>15</th>\n      <td>0</td>\n      <td>need</td>\n      <td>1</td>\n      <td>6</td>\n      <td>0.166667</td>\n      <td>53</td>\n      <td>4.041063</td>\n      <td>0.673511</td>\n    </tr>\n  </tbody>\n</table>\n</div>"
     },
     "execution_count": 55,
     "metadata": {},
     "output_type": "execute_result"
    }
   ],
   "source": [
    "# Term Frequency - Inverse Document Frequency\n",
    "# ==============================================================================\n",
    "tf_idf = pd.merge(left=tf, right=idf, on=\"tokenized\")\n",
    "tf_idf[\"tf_idf\"] = tf_idf[\"tf\"] * tf_idf[\"idf\"]\n",
    "tf_idf.sort_values(by=\"train_idx\").head()"
   ],
   "metadata": {
    "collapsed": false
   }
  },
  {
   "cell_type": "code",
   "execution_count": null,
   "outputs": [],
   "source": [],
   "metadata": {
    "collapsed": false
   }
  }
 ],
 "metadata": {
  "kernelspec": {
   "display_name": "Python 3",
   "language": "python",
   "name": "python3"
  },
  "language_info": {
   "codemirror_mode": {
    "name": "ipython",
    "version": 2
   },
   "file_extension": ".py",
   "mimetype": "text/x-python",
   "name": "python",
   "nbconvert_exporter": "python",
   "pygments_lexer": "ipython2",
   "version": "2.7.6"
  }
 },
 "nbformat": 4,
 "nbformat_minor": 0
}
