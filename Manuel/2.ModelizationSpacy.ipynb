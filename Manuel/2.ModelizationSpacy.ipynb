{
 "cells": [
  {
   "cell_type": "code",
   "execution_count": 1,
   "outputs": [],
   "source": [
    "from numpy import *\n",
    "import pandas as pd\n",
    "import seaborn as sns\n",
    "import matplotlib.pyplot as plt"
   ],
   "metadata": {
    "collapsed": false,
    "ExecuteTime": {
     "start_time": "2023-04-12T12:13:10.471743Z",
     "end_time": "2023-04-12T12:13:10.478085Z"
    }
   }
  },
  {
   "cell_type": "code",
   "execution_count": 2,
   "outputs": [],
   "source": [
    "Xtrain = pd.read_csv('../Data/New/SpacyTrain.csv', index_col=[0])\n",
    "Xtest = pd.read_csv('../Data/New/SpacyTest.csv', index_col=[0])"
   ],
   "metadata": {
    "collapsed": false,
    "ExecuteTime": {
     "start_time": "2023-04-12T12:13:10.480012Z",
     "end_time": "2023-04-12T12:13:10.537696Z"
    }
   }
  },
  {
   "cell_type": "code",
   "execution_count": 3,
   "outputs": [],
   "source": [
    "Ytrain = Xtrain.label\n",
    "Xtrain.drop(['label'], axis=1, inplace=True)"
   ],
   "metadata": {
    "collapsed": false,
    "ExecuteTime": {
     "start_time": "2023-04-12T12:13:10.546683Z",
     "end_time": "2023-04-12T12:13:10.575746Z"
    }
   }
  },
  {
   "cell_type": "code",
   "execution_count": 4,
   "outputs": [
    {
     "data": {
      "text/plain": "                                                        text  \\\ntrain_idx                                                      \n0          i really do recommend this to anyone in need o...   \n1          very good every day camera fits nicely in the ...   \n2          but dollar for dollar this dvd player is proba...   \n3          i got this phone yesterday and didn t find any...   \n4                                        price gb of storage   \n\n                                                       texto  \ntrain_idx                                                     \n0                                  recommend need new player  \n1          good day camera fit nicely pocket jean take qu...  \n2                     dollar dollar dvd player probably good  \n3                           get phone yesterday find problem  \n4                                           price gb storage  ",
      "text/html": "<div>\n<style scoped>\n    .dataframe tbody tr th:only-of-type {\n        vertical-align: middle;\n    }\n\n    .dataframe tbody tr th {\n        vertical-align: top;\n    }\n\n    .dataframe thead th {\n        text-align: right;\n    }\n</style>\n<table border=\"1\" class=\"dataframe\">\n  <thead>\n    <tr style=\"text-align: right;\">\n      <th></th>\n      <th>text</th>\n      <th>texto</th>\n    </tr>\n    <tr>\n      <th>train_idx</th>\n      <th></th>\n      <th></th>\n    </tr>\n  </thead>\n  <tbody>\n    <tr>\n      <th>0</th>\n      <td>i really do recommend this to anyone in need o...</td>\n      <td>recommend need new player</td>\n    </tr>\n    <tr>\n      <th>1</th>\n      <td>very good every day camera fits nicely in the ...</td>\n      <td>good day camera fit nicely pocket jean take qu...</td>\n    </tr>\n    <tr>\n      <th>2</th>\n      <td>but dollar for dollar this dvd player is proba...</td>\n      <td>dollar dollar dvd player probably good</td>\n    </tr>\n    <tr>\n      <th>3</th>\n      <td>i got this phone yesterday and didn t find any...</td>\n      <td>get phone yesterday find problem</td>\n    </tr>\n    <tr>\n      <th>4</th>\n      <td>price gb of storage</td>\n      <td>price gb storage</td>\n    </tr>\n  </tbody>\n</table>\n</div>"
     },
     "execution_count": 4,
     "metadata": {},
     "output_type": "execute_result"
    }
   ],
   "source": [
    "Xtrain.head()"
   ],
   "metadata": {
    "collapsed": false,
    "ExecuteTime": {
     "start_time": "2023-04-12T12:13:10.571504Z",
     "end_time": "2023-04-12T12:13:10.611444Z"
    }
   }
  },
  {
   "cell_type": "code",
   "execution_count": 5,
   "outputs": [],
   "source": [
    "from sklearn.feature_extraction.text import TfidfVectorizer\n",
    "from nltk import word_tokenize\n",
    "from nltk.stem import WordNetLemmatizer\n",
    "import nltk as nlp\n",
    "from nltk.corpus import stopwords"
   ],
   "metadata": {
    "collapsed": false,
    "ExecuteTime": {
     "start_time": "2023-04-12T12:13:10.596253Z",
     "end_time": "2023-04-12T12:13:11.721351Z"
    }
   }
  },
  {
   "cell_type": "code",
   "execution_count": 6,
   "outputs": [
    {
     "data": {
      "text/plain": "text     it has it all\ntexto              NaN\nName: 1655, dtype: object"
     },
     "execution_count": 6,
     "metadata": {},
     "output_type": "execute_result"
    }
   ],
   "source": [
    "Xtrain.iloc[1655,:]"
   ],
   "metadata": {
    "collapsed": false,
    "ExecuteTime": {
     "start_time": "2023-04-12T12:13:11.727022Z",
     "end_time": "2023-04-12T12:13:11.736806Z"
    }
   }
  },
  {
   "cell_type": "code",
   "execution_count": 7,
   "outputs": [],
   "source": [
    "Xtrain.iloc[1655,1] = 'perfect'"
   ],
   "metadata": {
    "collapsed": false,
    "ExecuteTime": {
     "start_time": "2023-04-12T12:13:11.737777Z",
     "end_time": "2023-04-12T12:13:11.743951Z"
    }
   }
  },
  {
   "cell_type": "code",
   "execution_count": 8,
   "outputs": [
    {
     "data": {
      "text/plain": "text     it has it all\ntexto          perfect\nName: 1655, dtype: object"
     },
     "execution_count": 8,
     "metadata": {},
     "output_type": "execute_result"
    }
   ],
   "source": [
    "Xtrain.iloc[1655,:]"
   ],
   "metadata": {
    "collapsed": false,
    "ExecuteTime": {
     "start_time": "2023-04-12T12:13:11.746781Z",
     "end_time": "2023-04-12T12:13:11.764305Z"
    }
   }
  },
  {
   "cell_type": "code",
   "execution_count": 9,
   "outputs": [],
   "source": [
    "# Obtain list of stopwords\n",
    "stop_words = set(stopwords.words('english'))"
   ],
   "metadata": {
    "collapsed": false,
    "ExecuteTime": {
     "start_time": "2023-04-12T12:13:11.757739Z",
     "end_time": "2023-04-12T12:13:11.764654Z"
    }
   }
  },
  {
   "cell_type": "code",
   "execution_count": 10,
   "outputs": [
    {
     "data": {
      "text/plain": "TfidfVectorizer()"
     },
     "execution_count": 10,
     "metadata": {},
     "output_type": "execute_result"
    }
   ],
   "source": [
    "tfidf_vectorizador = TfidfVectorizer()\n",
    "tfidf_vectorizador.fit(Xtrain['texto'])"
   ],
   "metadata": {
    "collapsed": false,
    "ExecuteTime": {
     "start_time": "2023-04-12T12:13:11.779990Z",
     "end_time": "2023-04-12T12:13:11.823306Z"
    }
   }
  },
  {
   "cell_type": "code",
   "execution_count": 11,
   "outputs": [],
   "source": [
    "Xtrain = tfidf_vectorizador.fit_transform(Xtrain['texto'])\n",
    "Xtest = tfidf_vectorizador.transform(Xtest['texto'])"
   ],
   "metadata": {
    "collapsed": false,
    "ExecuteTime": {
     "start_time": "2023-04-12T12:13:11.818048Z",
     "end_time": "2023-04-12T12:13:11.940812Z"
    }
   }
  },
  {
   "cell_type": "code",
   "execution_count": 12,
   "outputs": [
    {
     "data": {
      "text/plain": "      aac   ab  abandon  ability  able  ably  absolute  absolutely  abuse  \\\n0     0.0  0.0      0.0      0.0   0.0   0.0       0.0         0.0    0.0   \n1     0.0  0.0      0.0      0.0   0.0   0.0       0.0         0.0    0.0   \n2     0.0  0.0      0.0      0.0   0.0   0.0       0.0         0.0    0.0   \n3     0.0  0.0      0.0      0.0   0.0   0.0       0.0         0.0    0.0   \n4     0.0  0.0      0.0      0.0   0.0   0.0       0.0         0.0    0.0   \n...   ...  ...      ...      ...   ...   ...       ...         ...    ...   \n3011  0.0  0.0      0.0      0.0   0.0   0.0       0.0         0.0    0.0   \n3012  0.0  0.0      0.0      0.0   0.0   0.0       0.0         0.0    0.0   \n3013  0.0  0.0      0.0      0.0   0.0   0.0       0.0         0.0    0.0   \n3014  0.0  0.0      0.0      0.0   0.0   0.0       0.0         0.0    0.0   \n3015  0.0  0.0      0.0      0.0   0.0   0.0       0.0         0.0    0.0   \n\n       ac  ...  young  youngster  zealand  zen  zennx  zero  zone  zoom  \\\n0     0.0  ...    0.0        0.0      0.0  0.0    0.0   0.0   0.0   0.0   \n1     0.0  ...    0.0        0.0      0.0  0.0    0.0   0.0   0.0   0.0   \n2     0.0  ...    0.0        0.0      0.0  0.0    0.0   0.0   0.0   0.0   \n3     0.0  ...    0.0        0.0      0.0  0.0    0.0   0.0   0.0   0.0   \n4     0.0  ...    0.0        0.0      0.0  0.0    0.0   0.0   0.0   0.0   \n...   ...  ...    ...        ...      ...  ...    ...   ...   ...   ...   \n3011  0.0  ...    0.0        0.0      0.0  0.0    0.0   0.0   0.0   0.0   \n3012  0.0  ...    0.0        0.0      0.0  0.0    0.0   0.0   0.0   0.0   \n3013  0.0  ...    0.0        0.0      0.0  0.0    0.0   0.0   0.0   0.0   \n3014  0.0  ...    0.0        0.0      0.0  0.0    0.0   0.0   0.0   0.0   \n3015  0.0  ...    0.0        0.0      0.0  0.0    0.0   0.0   0.0   0.0   \n\n      zooming   zs  \n0         0.0  0.0  \n1         0.0  0.0  \n2         0.0  0.0  \n3         0.0  0.0  \n4         0.0  0.0  \n...       ...  ...  \n3011      0.0  0.0  \n3012      0.0  0.0  \n3013      0.0  0.0  \n3014      0.0  0.0  \n3015      0.0  0.0  \n\n[3016 rows x 3342 columns]",
      "text/html": "<div>\n<style scoped>\n    .dataframe tbody tr th:only-of-type {\n        vertical-align: middle;\n    }\n\n    .dataframe tbody tr th {\n        vertical-align: top;\n    }\n\n    .dataframe thead th {\n        text-align: right;\n    }\n</style>\n<table border=\"1\" class=\"dataframe\">\n  <thead>\n    <tr style=\"text-align: right;\">\n      <th></th>\n      <th>aac</th>\n      <th>ab</th>\n      <th>abandon</th>\n      <th>ability</th>\n      <th>able</th>\n      <th>ably</th>\n      <th>absolute</th>\n      <th>absolutely</th>\n      <th>abuse</th>\n      <th>ac</th>\n      <th>...</th>\n      <th>young</th>\n      <th>youngster</th>\n      <th>zealand</th>\n      <th>zen</th>\n      <th>zennx</th>\n      <th>zero</th>\n      <th>zone</th>\n      <th>zoom</th>\n      <th>zooming</th>\n      <th>zs</th>\n    </tr>\n  </thead>\n  <tbody>\n    <tr>\n      <th>0</th>\n      <td>0.0</td>\n      <td>0.0</td>\n      <td>0.0</td>\n      <td>0.0</td>\n      <td>0.0</td>\n      <td>0.0</td>\n      <td>0.0</td>\n      <td>0.0</td>\n      <td>0.0</td>\n      <td>0.0</td>\n      <td>...</td>\n      <td>0.0</td>\n      <td>0.0</td>\n      <td>0.0</td>\n      <td>0.0</td>\n      <td>0.0</td>\n      <td>0.0</td>\n      <td>0.0</td>\n      <td>0.0</td>\n      <td>0.0</td>\n      <td>0.0</td>\n    </tr>\n    <tr>\n      <th>1</th>\n      <td>0.0</td>\n      <td>0.0</td>\n      <td>0.0</td>\n      <td>0.0</td>\n      <td>0.0</td>\n      <td>0.0</td>\n      <td>0.0</td>\n      <td>0.0</td>\n      <td>0.0</td>\n      <td>0.0</td>\n      <td>...</td>\n      <td>0.0</td>\n      <td>0.0</td>\n      <td>0.0</td>\n      <td>0.0</td>\n      <td>0.0</td>\n      <td>0.0</td>\n      <td>0.0</td>\n      <td>0.0</td>\n      <td>0.0</td>\n      <td>0.0</td>\n    </tr>\n    <tr>\n      <th>2</th>\n      <td>0.0</td>\n      <td>0.0</td>\n      <td>0.0</td>\n      <td>0.0</td>\n      <td>0.0</td>\n      <td>0.0</td>\n      <td>0.0</td>\n      <td>0.0</td>\n      <td>0.0</td>\n      <td>0.0</td>\n      <td>...</td>\n      <td>0.0</td>\n      <td>0.0</td>\n      <td>0.0</td>\n      <td>0.0</td>\n      <td>0.0</td>\n      <td>0.0</td>\n      <td>0.0</td>\n      <td>0.0</td>\n      <td>0.0</td>\n      <td>0.0</td>\n    </tr>\n    <tr>\n      <th>3</th>\n      <td>0.0</td>\n      <td>0.0</td>\n      <td>0.0</td>\n      <td>0.0</td>\n      <td>0.0</td>\n      <td>0.0</td>\n      <td>0.0</td>\n      <td>0.0</td>\n      <td>0.0</td>\n      <td>0.0</td>\n      <td>...</td>\n      <td>0.0</td>\n      <td>0.0</td>\n      <td>0.0</td>\n      <td>0.0</td>\n      <td>0.0</td>\n      <td>0.0</td>\n      <td>0.0</td>\n      <td>0.0</td>\n      <td>0.0</td>\n      <td>0.0</td>\n    </tr>\n    <tr>\n      <th>4</th>\n      <td>0.0</td>\n      <td>0.0</td>\n      <td>0.0</td>\n      <td>0.0</td>\n      <td>0.0</td>\n      <td>0.0</td>\n      <td>0.0</td>\n      <td>0.0</td>\n      <td>0.0</td>\n      <td>0.0</td>\n      <td>...</td>\n      <td>0.0</td>\n      <td>0.0</td>\n      <td>0.0</td>\n      <td>0.0</td>\n      <td>0.0</td>\n      <td>0.0</td>\n      <td>0.0</td>\n      <td>0.0</td>\n      <td>0.0</td>\n      <td>0.0</td>\n    </tr>\n    <tr>\n      <th>...</th>\n      <td>...</td>\n      <td>...</td>\n      <td>...</td>\n      <td>...</td>\n      <td>...</td>\n      <td>...</td>\n      <td>...</td>\n      <td>...</td>\n      <td>...</td>\n      <td>...</td>\n      <td>...</td>\n      <td>...</td>\n      <td>...</td>\n      <td>...</td>\n      <td>...</td>\n      <td>...</td>\n      <td>...</td>\n      <td>...</td>\n      <td>...</td>\n      <td>...</td>\n      <td>...</td>\n    </tr>\n    <tr>\n      <th>3011</th>\n      <td>0.0</td>\n      <td>0.0</td>\n      <td>0.0</td>\n      <td>0.0</td>\n      <td>0.0</td>\n      <td>0.0</td>\n      <td>0.0</td>\n      <td>0.0</td>\n      <td>0.0</td>\n      <td>0.0</td>\n      <td>...</td>\n      <td>0.0</td>\n      <td>0.0</td>\n      <td>0.0</td>\n      <td>0.0</td>\n      <td>0.0</td>\n      <td>0.0</td>\n      <td>0.0</td>\n      <td>0.0</td>\n      <td>0.0</td>\n      <td>0.0</td>\n    </tr>\n    <tr>\n      <th>3012</th>\n      <td>0.0</td>\n      <td>0.0</td>\n      <td>0.0</td>\n      <td>0.0</td>\n      <td>0.0</td>\n      <td>0.0</td>\n      <td>0.0</td>\n      <td>0.0</td>\n      <td>0.0</td>\n      <td>0.0</td>\n      <td>...</td>\n      <td>0.0</td>\n      <td>0.0</td>\n      <td>0.0</td>\n      <td>0.0</td>\n      <td>0.0</td>\n      <td>0.0</td>\n      <td>0.0</td>\n      <td>0.0</td>\n      <td>0.0</td>\n      <td>0.0</td>\n    </tr>\n    <tr>\n      <th>3013</th>\n      <td>0.0</td>\n      <td>0.0</td>\n      <td>0.0</td>\n      <td>0.0</td>\n      <td>0.0</td>\n      <td>0.0</td>\n      <td>0.0</td>\n      <td>0.0</td>\n      <td>0.0</td>\n      <td>0.0</td>\n      <td>...</td>\n      <td>0.0</td>\n      <td>0.0</td>\n      <td>0.0</td>\n      <td>0.0</td>\n      <td>0.0</td>\n      <td>0.0</td>\n      <td>0.0</td>\n      <td>0.0</td>\n      <td>0.0</td>\n      <td>0.0</td>\n    </tr>\n    <tr>\n      <th>3014</th>\n      <td>0.0</td>\n      <td>0.0</td>\n      <td>0.0</td>\n      <td>0.0</td>\n      <td>0.0</td>\n      <td>0.0</td>\n      <td>0.0</td>\n      <td>0.0</td>\n      <td>0.0</td>\n      <td>0.0</td>\n      <td>...</td>\n      <td>0.0</td>\n      <td>0.0</td>\n      <td>0.0</td>\n      <td>0.0</td>\n      <td>0.0</td>\n      <td>0.0</td>\n      <td>0.0</td>\n      <td>0.0</td>\n      <td>0.0</td>\n      <td>0.0</td>\n    </tr>\n    <tr>\n      <th>3015</th>\n      <td>0.0</td>\n      <td>0.0</td>\n      <td>0.0</td>\n      <td>0.0</td>\n      <td>0.0</td>\n      <td>0.0</td>\n      <td>0.0</td>\n      <td>0.0</td>\n      <td>0.0</td>\n      <td>0.0</td>\n      <td>...</td>\n      <td>0.0</td>\n      <td>0.0</td>\n      <td>0.0</td>\n      <td>0.0</td>\n      <td>0.0</td>\n      <td>0.0</td>\n      <td>0.0</td>\n      <td>0.0</td>\n      <td>0.0</td>\n      <td>0.0</td>\n    </tr>\n  </tbody>\n</table>\n<p>3016 rows × 3342 columns</p>\n</div>"
     },
     "execution_count": 12,
     "metadata": {},
     "output_type": "execute_result"
    }
   ],
   "source": [
    "pd.DataFrame(Xtrain.toarray(), columns=tfidf_vectorizador.get_feature_names_out())"
   ],
   "metadata": {
    "collapsed": false,
    "ExecuteTime": {
     "start_time": "2023-04-12T12:13:11.899710Z",
     "end_time": "2023-04-12T12:13:12.007088Z"
    }
   }
  },
  {
   "cell_type": "code",
   "execution_count": 13,
   "outputs": [],
   "source": [
    "from sklearn.linear_model import LogisticRegression\n",
    "from sklearn.tree import DecisionTreeClassifier\n",
    "from sklearn.neighbors import KNeighborsClassifier\n",
    "from sklearn.discriminant_analysis import LinearDiscriminantAnalysis\n",
    "from sklearn.naive_bayes import GaussianNB\n",
    "from sklearn.ensemble import RandomForestClassifier\n",
    "from sklearn.tree import DecisionTreeClassifier\n",
    "from sklearn.ensemble import BaggingClassifier\n",
    "from sklearn.ensemble import GradientBoostingClassifier\n",
    "from sklearn.ensemble import StackingClassifier\n",
    "from xgboost import XGBClassifier\n",
    "from sklearn.svm import SVC\n",
    "from sklearn.neighbors import KNeighborsClassifier\n",
    "from sklearn.discriminant_analysis import LinearDiscriminantAnalysis\n",
    "from sklearn.naive_bayes import GaussianNB\n",
    "from sklearn.model_selection import KFold\n",
    "from sklearn.model_selection import cross_val_score\n",
    "from sklearn.model_selection import GridSearchCV\n",
    "from sklearn.model_selection import train_test_split\n",
    "from sklearn.metrics import classification_report"
   ],
   "metadata": {
    "collapsed": false,
    "ExecuteTime": {
     "start_time": "2023-04-12T12:13:12.001477Z",
     "end_time": "2023-04-12T12:13:12.279113Z"
    }
   }
  },
  {
   "cell_type": "code",
   "execution_count": 14,
   "outputs": [],
   "source": [
    "kf = KFold(n_splits=5, shuffle=True, random_state=0)"
   ],
   "metadata": {
    "collapsed": false,
    "ExecuteTime": {
     "start_time": "2023-04-12T12:13:12.216947Z",
     "end_time": "2023-04-12T12:13:12.279497Z"
    }
   }
  },
  {
   "cell_type": "code",
   "execution_count": 15,
   "outputs": [],
   "source": [
    "models = []\n",
    "models.append(('glm', LogisticRegression(random_state=99)))\n",
    "models.append(('dectree', DecisionTreeClassifier(random_state=99)))\n",
    "models.append(('rf', RandomForestClassifier(random_state=99)))\n",
    "models.append(('gb', GradientBoostingClassifier(random_state=99)))\n",
    "models.append(('xgb', XGBClassifier()))\n",
    "models.append(('bag', BaggingClassifier(random_state=99)))\n",
    "models.append(('svmr', SVC(random_state=99)))\n",
    "models.append(('svml', SVC(kernel='linear', random_state=99)))\n",
    "\n",
    "\n",
    "def boxplots_algorithms(results, names):\n",
    "    plt.figure(figsize=(8, 8))\n",
    "    plt.boxplot(results)\n",
    "    plt.xticks(range(1, len(names) + 1), names)\n",
    "    plt.show()"
   ],
   "metadata": {
    "collapsed": false,
    "ExecuteTime": {
     "start_time": "2023-04-12T12:13:12.232346Z",
     "end_time": "2023-04-12T12:13:12.279786Z"
    }
   }
  },
  {
   "cell_type": "code",
   "execution_count": 16,
   "outputs": [
    {
     "data": {
      "text/plain": "<Figure size 800x800 with 1 Axes>",
      "image/png": "[encoded data removed]"
     },
     "metadata": {},
     "output_type": "display_data"
    }
   ],
   "source": [
    "results = []\n",
    "names = []\n",
    "\n",
    "for name, model in models:\n",
    "    acc = cross_val_score(model, Xtrain, Ytrain, cv=kf, scoring='f1')\n",
    "    names.append(name)\n",
    "    results.append(acc)\n",
    "\n",
    "boxplots_algorithms(results, names)"
   ],
   "metadata": {
    "collapsed": false,
    "ExecuteTime": {
     "start_time": "2023-04-12T12:13:12.241271Z",
     "end_time": "2023-04-12T12:13:47.586625Z"
    }
   }
  },
  {
   "cell_type": "code",
   "execution_count": 17,
   "outputs": [
    {
     "data": {
      "text/plain": "0.8291245775229792"
     },
     "execution_count": 17,
     "metadata": {},
     "output_type": "execute_result"
    }
   ],
   "source": [
    "# new\n",
    "svm = SVC(random_state=99, kernel = 'linear')\n",
    "svm.fit(Xtrain,Ytrain)\n",
    "mean(cross_val_score(svm,Xtrain,Ytrain,scoring = 'f1',cv = kf))"
   ],
   "metadata": {
    "collapsed": false,
    "ExecuteTime": {
     "start_time": "2023-04-12T12:13:47.585752Z",
     "end_time": "2023-04-12T12:13:50.952320Z"
    }
   }
  },
  {
   "cell_type": "code",
   "execution_count": 18,
   "outputs": [
    {
     "data": {
      "text/plain": "0.7708883836886209"
     },
     "execution_count": 18,
     "metadata": {},
     "output_type": "execute_result"
    }
   ],
   "source": [
    "mean(cross_val_score(svm,Xtrain,Ytrain,scoring = 'accuracy',cv = kf))"
   ],
   "metadata": {
    "collapsed": false,
    "ExecuteTime": {
     "start_time": "2023-04-12T12:13:50.956579Z",
     "end_time": "2023-04-12T12:13:53.559354Z"
    }
   }
  },
  {
   "cell_type": "code",
   "execution_count": 19,
   "outputs": [
    {
     "data": {
      "text/plain": "        aac       ab  abandon   ability      able      ably  absolute  \\\n0 -0.459634 -0.41374      0.0  0.150207  0.274799  0.199834  0.440545   \n\n   absolutely  abuse        ac  ...     young  youngster   zealand       zen  \\\n0    0.480714    0.0 -0.041002  ... -0.267422        0.0  0.440601  0.449767   \n\n      zennx      zero      zone      zoom   zooming        zs  \n0 -0.269144 -0.838433 -0.604888 -0.066512 -0.388692  0.222569  \n\n[1 rows x 3342 columns]",
      "text/html": "<div>\n<style scoped>\n    .dataframe tbody tr th:only-of-type {\n        vertical-align: middle;\n    }\n\n    .dataframe tbody tr th {\n        vertical-align: top;\n    }\n\n    .dataframe thead th {\n        text-align: right;\n    }\n</style>\n<table border=\"1\" class=\"dataframe\">\n  <thead>\n    <tr style=\"text-align: right;\">\n      <th></th>\n      <th>aac</th>\n      <th>ab</th>\n      <th>abandon</th>\n      <th>ability</th>\n      <th>able</th>\n      <th>ably</th>\n      <th>absolute</th>\n      <th>absolutely</th>\n      <th>abuse</th>\n      <th>ac</th>\n      <th>...</th>\n      <th>young</th>\n      <th>youngster</th>\n      <th>zealand</th>\n      <th>zen</th>\n      <th>zennx</th>\n      <th>zero</th>\n      <th>zone</th>\n      <th>zoom</th>\n      <th>zooming</th>\n      <th>zs</th>\n    </tr>\n  </thead>\n  <tbody>\n    <tr>\n      <th>0</th>\n      <td>-0.459634</td>\n      <td>-0.41374</td>\n      <td>0.0</td>\n      <td>0.150207</td>\n      <td>0.274799</td>\n      <td>0.199834</td>\n      <td>0.440545</td>\n      <td>0.480714</td>\n      <td>0.0</td>\n      <td>-0.041002</td>\n      <td>...</td>\n      <td>-0.267422</td>\n      <td>0.0</td>\n      <td>0.440601</td>\n      <td>0.449767</td>\n      <td>-0.269144</td>\n      <td>-0.838433</td>\n      <td>-0.604888</td>\n      <td>-0.066512</td>\n      <td>-0.388692</td>\n      <td>0.222569</td>\n    </tr>\n  </tbody>\n</table>\n<p>1 rows × 3342 columns</p>\n</div>"
     },
     "execution_count": 19,
     "metadata": {},
     "output_type": "execute_result"
    }
   ],
   "source": [
    "data = pd.DataFrame(svm.coef_.toarray(), columns=tfidf_vectorizador.get_feature_names_out())\n",
    "data"
   ],
   "metadata": {
    "collapsed": false,
    "ExecuteTime": {
     "start_time": "2023-04-12T12:13:53.581001Z",
     "end_time": "2023-04-12T12:13:53.600042Z"
    }
   }
  },
  {
   "cell_type": "code",
   "execution_count": 20,
   "outputs": [
    {
     "data": {
      "text/plain": "                0\naac     -0.459634\nab      -0.413740\nabandon  0.000000\nability  0.150207\nable     0.274799\n...           ...\nzero    -0.838433\nzone    -0.604888\nzoom    -0.066512\nzooming -0.388692\nzs       0.222569\n\n[3342 rows x 1 columns]",
      "text/html": "<div>\n<style scoped>\n    .dataframe tbody tr th:only-of-type {\n        vertical-align: middle;\n    }\n\n    .dataframe tbody tr th {\n        vertical-align: top;\n    }\n\n    .dataframe thead th {\n        text-align: right;\n    }\n</style>\n<table border=\"1\" class=\"dataframe\">\n  <thead>\n    <tr style=\"text-align: right;\">\n      <th></th>\n      <th>0</th>\n    </tr>\n  </thead>\n  <tbody>\n    <tr>\n      <th>aac</th>\n      <td>-0.459634</td>\n    </tr>\n    <tr>\n      <th>ab</th>\n      <td>-0.413740</td>\n    </tr>\n    <tr>\n      <th>abandon</th>\n      <td>0.000000</td>\n    </tr>\n    <tr>\n      <th>ability</th>\n      <td>0.150207</td>\n    </tr>\n    <tr>\n      <th>able</th>\n      <td>0.274799</td>\n    </tr>\n    <tr>\n      <th>...</th>\n      <td>...</td>\n    </tr>\n    <tr>\n      <th>zero</th>\n      <td>-0.838433</td>\n    </tr>\n    <tr>\n      <th>zone</th>\n      <td>-0.604888</td>\n    </tr>\n    <tr>\n      <th>zoom</th>\n      <td>-0.066512</td>\n    </tr>\n    <tr>\n      <th>zooming</th>\n      <td>-0.388692</td>\n    </tr>\n    <tr>\n      <th>zs</th>\n      <td>0.222569</td>\n    </tr>\n  </tbody>\n</table>\n<p>3342 rows × 1 columns</p>\n</div>"
     },
     "execution_count": 20,
     "metadata": {},
     "output_type": "execute_result"
    }
   ],
   "source": [
    "data = data.T\n",
    "data"
   ],
   "metadata": {
    "collapsed": false,
    "ExecuteTime": {
     "start_time": "2023-04-12T12:13:53.601215Z",
     "end_time": "2023-04-12T12:13:53.624687Z"
    }
   }
  },
  {
   "cell_type": "code",
   "execution_count": 21,
   "outputs": [
    {
     "data": {
      "text/plain": "              index         0       abs\n1277          great  2.789052  2.789052\n922            easy  2.393591  2.393591\n1261           good  2.329370  2.329370\n2560        scratch -2.322731  2.322731\n1709           love  2.279187  2.279187\n...             ...       ...       ...\n3104      undecided  0.000000  0.000000\n942           eject  0.000000  0.000000\n2864        styling  0.000000  0.000000\n3101  uncomplicated  0.000000  0.000000\n2628        sharper  0.000000  0.000000\n\n[3342 rows x 3 columns]",
      "text/html": "<div>\n<style scoped>\n    .dataframe tbody tr th:only-of-type {\n        vertical-align: middle;\n    }\n\n    .dataframe tbody tr th {\n        vertical-align: top;\n    }\n\n    .dataframe thead th {\n        text-align: right;\n    }\n</style>\n<table border=\"1\" class=\"dataframe\">\n  <thead>\n    <tr style=\"text-align: right;\">\n      <th></th>\n      <th>index</th>\n      <th>0</th>\n      <th>abs</th>\n    </tr>\n  </thead>\n  <tbody>\n    <tr>\n      <th>1277</th>\n      <td>great</td>\n      <td>2.789052</td>\n      <td>2.789052</td>\n    </tr>\n    <tr>\n      <th>922</th>\n      <td>easy</td>\n      <td>2.393591</td>\n      <td>2.393591</td>\n    </tr>\n    <tr>\n      <th>1261</th>\n      <td>good</td>\n      <td>2.329370</td>\n      <td>2.329370</td>\n    </tr>\n    <tr>\n      <th>2560</th>\n      <td>scratch</td>\n      <td>-2.322731</td>\n      <td>2.322731</td>\n    </tr>\n    <tr>\n      <th>1709</th>\n      <td>love</td>\n      <td>2.279187</td>\n      <td>2.279187</td>\n    </tr>\n    <tr>\n      <th>...</th>\n      <td>...</td>\n      <td>...</td>\n      <td>...</td>\n    </tr>\n    <tr>\n      <th>3104</th>\n      <td>undecided</td>\n      <td>0.000000</td>\n      <td>0.000000</td>\n    </tr>\n    <tr>\n      <th>942</th>\n      <td>eject</td>\n      <td>0.000000</td>\n      <td>0.000000</td>\n    </tr>\n    <tr>\n      <th>2864</th>\n      <td>styling</td>\n      <td>0.000000</td>\n      <td>0.000000</td>\n    </tr>\n    <tr>\n      <th>3101</th>\n      <td>uncomplicated</td>\n      <td>0.000000</td>\n      <td>0.000000</td>\n    </tr>\n    <tr>\n      <th>2628</th>\n      <td>sharper</td>\n      <td>0.000000</td>\n      <td>0.000000</td>\n    </tr>\n  </tbody>\n</table>\n<p>3342 rows × 3 columns</p>\n</div>"
     },
     "execution_count": 21,
     "metadata": {},
     "output_type": "execute_result"
    }
   ],
   "source": [
    "data['abs'] = abs(data)\n",
    "data.reset_index(inplace= True)\n",
    "data.sort_values(by = 'abs', ascending= False)"
   ],
   "metadata": {
    "collapsed": false,
    "ExecuteTime": {
     "start_time": "2023-04-12T12:13:53.614431Z",
     "end_time": "2023-04-12T12:13:53.681591Z"
    }
   }
  },
  {
   "cell_type": "code",
   "execution_count": 22,
   "outputs": [
    {
     "data": {
      "text/plain": "<Figure size 4000x1000 with 1 Axes>",
      "image/png": "[encoded data removed]"
     },
     "metadata": {},
     "output_type": "display_data"
    }
   ],
   "source": [
    "data = data.sort_values(by = 'abs', ascending= False)\n",
    "plt.figure(figsize=(40,10))\n",
    "sns.barplot(data = data.iloc[:20,:], x = 'index' ,y = 'abs')\n",
    "plt.show()"
   ],
   "metadata": {
    "collapsed": false,
    "ExecuteTime": {
     "start_time": "2023-04-12T12:13:53.636276Z",
     "end_time": "2023-04-12T12:13:54.209263Z"
    }
   }
  },
  {
   "cell_type": "code",
   "execution_count": 22,
   "outputs": [],
   "source": [],
   "metadata": {
    "collapsed": false,
    "ExecuteTime": {
     "start_time": "2023-04-12T12:13:54.201077Z",
     "end_time": "2023-04-12T12:13:54.209374Z"
    }
   }
  }
 ],
 "metadata": {
  "kernelspec": {
   "display_name": "Python 3",
   "language": "python",
   "name": "python3"
  },
  "language_info": {
   "codemirror_mode": {
    "name": "ipython",
    "version": 2
   },
   "file_extension": ".py",
   "mimetype": "text/x-python",
   "name": "python",
   "nbconvert_exporter": "python",
   "pygments_lexer": "ipython2",
   "version": "2.7.6"
  }
 },
 "nbformat": 4,
 "nbformat_minor": 0
}
