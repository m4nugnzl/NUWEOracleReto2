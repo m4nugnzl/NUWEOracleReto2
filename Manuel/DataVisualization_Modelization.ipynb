{
 "cells": [
  {
   "cell_type": "markdown",
   "source": [
    "# Oracle-Reto 2: Análisis de sentimiento\n",
    "\n",
    "*NUWE EVA*, la cadena de restauración fast food y healthy, sigue creciendo y queremos dar un paso más para mejorar y ofrecer el mejor servicio posible a nuestros clientes.\n",
    "\n",
    "Queremos evolucionar y ofrecer nuevas capacidades a nuestro robot y talentoso camarero, *EVA*, añadiendo la función de poder detectar, a través de frases y palabras utilizadas por los comensales, el grado de satisfacción de los platos probados y así ver qué platos y productos han gustado más o menos a los clientes.\n",
    "\n",
    "Nuestro robot ya sabe detectar lo que pedirán los comensales según los productos elegidos. Ahora queremos saber cuál es el feedback de cada cliente para detectar si le ha gustado o no el plato servido.\n",
    "\n",
    "> Objetivo\n",
    "Crea un modelo predictivo de **clasificación** para poder **ordenar y o catalogar las reseñas**. Primero entrena tu modelo con las reseñas de entrenamiento. Una vez tengas el modelo que maximice la puntuación F1 (macro.), utiliza las reseñas de prueba como entrada para tu modelo."
   ],
   "metadata": {
    "collapsed": false
   }
  },
  {
   "cell_type": "code",
   "execution_count": 103,
   "outputs": [],
   "source": [
    "from numpy import *\n",
    "import pandas as pd\n",
    "import seaborn as sns\n",
    "import matplotlib.pyplot as plt\n",
    "import contractions\n",
    "import nltk as nlp\n",
    "from nltk import word_tokenize\n",
    "from nltk.corpus import stopwords\n",
    "import re\n",
    "from sklearn.feature_extraction.text import TfidfVectorizer\n",
    "\n",
    "from sklearn.linear_model import LogisticRegression\n",
    "from sklearn.tree import DecisionTreeClassifier\n",
    "from sklearn.neighbors import KNeighborsClassifier\n",
    "from sklearn.discriminant_analysis import LinearDiscriminantAnalysis\n",
    "from sklearn.naive_bayes import GaussianNB\n",
    "from sklearn.ensemble import RandomForestClassifier\n",
    "from sklearn.tree import DecisionTreeClassifier\n",
    "from sklearn.ensemble import BaggingClassifier\n",
    "from sklearn.ensemble import GradientBoostingClassifier\n",
    "from sklearn.ensemble import StackingClassifier\n",
    "from xgboost import XGBClassifier\n",
    "from sklearn.svm import SVC\n",
    "from sklearn.neighbors import KNeighborsClassifier\n",
    "from sklearn.discriminant_analysis import LinearDiscriminantAnalysis\n",
    "from sklearn.naive_bayes import GaussianNB\n",
    "from sklearn.model_selection import KFold\n",
    "from sklearn.model_selection import cross_val_score\n",
    "from sklearn.model_selection import GridSearchCV\n",
    "from sklearn.model_selection import train_test_split\n",
    "from sklearn.metrics import classification_report\n",
    "\n",
    "from tensorflow import keras\n",
    "from tensorflow.keras import layers\n",
    "from tensorflow.keras import callbacks\n",
    "from tensorflow.keras.callbacks import EarlyStopping"
   ],
   "metadata": {
    "collapsed": false,
    "ExecuteTime": {
     "start_time": "2023-04-18T11:47:11.965175Z",
     "end_time": "2023-04-18T11:47:12.379761Z"
    }
   }
  },
  {
   "cell_type": "code",
   "execution_count": 2,
   "outputs": [],
   "source": [
    "train = pd.read_csv('../Data/train.csv',index_col = [0])\n",
    "test = pd.read_csv('../Data/test.csv',index_col = [0])"
   ],
   "metadata": {
    "collapsed": false,
    "ExecuteTime": {
     "start_time": "2023-04-18T11:24:19.274632Z",
     "end_time": "2023-04-18T11:24:19.307868Z"
    }
   }
  },
  {
   "cell_type": "code",
   "execution_count": 3,
   "outputs": [
    {
     "data": {
      "text/plain": "                                                        text  label label_text\ntrain_idx                                                                     \n0          i really do recommend this to anyone in need o...      1   positive\n1          very good every day camera fits nicely in the ...      1   positive\n2          but , dollar for dollar , this dvd player is p...      1   positive\n3          i got this phone yesterday and didn ' t find a...      1   positive\n4                                    1 ) price gb of storage      1   positive",
      "text/html": "<div>\n<style scoped>\n    .dataframe tbody tr th:only-of-type {\n        vertical-align: middle;\n    }\n\n    .dataframe tbody tr th {\n        vertical-align: top;\n    }\n\n    .dataframe thead th {\n        text-align: right;\n    }\n</style>\n<table border=\"1\" class=\"dataframe\">\n  <thead>\n    <tr style=\"text-align: right;\">\n      <th></th>\n      <th>text</th>\n      <th>label</th>\n      <th>label_text</th>\n    </tr>\n    <tr>\n      <th>train_idx</th>\n      <th></th>\n      <th></th>\n      <th></th>\n    </tr>\n  </thead>\n  <tbody>\n    <tr>\n      <th>0</th>\n      <td>i really do recommend this to anyone in need o...</td>\n      <td>1</td>\n      <td>positive</td>\n    </tr>\n    <tr>\n      <th>1</th>\n      <td>very good every day camera fits nicely in the ...</td>\n      <td>1</td>\n      <td>positive</td>\n    </tr>\n    <tr>\n      <th>2</th>\n      <td>but , dollar for dollar , this dvd player is p...</td>\n      <td>1</td>\n      <td>positive</td>\n    </tr>\n    <tr>\n      <th>3</th>\n      <td>i got this phone yesterday and didn ' t find a...</td>\n      <td>1</td>\n      <td>positive</td>\n    </tr>\n    <tr>\n      <th>4</th>\n      <td>1 ) price gb of storage</td>\n      <td>1</td>\n      <td>positive</td>\n    </tr>\n  </tbody>\n</table>\n</div>"
     },
     "execution_count": 3,
     "metadata": {},
     "output_type": "execute_result"
    }
   ],
   "source": [
    "train.head()"
   ],
   "metadata": {
    "collapsed": false,
    "ExecuteTime": {
     "start_time": "2023-04-18T11:24:19.308278Z",
     "end_time": "2023-04-18T11:24:19.326231Z"
    }
   }
  },
  {
   "cell_type": "code",
   "execution_count": 4,
   "outputs": [
    {
     "data": {
      "text/plain": "                                                       text\ntest_idx                                                   \n0                                   fm receiver it has none\n1         the picture quality surprised me , when i firs...\n2         great video clip quality for a digital camera ...\n3         creative did well on its rechargeable battery ...\n4         i highly recommend this camera to anyone looki...",
      "text/html": "<div>\n<style scoped>\n    .dataframe tbody tr th:only-of-type {\n        vertical-align: middle;\n    }\n\n    .dataframe tbody tr th {\n        vertical-align: top;\n    }\n\n    .dataframe thead th {\n        text-align: right;\n    }\n</style>\n<table border=\"1\" class=\"dataframe\">\n  <thead>\n    <tr style=\"text-align: right;\">\n      <th></th>\n      <th>text</th>\n    </tr>\n    <tr>\n      <th>test_idx</th>\n      <th></th>\n    </tr>\n  </thead>\n  <tbody>\n    <tr>\n      <th>0</th>\n      <td>fm receiver it has none</td>\n    </tr>\n    <tr>\n      <th>1</th>\n      <td>the picture quality surprised me , when i firs...</td>\n    </tr>\n    <tr>\n      <th>2</th>\n      <td>great video clip quality for a digital camera ...</td>\n    </tr>\n    <tr>\n      <th>3</th>\n      <td>creative did well on its rechargeable battery ...</td>\n    </tr>\n    <tr>\n      <th>4</th>\n      <td>i highly recommend this camera to anyone looki...</td>\n    </tr>\n  </tbody>\n</table>\n</div>"
     },
     "execution_count": 4,
     "metadata": {},
     "output_type": "execute_result"
    }
   ],
   "source": [
    "test.head()"
   ],
   "metadata": {
    "collapsed": false,
    "ExecuteTime": {
     "start_time": "2023-04-18T11:24:19.328993Z",
     "end_time": "2023-04-18T11:24:19.375266Z"
    }
   }
  },
  {
   "cell_type": "code",
   "execution_count": 5,
   "outputs": [
    {
     "name": "stdout",
     "output_type": "stream",
     "text": [
      "shape de los datos train (3016, 3)\n",
      "shape de los datos test (754, 1)\n"
     ]
    }
   ],
   "source": [
    "''' shape '''\n",
    "print(f'shape de los datos train {train.shape}')\n",
    "print(f'shape de los datos test {test.shape}')"
   ],
   "metadata": {
    "collapsed": false,
    "ExecuteTime": {
     "start_time": "2023-04-18T11:24:19.337153Z",
     "end_time": "2023-04-18T11:24:19.376742Z"
    }
   }
  },
  {
   "cell_type": "code",
   "execution_count": 6,
   "outputs": [
    {
     "data": {
      "text/plain": "1    1926\n0    1090\nName: label, dtype: int64"
     },
     "execution_count": 6,
     "metadata": {},
     "output_type": "execute_result"
    }
   ],
   "source": [
    "train.label.value_counts()"
   ],
   "metadata": {
    "collapsed": false,
    "ExecuteTime": {
     "start_time": "2023-04-18T11:24:19.348817Z",
     "end_time": "2023-04-18T11:24:19.490421Z"
    }
   }
  },
  {
   "cell_type": "code",
   "execution_count": 7,
   "outputs": [
    {
     "data": {
      "text/plain": "4"
     },
     "execution_count": 7,
     "metadata": {},
     "output_type": "execute_result"
    }
   ],
   "source": [
    "''' valores duplicados '''\n",
    "train.duplicated().sum()"
   ],
   "metadata": {
    "collapsed": false,
    "ExecuteTime": {
     "start_time": "2023-04-18T11:24:19.359480Z",
     "end_time": "2023-04-18T11:24:19.491068Z"
    }
   }
  },
  {
   "cell_type": "code",
   "execution_count": 8,
   "outputs": [],
   "source": [
    "train = train.drop_duplicates()\n",
    "train.drop(['label_text'],axis = 1,inplace = True)"
   ],
   "metadata": {
    "collapsed": false,
    "ExecuteTime": {
     "start_time": "2023-04-18T11:24:19.374078Z",
     "end_time": "2023-04-18T11:24:19.492418Z"
    }
   }
  },
  {
   "cell_type": "markdown",
   "source": [
    "# Preprocessing"
   ],
   "metadata": {
    "collapsed": false
   }
  },
  {
   "cell_type": "code",
   "execution_count": 9,
   "outputs": [
    {
     "data": {
      "text/plain": "<Figure size 557.75x500 with 1 Axes>",
      "image/png": "[encoded data removed]"
     },
     "metadata": {},
     "output_type": "display_data"
    }
   ],
   "source": [
    "train[\"char_len\"] = train[\"text\"].apply(lambda x: len(x))\n",
    "\n",
    "sns.displot(train, x=\"char_len\", kde=True, hue=\"label\")\n",
    "plt.show()\n",
    "\n",
    "# no existe diferencia"
   ],
   "metadata": {
    "collapsed": false,
    "ExecuteTime": {
     "start_time": "2023-04-18T11:24:19.393370Z",
     "end_time": "2023-04-18T11:24:24.502879Z"
    }
   }
  },
  {
   "cell_type": "code",
   "execution_count": 10,
   "outputs": [],
   "source": [
    "train.drop(columns=\"char_len\", inplace=True)"
   ],
   "metadata": {
    "collapsed": false,
    "ExecuteTime": {
     "start_time": "2023-04-18T11:24:24.504234Z",
     "end_time": "2023-04-18T11:24:24.508630Z"
    }
   }
  },
  {
   "cell_type": "code",
   "execution_count": 11,
   "outputs": [
    {
     "data": {
      "text/plain": "train_idx\n0       i really do recommend this to anyone in need o...\n1       very good every day camera fits nicely in the ...\n2       but , dollar for dollar , this dvd player is p...\n3       i got this phone yesterday and didn ' t find a...\n4                                 1 ) price gb of storage\n                              ...                        \n3011    as for itunes , i don ' t find it to be as goo...\n3012    i have not played with all the features yet , ...\n3013    applications it has lots of applications and t...\n3014                                    battery non issue\n3015    the fm tuner , the 5g of storage , and the rem...\nName: text, Length: 3012, dtype: object"
     },
     "execution_count": 11,
     "metadata": {},
     "output_type": "execute_result"
    }
   ],
   "source": [
    "train.text"
   ],
   "metadata": {
    "collapsed": false,
    "ExecuteTime": {
     "start_time": "2023-04-18T11:24:24.513252Z",
     "end_time": "2023-04-18T11:24:24.521557Z"
    }
   }
  },
  {
   "cell_type": "code",
   "execution_count": 12,
   "outputs": [],
   "source": [
    "train['text'] = train['text'].apply(lambda x: x.replace(\" ' \",\"'\"))\n",
    "train['text'] = train['text'].apply(lambda x: x.replace(\" n't \",\"n't \"))\n",
    "\n",
    "test['text'] = test['text'].apply(lambda x: x.replace(\" ' \",\"'\"))\n",
    "test['text'] = test['text'].apply(lambda x: x.replace(\" n't \",\"n't \"))"
   ],
   "metadata": {
    "collapsed": false,
    "ExecuteTime": {
     "start_time": "2023-04-18T11:24:24.530798Z",
     "end_time": "2023-04-18T11:24:24.599985Z"
    }
   }
  },
  {
   "cell_type": "code",
   "execution_count": 13,
   "outputs": [],
   "source": [
    "train['text'] = train['text'].apply(lambda x: x.replace(\"s'\",\"'s \"))\n",
    "\n",
    "test['text'] = test['text'].apply(lambda x: x.replace(\"s'\",\"'s \"))"
   ],
   "metadata": {
    "collapsed": false,
    "ExecuteTime": {
     "start_time": "2023-04-18T11:24:24.541919Z",
     "end_time": "2023-04-18T11:24:24.626872Z"
    }
   }
  },
  {
   "cell_type": "code",
   "execution_count": 14,
   "outputs": [
    {
     "data": {
      "text/plain": "train_idx\n0       i really do recommend this to anyone in need o...\n1       very good every day camera fits nicely in the ...\n2       but , dollar for dollar , this dvd player is p...\n3       i got this phone yesterday and didn't find any...\n4                                 1 ) price gb of storage\n                              ...                        \n3011    as for itunes , i don't find it to be as good ...\n3012    i have not played with all the features yet , ...\n3013    applications it has lots of applications and t...\n3014                                    battery non issue\n3015    the fm tuner , the 5g of storage , and the rem...\nName: text, Length: 3012, dtype: object"
     },
     "execution_count": 14,
     "metadata": {},
     "output_type": "execute_result"
    }
   ],
   "source": [
    "train['text']"
   ],
   "metadata": {
    "collapsed": false,
    "ExecuteTime": {
     "start_time": "2023-04-18T11:24:24.546107Z",
     "end_time": "2023-04-18T11:24:24.627339Z"
    }
   }
  },
  {
   "cell_type": "code",
   "execution_count": 15,
   "outputs": [],
   "source": [
    "# eliminamos las contracciones del tipo don't -> do not\n",
    "train[\"clean_text\"] = train[\"text\"].apply(lambda x: contractions.fix(x))\n",
    "\n",
    "test[\"clean_text\"] = test[\"text\"].apply(lambda x: contractions.fix(x))"
   ],
   "metadata": {
    "collapsed": false,
    "ExecuteTime": {
     "start_time": "2023-04-18T11:24:24.556362Z",
     "end_time": "2023-04-18T11:24:24.628516Z"
    }
   }
  },
  {
   "cell_type": "code",
   "execution_count": 16,
   "outputs": [
    {
     "data": {
      "text/plain": "train_idx\n0       i really do recommend this to anyone in need o...\n1       very good every day camera fits nicely in the ...\n2       but , dollar for dollar , this dvd player is p...\n3       i got this phone yesterday and did not find an...\n4                                 1 ) price gb of storage\n                              ...                        \n3011    as for itunes , i do not find it to be as good...\n3012    i have not played with all the features yet , ...\n3013    applications it has lots of applications and t...\n3014                                    battery non issue\n3015    the fm tuner , the 5g of storage , and the rem...\nName: clean_text, Length: 3012, dtype: object"
     },
     "execution_count": 16,
     "metadata": {},
     "output_type": "execute_result"
    }
   ],
   "source": [
    "train[\"clean_text\"]"
   ],
   "metadata": {
    "collapsed": false,
    "ExecuteTime": {
     "start_time": "2023-04-18T11:24:24.611844Z",
     "end_time": "2023-04-18T11:24:24.628813Z"
    }
   }
  },
  {
   "cell_type": "code",
   "execution_count": 17,
   "outputs": [],
   "source": [
    "def tokenizar(texto):\n",
    "    '''\n",
    "    Esta función limpia y tokeniza el texto en palabras individuales.\n",
    "    El orden en el que se va limpiando el texto no es arbitrario.\n",
    "    El listado de signos de puntuación se ha obtenido de: print(string.punctuation)\n",
    "    y re.escape(string.punctuation)\n",
    "    '''\n",
    "\n",
    "    # Se convierte t0do el texto a minúsculas\n",
    "    nuevo_texto = texto.lower()\n",
    "    # Eliminación de signos de puntuación\n",
    "    regex = '[\\\\!\\\\\"\\\\#\\\\$\\\\%\\\\&\\\\\\'\\\\(\\\\)\\\\*\\\\+\\\\,\\\\-\\\\.\\\\/\\\\:\\\\;\\\\<\\\\=\\\\>\\\\?\\\\@\\\\[\\\\\\\\\\\\]\\\\^_\\\\`\\\\{\\\\|\\\\}\\\\~]'\n",
    "    nuevo_texto = re.sub(regex , ' ', nuevo_texto)\n",
    "    # Eliminación de números\n",
    "    nuevo_texto = re.sub(\"\\d+\", ' ', nuevo_texto)\n",
    "    # Eliminación de espacios en blanco múltiples\n",
    "    nuevo_texto = re.sub(\"\\\\s+\", ' ', nuevo_texto)\n",
    "    # Tokenización por palabras individuales\n",
    "    nuevo_texto = nuevo_texto.split(sep = ' ')\n",
    "    # Eliminación de tokens con una longitud < 2\n",
    "    nuevo_texto = [token for token in nuevo_texto if len(token) > 1]\n",
    "\n",
    "    return(nuevo_texto)"
   ],
   "metadata": {
    "collapsed": false,
    "ExecuteTime": {
     "start_time": "2023-04-18T11:24:24.621557Z",
     "end_time": "2023-04-18T11:24:24.685677Z"
    }
   }
  },
  {
   "cell_type": "code",
   "execution_count": 18,
   "outputs": [
    {
     "data": {
      "text/plain": "                                                  clean_text  \\\ntrain_idx                                                      \n0          i really do recommend this to anyone in need o...   \n1          very good every day camera fits nicely in the ...   \n2          but , dollar for dollar , this dvd player is p...   \n3          i got this phone yesterday and did not find an...   \n4                                    1 ) price gb of storage   \n...                                                      ...   \n3011       as for itunes , i do not find it to be as good...   \n3012       i have not played with all the features yet , ...   \n3013       applications it has lots of applications and t...   \n3014                                       battery non issue   \n3015       the fm tuner , the 5g of storage , and the rem...   \n\n                                                       token  \ntrain_idx                                                     \n0          [really, do, recommend, this, to, anyone, in, ...  \n1          [very, good, every, day, camera, fits, nicely,...  \n2          [but, dollar, for, dollar, this, dvd, player, ...  \n3          [got, this, phone, yesterday, and, did, not, f...  \n4                                   [price, gb, of, storage]  \n...                                                      ...  \n3011       [as, for, itunes, do, not, find, it, to, be, a...  \n3012       [have, not, played, with, all, the, features, ...  \n3013       [applications, it, has, lots, of, applications...  \n3014                                   [battery, non, issue]  \n3015       [the, fm, tuner, the, of, storage, and, the, r...  \n\n[3012 rows x 2 columns]",
      "text/html": "<div>\n<style scoped>\n    .dataframe tbody tr th:only-of-type {\n        vertical-align: middle;\n    }\n\n    .dataframe tbody tr th {\n        vertical-align: top;\n    }\n\n    .dataframe thead th {\n        text-align: right;\n    }\n</style>\n<table border=\"1\" class=\"dataframe\">\n  <thead>\n    <tr style=\"text-align: right;\">\n      <th></th>\n      <th>clean_text</th>\n      <th>token</th>\n    </tr>\n    <tr>\n      <th>train_idx</th>\n      <th></th>\n      <th></th>\n    </tr>\n  </thead>\n  <tbody>\n    <tr>\n      <th>0</th>\n      <td>i really do recommend this to anyone in need o...</td>\n      <td>[really, do, recommend, this, to, anyone, in, ...</td>\n    </tr>\n    <tr>\n      <th>1</th>\n      <td>very good every day camera fits nicely in the ...</td>\n      <td>[very, good, every, day, camera, fits, nicely,...</td>\n    </tr>\n    <tr>\n      <th>2</th>\n      <td>but , dollar for dollar , this dvd player is p...</td>\n      <td>[but, dollar, for, dollar, this, dvd, player, ...</td>\n    </tr>\n    <tr>\n      <th>3</th>\n      <td>i got this phone yesterday and did not find an...</td>\n      <td>[got, this, phone, yesterday, and, did, not, f...</td>\n    </tr>\n    <tr>\n      <th>4</th>\n      <td>1 ) price gb of storage</td>\n      <td>[price, gb, of, storage]</td>\n    </tr>\n    <tr>\n      <th>...</th>\n      <td>...</td>\n      <td>...</td>\n    </tr>\n    <tr>\n      <th>3011</th>\n      <td>as for itunes , i do not find it to be as good...</td>\n      <td>[as, for, itunes, do, not, find, it, to, be, a...</td>\n    </tr>\n    <tr>\n      <th>3012</th>\n      <td>i have not played with all the features yet , ...</td>\n      <td>[have, not, played, with, all, the, features, ...</td>\n    </tr>\n    <tr>\n      <th>3013</th>\n      <td>applications it has lots of applications and t...</td>\n      <td>[applications, it, has, lots, of, applications...</td>\n    </tr>\n    <tr>\n      <th>3014</th>\n      <td>battery non issue</td>\n      <td>[battery, non, issue]</td>\n    </tr>\n    <tr>\n      <th>3015</th>\n      <td>the fm tuner , the 5g of storage , and the rem...</td>\n      <td>[the, fm, tuner, the, of, storage, and, the, r...</td>\n    </tr>\n  </tbody>\n</table>\n<p>3012 rows × 2 columns</p>\n</div>"
     },
     "execution_count": 18,
     "metadata": {},
     "output_type": "execute_result"
    }
   ],
   "source": [
    "train['token'] = train['clean_text'].apply(lambda x: tokenizar(x))\n",
    "test['token'] = test['clean_text'].apply(lambda x: tokenizar(x))\n",
    "train[['clean_text', 'token']]"
   ],
   "metadata": {
    "collapsed": false,
    "ExecuteTime": {
     "start_time": "2023-04-18T11:24:24.625601Z",
     "end_time": "2023-04-18T11:24:24.748837Z"
    }
   }
  },
  {
   "cell_type": "code",
   "execution_count": 19,
   "outputs": [
    {
     "data": {
      "text/plain": "                                                        text  label  \\\ntrain_idx                                                             \n0          i really do recommend this to anyone in need o...      1   \n0          i really do recommend this to anyone in need o...      1   \n0          i really do recommend this to anyone in need o...      1   \n0          i really do recommend this to anyone in need o...      1   \n0          i really do recommend this to anyone in need o...      1   \n\n                                                  clean_text      token  \ntrain_idx                                                                \n0          i really do recommend this to anyone in need o...     really  \n0          i really do recommend this to anyone in need o...         do  \n0          i really do recommend this to anyone in need o...  recommend  \n0          i really do recommend this to anyone in need o...       this  \n0          i really do recommend this to anyone in need o...         to  ",
      "text/html": "<div>\n<style scoped>\n    .dataframe tbody tr th:only-of-type {\n        vertical-align: middle;\n    }\n\n    .dataframe tbody tr th {\n        vertical-align: top;\n    }\n\n    .dataframe thead th {\n        text-align: right;\n    }\n</style>\n<table border=\"1\" class=\"dataframe\">\n  <thead>\n    <tr style=\"text-align: right;\">\n      <th></th>\n      <th>text</th>\n      <th>label</th>\n      <th>clean_text</th>\n      <th>token</th>\n    </tr>\n    <tr>\n      <th>train_idx</th>\n      <th></th>\n      <th></th>\n      <th></th>\n      <th></th>\n    </tr>\n  </thead>\n  <tbody>\n    <tr>\n      <th>0</th>\n      <td>i really do recommend this to anyone in need o...</td>\n      <td>1</td>\n      <td>i really do recommend this to anyone in need o...</td>\n      <td>really</td>\n    </tr>\n    <tr>\n      <th>0</th>\n      <td>i really do recommend this to anyone in need o...</td>\n      <td>1</td>\n      <td>i really do recommend this to anyone in need o...</td>\n      <td>do</td>\n    </tr>\n    <tr>\n      <th>0</th>\n      <td>i really do recommend this to anyone in need o...</td>\n      <td>1</td>\n      <td>i really do recommend this to anyone in need o...</td>\n      <td>recommend</td>\n    </tr>\n    <tr>\n      <th>0</th>\n      <td>i really do recommend this to anyone in need o...</td>\n      <td>1</td>\n      <td>i really do recommend this to anyone in need o...</td>\n      <td>this</td>\n    </tr>\n    <tr>\n      <th>0</th>\n      <td>i really do recommend this to anyone in need o...</td>\n      <td>1</td>\n      <td>i really do recommend this to anyone in need o...</td>\n      <td>to</td>\n    </tr>\n  </tbody>\n</table>\n</div>"
     },
     "execution_count": 19,
     "metadata": {},
     "output_type": "execute_result"
    }
   ],
   "source": [
    "Xtrain = train.explode('token')\n",
    "Xtest = test.explode('token')\n",
    "Xtrain.head()"
   ],
   "metadata": {
    "collapsed": false,
    "ExecuteTime": {
     "start_time": "2023-04-18T11:24:24.730071Z",
     "end_time": "2023-04-18T11:24:24.841660Z"
    }
   }
  },
  {
   "cell_type": "code",
   "execution_count": 20,
   "outputs": [
    {
     "data": {
      "text/plain": "count    3012.000000\nmean       16.293161\nstd         9.516930\nmin         1.000000\n25%         9.000000\n50%        14.000000\n75%        21.000000\nmax        72.000000\nName: token, dtype: float64"
     },
     "execution_count": 20,
     "metadata": {},
     "output_type": "execute_result"
    }
   ],
   "source": [
    "# Mean length and std of the reviews\n",
    "Xtrain.groupby(['train_idx'])['token'].count().describe()"
   ],
   "metadata": {
    "collapsed": false,
    "ExecuteTime": {
     "start_time": "2023-04-18T11:24:24.783488Z",
     "end_time": "2023-04-18T11:24:24.866336Z"
    }
   }
  },
  {
   "cell_type": "code",
   "execution_count": 21,
   "outputs": [
    {
     "data": {
      "text/plain": "the          3211\nand          1517\nis           1369\nit           1337\nto           1331\n             ... \nforeign         1\nhassles         1\nsubstance       1\nearned          1\nhandful         1\nName: token, Length: 4528, dtype: int64"
     },
     "execution_count": 21,
     "metadata": {},
     "output_type": "execute_result"
    }
   ],
   "source": [
    "# most used words in the reviews\n",
    "Xtrain['token'].value_counts(ascending=False)"
   ],
   "metadata": {
    "collapsed": false,
    "ExecuteTime": {
     "start_time": "2023-04-18T11:24:24.807315Z",
     "end_time": "2023-04-18T11:24:24.868234Z"
    }
   }
  },
  {
   "cell_type": "markdown",
   "source": [
    "Podemos observar como las palabras más utilizadas en las *reviews* son en su mayoría pronombres o conjunciones, que no aportan información alguna.\n",
    "\n",
    "Utilizaremos por tanto *stopwords* para eliminarlas."
   ],
   "metadata": {
    "collapsed": false
   }
  },
  {
   "cell_type": "code",
   "execution_count": 22,
   "outputs": [],
   "source": [
    "from nltk.corpus import stopwords\n",
    "# Obtain list of stopwords\n",
    "stop_words = set(stopwords.words('english'))"
   ],
   "metadata": {
    "collapsed": false,
    "ExecuteTime": {
     "start_time": "2023-04-18T11:24:24.822110Z",
     "end_time": "2023-04-18T11:24:24.868557Z"
    }
   }
  },
  {
   "cell_type": "code",
   "execution_count": 23,
   "outputs": [],
   "source": [
    "# filtering stopwords\n",
    "Xtrain = Xtrain[~(Xtrain[\"token\"].isin(stop_words))]\n",
    "Xtest = Xtest[~(Xtest[\"token\"].isin(stop_words))]"
   ],
   "metadata": {
    "collapsed": false,
    "ExecuteTime": {
     "start_time": "2023-04-18T11:24:24.835930Z",
     "end_time": "2023-04-18T11:24:24.993923Z"
    }
   }
  },
  {
   "cell_type": "code",
   "execution_count": 24,
   "outputs": [],
   "source": [
    "# Lematize\n",
    "lemma = nlp.WordNetLemmatizer()\n",
    "Xtrain['token'] = [lemma.lemmatize(x) for x in Xtrain.token]\n",
    "Xtest['token'] = [lemma.lemmatize(x) for x in Xtest.token]"
   ],
   "metadata": {
    "collapsed": false,
    "ExecuteTime": {
     "start_time": "2023-04-18T11:24:24.853865Z",
     "end_time": "2023-04-18T11:24:27.321852Z"
    }
   }
  },
  {
   "cell_type": "code",
   "execution_count": 25,
   "outputs": [
    {
     "data": {
      "text/plain": "<Figure size 1000x600 with 1 Axes>",
      "image/png": "[encoded data removed]"
     },
     "metadata": {},
     "output_type": "display_data"
    }
   ],
   "source": [
    "# Top 10 words without stopwords\n",
    "plt.figure(figsize=(10, 6))\n",
    "counts  = Xtrain['token'].value_counts(ascending=False).reset_index().head(10)\n",
    "sns.barplot(data = counts, y = 'index', x = 'token', orient= 'h', palette= 'bright')\n",
    "plt.show()"
   ],
   "metadata": {
    "collapsed": false,
    "ExecuteTime": {
     "start_time": "2023-04-18T11:24:27.329960Z",
     "end_time": "2023-04-18T11:24:27.571407Z"
    }
   }
  },
  {
   "cell_type": "code",
   "execution_count": 26,
   "outputs": [
    {
     "data": {
      "text/plain": "                                                  clean_text      token\ntrain_idx                                                              \n0          i really do recommend this to anyone in need o...     really\n0          i really do recommend this to anyone in need o...  recommend\n0          i really do recommend this to anyone in need o...     anyone\n0          i really do recommend this to anyone in need o...       need\n0          i really do recommend this to anyone in need o...        new\n...                                                      ...        ...\n3015       the fm tuner , the 5g of storage , and the rem...    storage\n3015       the fm tuner , the 5g of storage , and the rem...  removable\n3015       the fm tuner , the 5g of storage , and the rem...       disk\n3015       the fm tuner , the 5g of storage , and the rem...      great\n3015       the fm tuner , the 5g of storage , and the rem...    feature\n\n[25792 rows x 2 columns]",
      "text/html": "<div>\n<style scoped>\n    .dataframe tbody tr th:only-of-type {\n        vertical-align: middle;\n    }\n\n    .dataframe tbody tr th {\n        vertical-align: top;\n    }\n\n    .dataframe thead th {\n        text-align: right;\n    }\n</style>\n<table border=\"1\" class=\"dataframe\">\n  <thead>\n    <tr style=\"text-align: right;\">\n      <th></th>\n      <th>clean_text</th>\n      <th>token</th>\n    </tr>\n    <tr>\n      <th>train_idx</th>\n      <th></th>\n      <th></th>\n    </tr>\n  </thead>\n  <tbody>\n    <tr>\n      <th>0</th>\n      <td>i really do recommend this to anyone in need o...</td>\n      <td>really</td>\n    </tr>\n    <tr>\n      <th>0</th>\n      <td>i really do recommend this to anyone in need o...</td>\n      <td>recommend</td>\n    </tr>\n    <tr>\n      <th>0</th>\n      <td>i really do recommend this to anyone in need o...</td>\n      <td>anyone</td>\n    </tr>\n    <tr>\n      <th>0</th>\n      <td>i really do recommend this to anyone in need o...</td>\n      <td>need</td>\n    </tr>\n    <tr>\n      <th>0</th>\n      <td>i really do recommend this to anyone in need o...</td>\n      <td>new</td>\n    </tr>\n    <tr>\n      <th>...</th>\n      <td>...</td>\n      <td>...</td>\n    </tr>\n    <tr>\n      <th>3015</th>\n      <td>the fm tuner , the 5g of storage , and the rem...</td>\n      <td>storage</td>\n    </tr>\n    <tr>\n      <th>3015</th>\n      <td>the fm tuner , the 5g of storage , and the rem...</td>\n      <td>removable</td>\n    </tr>\n    <tr>\n      <th>3015</th>\n      <td>the fm tuner , the 5g of storage , and the rem...</td>\n      <td>disk</td>\n    </tr>\n    <tr>\n      <th>3015</th>\n      <td>the fm tuner , the 5g of storage , and the rem...</td>\n      <td>great</td>\n    </tr>\n    <tr>\n      <th>3015</th>\n      <td>the fm tuner , the 5g of storage , and the rem...</td>\n      <td>feature</td>\n    </tr>\n  </tbody>\n</table>\n<p>25792 rows × 2 columns</p>\n</div>"
     },
     "execution_count": 26,
     "metadata": {},
     "output_type": "execute_result"
    }
   ],
   "source": [
    "Xtrain[['clean_text','token']]"
   ],
   "metadata": {
    "collapsed": false,
    "ExecuteTime": {
     "start_time": "2023-04-18T11:24:27.585015Z",
     "end_time": "2023-04-18T11:24:27.590770Z"
    }
   }
  },
  {
   "cell_type": "code",
   "execution_count": 27,
   "outputs": [],
   "source": [
    "listaTrain = []\n",
    "listaTest = []\n",
    "for i in range(train.shape[0]):\n",
    "    listaTrain.append(' '.join(Xtrain.reset_index()[Xtrain.reset_index().train_idx == i]['token']))\n",
    "for i in range(test.shape[0]):\n",
    "    listaTest.append(' '.join(Xtest.reset_index()[Xtest.reset_index().test_idx == i]['token']))"
   ],
   "metadata": {
    "collapsed": false,
    "ExecuteTime": {
     "start_time": "2023-04-18T11:24:27.605748Z",
     "end_time": "2023-04-18T11:24:46.482975Z"
    }
   }
  },
  {
   "cell_type": "code",
   "execution_count": 28,
   "outputs": [],
   "source": [
    "XtrainNew = pd.DataFrame(listaTrain)"
   ],
   "metadata": {
    "collapsed": false,
    "ExecuteTime": {
     "start_time": "2023-04-18T11:24:46.485499Z",
     "end_time": "2023-04-18T11:24:46.489526Z"
    }
   }
  },
  {
   "cell_type": "code",
   "execution_count": 29,
   "outputs": [],
   "source": [
    "os = []\n",
    "for sentence in Xtrain.clean_text:\n",
    "    if ' os ' in sentence:\n",
    "        os.append((Xtrain[Xtrain.clean_text == sentence].index[0]))"
   ],
   "metadata": {
    "collapsed": false,
    "ExecuteTime": {
     "start_time": "2023-04-18T11:24:46.541236Z",
     "end_time": "2023-04-18T11:24:46.692534Z"
    }
   }
  },
  {
   "cell_type": "code",
   "execution_count": 30,
   "outputs": [
    {
     "data": {
      "text/plain": "{6, 988, 1767, 2497, 2599, 2714, 2912}"
     },
     "execution_count": 30,
     "metadata": {},
     "output_type": "execute_result"
    }
   ],
   "source": [
    "set(os)"
   ],
   "metadata": {
    "collapsed": false,
    "ExecuteTime": {
     "start_time": "2023-04-18T11:24:46.695037Z",
     "end_time": "2023-04-18T11:24:46.701406Z"
    }
   }
  },
  {
   "cell_type": "code",
   "execution_count": 31,
   "outputs": [],
   "source": [
    "XtrainNew.loc[[6,988,1767,2497,2714,2912],0] = XtrainNew.loc[[6,988,1767,2497,2714,2912],0].apply(lambda x: x.replace('o ', 'os ') )\n",
    "XtrainNew.loc[[6,988,1767,2497,2714,2912],0] = XtrainNew.loc[[6,988,1767,2497,2714,2912],0].apply(lambda x: x.replace(' o', ' os') )"
   ],
   "metadata": {
    "collapsed": false,
    "ExecuteTime": {
     "start_time": "2023-04-18T11:24:46.711590Z",
     "end_time": "2023-04-18T11:24:46.715210Z"
    }
   }
  },
  {
   "cell_type": "code",
   "execution_count": 32,
   "outputs": [
    {
     "data": {
      "text/plain": "                                                      0\n0               really recommend anyone need new player\n1     good every day camera fit nicely pocket jean t...\n2                dollar dollar dvd player probably best\n3                  got phone yesterday find problem yet\n4                                      price gb storage\n...                                                 ...\n3007  multiple user one machine never seemed behave ...\n3008                                 love storage thing\n3009  wanted raised panel work needed power variable...\n3010  big would probably another since shop complete...\n3011  itunes find good window medium player computer...\n\n[3012 rows x 1 columns]",
      "text/html": "<div>\n<style scoped>\n    .dataframe tbody tr th:only-of-type {\n        vertical-align: middle;\n    }\n\n    .dataframe tbody tr th {\n        vertical-align: top;\n    }\n\n    .dataframe thead th {\n        text-align: right;\n    }\n</style>\n<table border=\"1\" class=\"dataframe\">\n  <thead>\n    <tr style=\"text-align: right;\">\n      <th></th>\n      <th>0</th>\n    </tr>\n  </thead>\n  <tbody>\n    <tr>\n      <th>0</th>\n      <td>really recommend anyone need new player</td>\n    </tr>\n    <tr>\n      <th>1</th>\n      <td>good every day camera fit nicely pocket jean t...</td>\n    </tr>\n    <tr>\n      <th>2</th>\n      <td>dollar dollar dvd player probably best</td>\n    </tr>\n    <tr>\n      <th>3</th>\n      <td>got phone yesterday find problem yet</td>\n    </tr>\n    <tr>\n      <th>4</th>\n      <td>price gb storage</td>\n    </tr>\n    <tr>\n      <th>...</th>\n      <td>...</td>\n    </tr>\n    <tr>\n      <th>3007</th>\n      <td>multiple user one machine never seemed behave ...</td>\n    </tr>\n    <tr>\n      <th>3008</th>\n      <td>love storage thing</td>\n    </tr>\n    <tr>\n      <th>3009</th>\n      <td>wanted raised panel work needed power variable...</td>\n    </tr>\n    <tr>\n      <th>3010</th>\n      <td>big would probably another since shop complete...</td>\n    </tr>\n    <tr>\n      <th>3011</th>\n      <td>itunes find good window medium player computer...</td>\n    </tr>\n  </tbody>\n</table>\n<p>3012 rows × 1 columns</p>\n</div>"
     },
     "execution_count": 32,
     "metadata": {},
     "output_type": "execute_result"
    }
   ],
   "source": [
    "XtrainNew"
   ],
   "metadata": {
    "collapsed": false,
    "ExecuteTime": {
     "start_time": "2023-04-18T11:24:46.725402Z",
     "end_time": "2023-04-18T11:24:46.761013Z"
    }
   }
  },
  {
   "cell_type": "code",
   "execution_count": 33,
   "outputs": [],
   "source": [
    "XtestNew = pd.DataFrame(listaTest)"
   ],
   "metadata": {
    "collapsed": false,
    "ExecuteTime": {
     "start_time": "2023-04-18T11:24:46.733489Z",
     "end_time": "2023-04-18T11:24:46.761200Z"
    }
   }
  },
  {
   "cell_type": "code",
   "execution_count": 34,
   "outputs": [],
   "source": [
    "os = []\n",
    "for sentence in Xtest.clean_text:\n",
    "    if ' os ' in sentence:\n",
    "        os.append((Xtest[Xtest.clean_text == sentence].index[0]))"
   ],
   "metadata": {
    "collapsed": false,
    "ExecuteTime": {
     "start_time": "2023-04-18T11:24:46.783440Z",
     "end_time": "2023-04-18T11:24:46.806986Z"
    }
   }
  },
  {
   "cell_type": "code",
   "execution_count": 35,
   "outputs": [
    {
     "data": {
      "text/plain": "{11, 91, 725}"
     },
     "execution_count": 35,
     "metadata": {},
     "output_type": "execute_result"
    }
   ],
   "source": [
    "set(os)"
   ],
   "metadata": {
    "collapsed": false,
    "ExecuteTime": {
     "start_time": "2023-04-18T11:24:46.787183Z",
     "end_time": "2023-04-18T11:24:46.919686Z"
    }
   }
  },
  {
   "cell_type": "code",
   "execution_count": 36,
   "outputs": [],
   "source": [
    "XtestNew.loc[[11,91,725],0] = XtestNew.loc[[11,91,725],0].apply(lambda x: x.replace('o ', 'os ') )\n",
    "XtestNew.loc[[11,91,725],0] = XtestNew.loc[[11,91,725],0].apply(lambda x: x.replace(' o', ' os') )"
   ],
   "metadata": {
    "collapsed": false,
    "ExecuteTime": {
     "start_time": "2023-04-18T11:24:46.795852Z",
     "end_time": "2023-04-18T11:24:46.920614Z"
    }
   }
  },
  {
   "cell_type": "code",
   "execution_count": 37,
   "outputs": [
    {
     "data": {
      "text/plain": "11     quite simply firmware oss control thing ready ...\n91     simian series oss great osffer lot proprietary...\n725    nokia run symbian oss work pretty well standar...\nName: 0, dtype: object"
     },
     "execution_count": 37,
     "metadata": {},
     "output_type": "execute_result"
    }
   ],
   "source": [
    "XtestNew.loc[[11,91,725],0]"
   ],
   "metadata": {
    "collapsed": false,
    "ExecuteTime": {
     "start_time": "2023-04-18T11:24:46.814512Z",
     "end_time": "2023-04-18T11:24:46.959887Z"
    }
   }
  },
  {
   "cell_type": "code",
   "execution_count": 42,
   "outputs": [],
   "source": [
    "XtrainNew.to_csv('../Data/New/XtrainNew.csv', sep = '|')\n",
    "XtestNew.to_csv('../Data/New/XtestNew.csv', sep = '|')"
   ],
   "metadata": {
    "collapsed": false,
    "ExecuteTime": {
     "start_time": "2023-04-18T11:31:33.051479Z",
     "end_time": "2023-04-18T11:31:33.098034Z"
    }
   }
  },
  {
   "cell_type": "code",
   "execution_count": 53,
   "outputs": [
    {
     "data": {
      "text/plain": "0                 really recommend anyone need new player\n1       good every day camera fit nicely pocket jean t...\n2                  dollar dollar dvd player probably best\n3                    got phone yesterday find problem yet\n4                                        price gb storage\n                              ...                        \n3007    multiple user one machine never seemed behave ...\n3008                                   love storage thing\n3009    wanted raised panel work needed power variable...\n3010    big would probably another since shop complete...\n3011    itunes find good window medium player computer...\nName: 0, Length: 3012, dtype: object"
     },
     "execution_count": 53,
     "metadata": {},
     "output_type": "execute_result"
    }
   ],
   "source": [
    "XtrainNew[0]"
   ],
   "metadata": {
    "collapsed": false,
    "ExecuteTime": {
     "start_time": "2023-04-18T11:33:29.801258Z",
     "end_time": "2023-04-18T11:33:29.819122Z"
    }
   }
  },
  {
   "cell_type": "code",
   "execution_count": 93,
   "outputs": [
    {
     "data": {
      "text/plain": "TfidfVectorizer(min_df=0.005, ngram_range=(1, 3))"
     },
     "execution_count": 93,
     "metadata": {},
     "output_type": "execute_result"
    }
   ],
   "source": [
    "tfidf_vectorizador = TfidfVectorizer(ngram_range=(1, 3), stop_words=None, min_df=0.005)\n",
    "tfidf_vectorizador.fit(XtrainNew[0])"
   ],
   "metadata": {
    "collapsed": false,
    "ExecuteTime": {
     "start_time": "2023-04-18T11:41:28.314811Z",
     "end_time": "2023-04-18T11:41:28.523411Z"
    }
   }
  },
  {
   "cell_type": "code",
   "execution_count": 94,
   "outputs": [],
   "source": [
    "Xtrain = tfidf_vectorizador.fit_transform(XtrainNew[0])\n",
    "Xtest = tfidf_vectorizador.transform(XtestNew[0])\n",
    "Ytrain = train.label"
   ],
   "metadata": {
    "collapsed": false,
    "ExecuteTime": {
     "start_time": "2023-04-18T11:41:28.732924Z",
     "end_time": "2023-04-18T11:41:28.898236Z"
    }
   }
  },
  {
   "cell_type": "code",
   "execution_count": 95,
   "outputs": [
    {
     "data": {
      "text/plain": "      ability  able  access  actually  adjustment  almost  already  also  \\\n0         0.0   0.0     0.0       0.0         0.0     0.0      0.0   0.0   \n1         0.0   0.0     0.0       0.0         0.0     0.0      0.0   0.0   \n2         0.0   0.0     0.0       0.0         0.0     0.0      0.0   0.0   \n3         0.0   0.0     0.0       0.0         0.0     0.0      0.0   0.0   \n4         0.0   0.0     0.0       0.0         0.0     0.0      0.0   0.0   \n...       ...   ...     ...       ...         ...     ...      ...   ...   \n3007      0.0   0.0     0.0       0.0         0.0     0.0      0.0   0.0   \n3008      0.0   0.0     0.0       0.0         0.0     0.0      0.0   0.0   \n3009      0.0   0.0     0.0       0.0         0.0     0.0      0.0   0.0   \n3010      0.0   0.0     0.0       0.0         0.0     0.0      0.0   0.0   \n3011      0.0   0.0     0.0       0.0         0.0     0.0      0.0   0.0   \n\n      although  always  ...  working  worth     would  xtra  year       yet  \\\n0          0.0     0.0  ...      0.0    0.0  0.000000   0.0   0.0  0.000000   \n1          0.0     0.0  ...      0.0    0.0  0.000000   0.0   0.0  0.000000   \n2          0.0     0.0  ...      0.0    0.0  0.000000   0.0   0.0  0.000000   \n3          0.0     0.0  ...      0.0    0.0  0.000000   0.0   0.0  0.554401   \n4          0.0     0.0  ...      0.0    0.0  0.000000   0.0   0.0  0.000000   \n...        ...     ...  ...      ...    ...       ...   ...   ...       ...   \n3007       0.0     0.0  ...      0.0    0.0  0.338875   0.0   0.0  0.000000   \n3008       0.0     0.0  ...      0.0    0.0  0.000000   0.0   0.0  0.000000   \n3009       0.0     0.0  ...      0.0    0.0  0.000000   0.0   0.0  0.000000   \n3010       0.0     0.0  ...      0.0    0.0  0.293712   0.0   0.0  0.000000   \n3011       0.0     0.0  ...      0.0    0.0  0.000000   0.0   0.0  0.000000   \n\n      zen  zen micro  zen xtra  zoom  \n0     0.0        0.0       0.0   0.0  \n1     0.0        0.0       0.0   0.0  \n2     0.0        0.0       0.0   0.0  \n3     0.0        0.0       0.0   0.0  \n4     0.0        0.0       0.0   0.0  \n...   ...        ...       ...   ...  \n3007  0.0        0.0       0.0   0.0  \n3008  0.0        0.0       0.0   0.0  \n3009  0.0        0.0       0.0   0.0  \n3010  0.0        0.0       0.0   0.0  \n3011  0.0        0.0       0.0   0.0  \n\n[3012 rows x 357 columns]",
      "text/html": "<div>\n<style scoped>\n    .dataframe tbody tr th:only-of-type {\n        vertical-align: middle;\n    }\n\n    .dataframe tbody tr th {\n        vertical-align: top;\n    }\n\n    .dataframe thead th {\n        text-align: right;\n    }\n</style>\n<table border=\"1\" class=\"dataframe\">\n  <thead>\n    <tr style=\"text-align: right;\">\n      <th></th>\n      <th>ability</th>\n      <th>able</th>\n      <th>access</th>\n      <th>actually</th>\n      <th>adjustment</th>\n      <th>almost</th>\n      <th>already</th>\n      <th>also</th>\n      <th>although</th>\n      <th>always</th>\n      <th>...</th>\n      <th>working</th>\n      <th>worth</th>\n      <th>would</th>\n      <th>xtra</th>\n      <th>year</th>\n      <th>yet</th>\n      <th>zen</th>\n      <th>zen micro</th>\n      <th>zen xtra</th>\n      <th>zoom</th>\n    </tr>\n  </thead>\n  <tbody>\n    <tr>\n      <th>0</th>\n      <td>0.0</td>\n      <td>0.0</td>\n      <td>0.0</td>\n      <td>0.0</td>\n      <td>0.0</td>\n      <td>0.0</td>\n      <td>0.0</td>\n      <td>0.0</td>\n      <td>0.0</td>\n      <td>0.0</td>\n      <td>...</td>\n      <td>0.0</td>\n      <td>0.0</td>\n      <td>0.000000</td>\n      <td>0.0</td>\n      <td>0.0</td>\n      <td>0.000000</td>\n      <td>0.0</td>\n      <td>0.0</td>\n      <td>0.0</td>\n      <td>0.0</td>\n    </tr>\n    <tr>\n      <th>1</th>\n      <td>0.0</td>\n      <td>0.0</td>\n      <td>0.0</td>\n      <td>0.0</td>\n      <td>0.0</td>\n      <td>0.0</td>\n      <td>0.0</td>\n      <td>0.0</td>\n      <td>0.0</td>\n      <td>0.0</td>\n      <td>...</td>\n      <td>0.0</td>\n      <td>0.0</td>\n      <td>0.000000</td>\n      <td>0.0</td>\n      <td>0.0</td>\n      <td>0.000000</td>\n      <td>0.0</td>\n      <td>0.0</td>\n      <td>0.0</td>\n      <td>0.0</td>\n    </tr>\n    <tr>\n      <th>2</th>\n      <td>0.0</td>\n      <td>0.0</td>\n      <td>0.0</td>\n      <td>0.0</td>\n      <td>0.0</td>\n      <td>0.0</td>\n      <td>0.0</td>\n      <td>0.0</td>\n      <td>0.0</td>\n      <td>0.0</td>\n      <td>...</td>\n      <td>0.0</td>\n      <td>0.0</td>\n      <td>0.000000</td>\n      <td>0.0</td>\n      <td>0.0</td>\n      <td>0.000000</td>\n      <td>0.0</td>\n      <td>0.0</td>\n      <td>0.0</td>\n      <td>0.0</td>\n    </tr>\n    <tr>\n      <th>3</th>\n      <td>0.0</td>\n      <td>0.0</td>\n      <td>0.0</td>\n      <td>0.0</td>\n      <td>0.0</td>\n      <td>0.0</td>\n      <td>0.0</td>\n      <td>0.0</td>\n      <td>0.0</td>\n      <td>0.0</td>\n      <td>...</td>\n      <td>0.0</td>\n      <td>0.0</td>\n      <td>0.000000</td>\n      <td>0.0</td>\n      <td>0.0</td>\n      <td>0.554401</td>\n      <td>0.0</td>\n      <td>0.0</td>\n      <td>0.0</td>\n      <td>0.0</td>\n    </tr>\n    <tr>\n      <th>4</th>\n      <td>0.0</td>\n      <td>0.0</td>\n      <td>0.0</td>\n      <td>0.0</td>\n      <td>0.0</td>\n      <td>0.0</td>\n      <td>0.0</td>\n      <td>0.0</td>\n      <td>0.0</td>\n      <td>0.0</td>\n      <td>...</td>\n      <td>0.0</td>\n      <td>0.0</td>\n      <td>0.000000</td>\n      <td>0.0</td>\n      <td>0.0</td>\n      <td>0.000000</td>\n      <td>0.0</td>\n      <td>0.0</td>\n      <td>0.0</td>\n      <td>0.0</td>\n    </tr>\n    <tr>\n      <th>...</th>\n      <td>...</td>\n      <td>...</td>\n      <td>...</td>\n      <td>...</td>\n      <td>...</td>\n      <td>...</td>\n      <td>...</td>\n      <td>...</td>\n      <td>...</td>\n      <td>...</td>\n      <td>...</td>\n      <td>...</td>\n      <td>...</td>\n      <td>...</td>\n      <td>...</td>\n      <td>...</td>\n      <td>...</td>\n      <td>...</td>\n      <td>...</td>\n      <td>...</td>\n      <td>...</td>\n    </tr>\n    <tr>\n      <th>3007</th>\n      <td>0.0</td>\n      <td>0.0</td>\n      <td>0.0</td>\n      <td>0.0</td>\n      <td>0.0</td>\n      <td>0.0</td>\n      <td>0.0</td>\n      <td>0.0</td>\n      <td>0.0</td>\n      <td>0.0</td>\n      <td>...</td>\n      <td>0.0</td>\n      <td>0.0</td>\n      <td>0.338875</td>\n      <td>0.0</td>\n      <td>0.0</td>\n      <td>0.000000</td>\n      <td>0.0</td>\n      <td>0.0</td>\n      <td>0.0</td>\n      <td>0.0</td>\n    </tr>\n    <tr>\n      <th>3008</th>\n      <td>0.0</td>\n      <td>0.0</td>\n      <td>0.0</td>\n      <td>0.0</td>\n      <td>0.0</td>\n      <td>0.0</td>\n      <td>0.0</td>\n      <td>0.0</td>\n      <td>0.0</td>\n      <td>0.0</td>\n      <td>...</td>\n      <td>0.0</td>\n      <td>0.0</td>\n      <td>0.000000</td>\n      <td>0.0</td>\n      <td>0.0</td>\n      <td>0.000000</td>\n      <td>0.0</td>\n      <td>0.0</td>\n      <td>0.0</td>\n      <td>0.0</td>\n    </tr>\n    <tr>\n      <th>3009</th>\n      <td>0.0</td>\n      <td>0.0</td>\n      <td>0.0</td>\n      <td>0.0</td>\n      <td>0.0</td>\n      <td>0.0</td>\n      <td>0.0</td>\n      <td>0.0</td>\n      <td>0.0</td>\n      <td>0.0</td>\n      <td>...</td>\n      <td>0.0</td>\n      <td>0.0</td>\n      <td>0.000000</td>\n      <td>0.0</td>\n      <td>0.0</td>\n      <td>0.000000</td>\n      <td>0.0</td>\n      <td>0.0</td>\n      <td>0.0</td>\n      <td>0.0</td>\n    </tr>\n    <tr>\n      <th>3010</th>\n      <td>0.0</td>\n      <td>0.0</td>\n      <td>0.0</td>\n      <td>0.0</td>\n      <td>0.0</td>\n      <td>0.0</td>\n      <td>0.0</td>\n      <td>0.0</td>\n      <td>0.0</td>\n      <td>0.0</td>\n      <td>...</td>\n      <td>0.0</td>\n      <td>0.0</td>\n      <td>0.293712</td>\n      <td>0.0</td>\n      <td>0.0</td>\n      <td>0.000000</td>\n      <td>0.0</td>\n      <td>0.0</td>\n      <td>0.0</td>\n      <td>0.0</td>\n    </tr>\n    <tr>\n      <th>3011</th>\n      <td>0.0</td>\n      <td>0.0</td>\n      <td>0.0</td>\n      <td>0.0</td>\n      <td>0.0</td>\n      <td>0.0</td>\n      <td>0.0</td>\n      <td>0.0</td>\n      <td>0.0</td>\n      <td>0.0</td>\n      <td>...</td>\n      <td>0.0</td>\n      <td>0.0</td>\n      <td>0.000000</td>\n      <td>0.0</td>\n      <td>0.0</td>\n      <td>0.000000</td>\n      <td>0.0</td>\n      <td>0.0</td>\n      <td>0.0</td>\n      <td>0.0</td>\n    </tr>\n  </tbody>\n</table>\n<p>3012 rows × 357 columns</p>\n</div>"
     },
     "execution_count": 95,
     "metadata": {},
     "output_type": "execute_result"
    }
   ],
   "source": [
    "pd.DataFrame(Xtrain.toarray(), columns=tfidf_vectorizador.get_feature_names_out())"
   ],
   "metadata": {
    "collapsed": false,
    "ExecuteTime": {
     "start_time": "2023-04-18T11:41:29.252206Z",
     "end_time": "2023-04-18T11:41:29.317279Z"
    }
   }
  },
  {
   "cell_type": "code",
   "execution_count": 96,
   "outputs": [],
   "source": [
    "kf = KFold(n_splits=3, shuffle=True, random_state=0)"
   ],
   "metadata": {
    "collapsed": false,
    "ExecuteTime": {
     "start_time": "2023-04-18T11:41:32.425092Z",
     "end_time": "2023-04-18T11:41:32.458481Z"
    }
   }
  },
  {
   "cell_type": "code",
   "execution_count": 97,
   "outputs": [],
   "source": [
    "models = []\n",
    "models.append(('glm', LogisticRegression(random_state=99)))\n",
    "models.append(('dectree', DecisionTreeClassifier(random_state=99)))\n",
    "models.append(('rf', RandomForestClassifier(random_state=99)))\n",
    "models.append(('gb', GradientBoostingClassifier(random_state=99)))\n",
    "models.append(('xgb', XGBClassifier()))\n",
    "models.append(('bag', BaggingClassifier(random_state=99)))\n",
    "models.append(('svmr', SVC(random_state=99)))\n",
    "models.append(('svml', SVC(kernel='linear', random_state=99)))\n",
    "\n",
    "\n",
    "def boxplots_algorithms(results, names):\n",
    "    plt.figure(figsize=(8, 8))\n",
    "    plt.boxplot(results)\n",
    "    plt.xticks(range(1, len(names) + 1), names)\n",
    "    plt.show()"
   ],
   "metadata": {
    "collapsed": false,
    "ExecuteTime": {
     "start_time": "2023-04-18T11:41:32.916816Z",
     "end_time": "2023-04-18T11:41:32.932479Z"
    }
   }
  },
  {
   "cell_type": "code",
   "execution_count": 98,
   "outputs": [
    {
     "data": {
      "text/plain": "<Figure size 800x800 with 1 Axes>",
      "image/png": "[encoded data removed]"
     },
     "metadata": {},
     "output_type": "display_data"
    }
   ],
   "source": [
    "results = []\n",
    "names = []\n",
    "\n",
    "for name, model in models:\n",
    "    acc = cross_val_score(model, Xtrain, Ytrain, cv=kf, scoring='f1')\n",
    "    names.append(name)\n",
    "    results.append(acc)\n",
    "\n",
    "boxplots_algorithms(results, names)"
   ],
   "metadata": {
    "collapsed": false,
    "ExecuteTime": {
     "start_time": "2023-04-18T11:41:33.608556Z",
     "end_time": "2023-04-18T11:41:44.578401Z"
    }
   }
  },
  {
   "cell_type": "code",
   "execution_count": 109,
   "outputs": [],
   "source": [
    "Xtrain = pd.DataFrame(Xtrain.toarray(), columns=tfidf_vectorizador.get_feature_names_out())\n",
    "\n",
    "xtrain,xtest,ytrain,ytest = train_test_split(Xtrain,Ytrain,test_size= 0.2)\n",
    "\n",
    "xtrain = asarray(xtrain)\n",
    "ytrain = asarray(ytrain)\n",
    "xtest = asarray(xtest)\n",
    "ytest = asarray(ytest)"
   ],
   "metadata": {
    "collapsed": false,
    "ExecuteTime": {
     "start_time": "2023-04-18T11:48:05.918678Z",
     "end_time": "2023-04-18T11:48:05.947487Z"
    }
   }
  },
  {
   "cell_type": "code",
   "execution_count": 111,
   "outputs": [],
   "source": [
    "from keras import backend as K\n",
    "\n",
    "def recall_m(y_true, y_pred):\n",
    "    true_positives = K.sum(K.round(K.clip(y_true * y_pred, 0, 1)))\n",
    "    possible_positives = K.sum(K.round(K.clip(y_true, 0, 1)))\n",
    "    recall = true_positives / (possible_positives +\n",
    "    K.epsilon())\n",
    "    return recall\n",
    "\n",
    "def precision_m(y_true, y_pred):\n",
    "    true_positives = K.sum(K.round(K.clip(y_true * y_pred, 0, 1)))\n",
    "    predicted_positives = K.sum(K.round(K.clip(y_pred, 0, 1)))\n",
    "    precision = true_positives / (predicted_positives + K.epsilon())\n",
    "    return precision"
   ],
   "metadata": {
    "collapsed": false,
    "ExecuteTime": {
     "start_time": "2023-04-18T11:48:33.689170Z",
     "end_time": "2023-04-18T11:48:33.713550Z"
    }
   }
  },
  {
   "cell_type": "code",
   "execution_count": 113,
   "outputs": [
    {
     "name": "stdout",
     "output_type": "stream",
     "text": [
      "Best Validation Loss: 0.5975\n",
      "Best Validation f1: 0.7539\n"
     ]
    }
   ],
   "source": [
    "# definimos la red\n",
    "model = keras.Sequential([\n",
    "    layers.Dense(1, activation='sigmoid', input_shape=[357]) # umbral por defecto de 0.5\n",
    "])\n",
    "# sigmoid nos dice que el problema va a ser de clasificación (1s o 0s)\n",
    "# la métrica y el tipo de red\n",
    "def f1_m(y_true, y_pred):\n",
    "    precision = precision_m(y_true, y_pred)\n",
    "    recall = recall_m(y_true, y_pred)\n",
    "    return 2*((precision*recall)/(precision+recall+K.epsilon()))\n",
    "\n",
    "model.compile(\n",
    "    optimizer='adam',\n",
    "    loss='binary_crossentropy',\n",
    "    #metrics=['binary_accuracy']\n",
    "    metrics=[f1_m],\n",
    ")\n",
    "# definimos el early stopping para evitar sobreajuste\n",
    "early_stopping = EarlyStopping(\n",
    "    min_delta=0.001, # minimium amount of change to count as an improvement\n",
    "    patience=40, # how many epochs to wait before stopping\n",
    "    restore_best_weights=True,\n",
    ")\n",
    "# lo ajustamos y usamos el test para validar\n",
    "# definimos un número de épocas alto, porque tenemos early stopping\n",
    "history = model.fit(\n",
    "    xtrain, ytrain,\n",
    "    validation_data=(xtest, ytest),\n",
    "    batch_size=256,\n",
    "    epochs=700,\n",
    "    callbacks=[early_stopping], # put your callbacks in a list\n",
    "    verbose=0,  # turn off training log\n",
    ")\n",
    "# guardamos los datos en un dataframe\n",
    "history_df = pd.DataFrame(history.history)\n",
    "# Start the plot at epoch 5\n",
    "history_df.loc[5:, ['loss', 'val_loss']].plot()\n",
    "history_df.loc[5:, ['f1_m', 'val_f1_m']].plot()\n",
    "\n",
    "print((\"Best Validation Loss: {:0.4f}\" +\\\n",
    "      \"\\nBest Validation f1: {:0.4f}\")\\\n",
    "      .format(history_df['f1_m'].min(),\n",
    "              history_df['val_f1_m'].max()))"
   ],
   "metadata": {
    "collapsed": false,
    "ExecuteTime": {
     "start_time": "2023-04-18T11:49:34.267715Z",
     "end_time": "2023-04-18T11:49:46.422425Z"
    }
   }
  },
  {
   "cell_type": "code",
   "execution_count": null,
   "outputs": [],
   "source": [],
   "metadata": {
    "collapsed": false
   }
  }
 ],
 "metadata": {
  "kernelspec": {
   "display_name": "Python 3",
   "language": "python",
   "name": "python3"
  },
  "language_info": {
   "codemirror_mode": {
    "name": "ipython",
    "version": 2
   },
   "file_extension": ".py",
   "mimetype": "text/x-python",
   "name": "python",
   "nbconvert_exporter": "python",
   "pygments_lexer": "ipython2",
   "version": "2.7.6"
  }
 },
 "nbformat": 4,
 "nbformat_minor": 0
}
